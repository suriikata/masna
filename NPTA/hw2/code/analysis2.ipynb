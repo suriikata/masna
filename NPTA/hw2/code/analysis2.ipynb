{
 "cells": [
  {
   "attachments": {},
   "cell_type": "markdown",
   "metadata": {},
   "source": [
    "## NPTA Homework 2 "
   ]
  },
  {
   "attachments": {},
   "cell_type": "markdown",
   "metadata": {},
   "source": [
    "### Dataset 2: Stroke Prediction Dataset\n",
    "\n",
    "\n",
    "Attribute information:\n",
    "\n",
    "* **ID**: unique identifier\n",
    "* **Gender**: Male/Female (nominal/binary)\n",
    "* **Age**: Age oo patient (continious)\n",
    "* **Hypertension**: 0 patient doesnt have, 1 patient has hypertension (binary)\n",
    "* **Heart_disease**: 0 patient doenst have, 1 patient has any heart diseases (binary)\n",
    "* **Ever_married**: yes / no (binary)\n",
    "* **Work_type**: 5 different work types (nominal)\n",
    "* **Residence_type**: Rural / urban (nominal/binary)\n",
    "* **Avg_glucose_level**: average glucose level in blood (continious)\n",
    "* **BMI**: body mass index (continious)\n",
    "* **Smoking_status**: 4 different types (nominal)\n",
    "* **Stroke**: 1 if patient has a stroke, 0 if not (binary)"
   ]
  },
  {
   "cell_type": "code",
   "execution_count": 2,
   "metadata": {
    "vscode": {
     "languageId": "r"
    }
   },
   "outputs": [
    {
     "data": {
      "text/html": [
       "<table class=\"dataframe\">\n",
       "<caption>A data.frame: 6 × 12</caption>\n",
       "<thead>\n",
       "\t<tr><th></th><th scope=col>id</th><th scope=col>gender</th><th scope=col>age</th><th scope=col>hypertension</th><th scope=col>heart_disease</th><th scope=col>ever_married</th><th scope=col>work_type</th><th scope=col>Residence_type</th><th scope=col>avg_glucose_level</th><th scope=col>bmi</th><th scope=col>smoking_status</th><th scope=col>stroke</th></tr>\n",
       "\t<tr><th></th><th scope=col>&lt;int&gt;</th><th scope=col>&lt;chr&gt;</th><th scope=col>&lt;dbl&gt;</th><th scope=col>&lt;int&gt;</th><th scope=col>&lt;int&gt;</th><th scope=col>&lt;chr&gt;</th><th scope=col>&lt;chr&gt;</th><th scope=col>&lt;chr&gt;</th><th scope=col>&lt;dbl&gt;</th><th scope=col>&lt;chr&gt;</th><th scope=col>&lt;chr&gt;</th><th scope=col>&lt;int&gt;</th></tr>\n",
       "</thead>\n",
       "<tbody>\n",
       "\t<tr><th scope=row>1</th><td> 9046</td><td>Male  </td><td>67</td><td>0</td><td>1</td><td>Yes</td><td>Private      </td><td>Urban</td><td>228.69</td><td>36.6</td><td>formerly smoked</td><td>1</td></tr>\n",
       "\t<tr><th scope=row>2</th><td>51676</td><td>Female</td><td>61</td><td>0</td><td>0</td><td>Yes</td><td>Self-employed</td><td>Rural</td><td>202.21</td><td>N/A </td><td>never smoked   </td><td>1</td></tr>\n",
       "\t<tr><th scope=row>3</th><td>31112</td><td>Male  </td><td>80</td><td>0</td><td>1</td><td>Yes</td><td>Private      </td><td>Rural</td><td>105.92</td><td>32.5</td><td>never smoked   </td><td>1</td></tr>\n",
       "\t<tr><th scope=row>4</th><td>60182</td><td>Female</td><td>49</td><td>0</td><td>0</td><td>Yes</td><td>Private      </td><td>Urban</td><td>171.23</td><td>34.4</td><td>smokes         </td><td>1</td></tr>\n",
       "\t<tr><th scope=row>5</th><td> 1665</td><td>Female</td><td>79</td><td>1</td><td>0</td><td>Yes</td><td>Self-employed</td><td>Rural</td><td>174.12</td><td>24  </td><td>never smoked   </td><td>1</td></tr>\n",
       "\t<tr><th scope=row>6</th><td>56669</td><td>Male  </td><td>81</td><td>0</td><td>0</td><td>Yes</td><td>Private      </td><td>Urban</td><td>186.21</td><td>29  </td><td>formerly smoked</td><td>1</td></tr>\n",
       "</tbody>\n",
       "</table>\n"
      ],
      "text/latex": [
       "A data.frame: 6 × 12\n",
       "\\begin{tabular}{r|llllllllllll}\n",
       "  & id & gender & age & hypertension & heart\\_disease & ever\\_married & work\\_type & Residence\\_type & avg\\_glucose\\_level & bmi & smoking\\_status & stroke\\\\\n",
       "  & <int> & <chr> & <dbl> & <int> & <int> & <chr> & <chr> & <chr> & <dbl> & <chr> & <chr> & <int>\\\\\n",
       "\\hline\n",
       "\t1 &  9046 & Male   & 67 & 0 & 1 & Yes & Private       & Urban & 228.69 & 36.6 & formerly smoked & 1\\\\\n",
       "\t2 & 51676 & Female & 61 & 0 & 0 & Yes & Self-employed & Rural & 202.21 & N/A  & never smoked    & 1\\\\\n",
       "\t3 & 31112 & Male   & 80 & 0 & 1 & Yes & Private       & Rural & 105.92 & 32.5 & never smoked    & 1\\\\\n",
       "\t4 & 60182 & Female & 49 & 0 & 0 & Yes & Private       & Urban & 171.23 & 34.4 & smokes          & 1\\\\\n",
       "\t5 &  1665 & Female & 79 & 1 & 0 & Yes & Self-employed & Rural & 174.12 & 24   & never smoked    & 1\\\\\n",
       "\t6 & 56669 & Male   & 81 & 0 & 0 & Yes & Private       & Urban & 186.21 & 29   & formerly smoked & 1\\\\\n",
       "\\end{tabular}\n"
      ],
      "text/markdown": [
       "\n",
       "A data.frame: 6 × 12\n",
       "\n",
       "| <!--/--> | id &lt;int&gt; | gender &lt;chr&gt; | age &lt;dbl&gt; | hypertension &lt;int&gt; | heart_disease &lt;int&gt; | ever_married &lt;chr&gt; | work_type &lt;chr&gt; | Residence_type &lt;chr&gt; | avg_glucose_level &lt;dbl&gt; | bmi &lt;chr&gt; | smoking_status &lt;chr&gt; | stroke &lt;int&gt; |\n",
       "|---|---|---|---|---|---|---|---|---|---|---|---|---|\n",
       "| 1 |  9046 | Male   | 67 | 0 | 1 | Yes | Private       | Urban | 228.69 | 36.6 | formerly smoked | 1 |\n",
       "| 2 | 51676 | Female | 61 | 0 | 0 | Yes | Self-employed | Rural | 202.21 | N/A  | never smoked    | 1 |\n",
       "| 3 | 31112 | Male   | 80 | 0 | 1 | Yes | Private       | Rural | 105.92 | 32.5 | never smoked    | 1 |\n",
       "| 4 | 60182 | Female | 49 | 0 | 0 | Yes | Private       | Urban | 171.23 | 34.4 | smokes          | 1 |\n",
       "| 5 |  1665 | Female | 79 | 1 | 0 | Yes | Self-employed | Rural | 174.12 | 24   | never smoked    | 1 |\n",
       "| 6 | 56669 | Male   | 81 | 0 | 0 | Yes | Private       | Urban | 186.21 | 29   | formerly smoked | 1 |\n",
       "\n"
      ],
      "text/plain": [
       "  id    gender age hypertension heart_disease ever_married work_type    \n",
       "1  9046 Male   67  0            1             Yes          Private      \n",
       "2 51676 Female 61  0            0             Yes          Self-employed\n",
       "3 31112 Male   80  0            1             Yes          Private      \n",
       "4 60182 Female 49  0            0             Yes          Private      \n",
       "5  1665 Female 79  1            0             Yes          Self-employed\n",
       "6 56669 Male   81  0            0             Yes          Private      \n",
       "  Residence_type avg_glucose_level bmi  smoking_status  stroke\n",
       "1 Urban          228.69            36.6 formerly smoked 1     \n",
       "2 Rural          202.21            N/A  never smoked    1     \n",
       "3 Rural          105.92            32.5 never smoked    1     \n",
       "4 Urban          171.23            34.4 smokes          1     \n",
       "5 Rural          174.12            24   never smoked    1     \n",
       "6 Urban          186.21            29   formerly smoked 1     "
      ]
     },
     "metadata": {},
     "output_type": "display_data"
    },
    {
     "name": "stdout",
     "output_type": "stream",
     "text": [
      "── Data Summary ────────────────────────\n",
      "                           Values     \n",
      "Name                       stroke_data\n",
      "Number of rows             5110       \n",
      "Number of columns          12         \n",
      "_______________________               \n",
      "Column type frequency:                \n",
      "  character                6          \n",
      "  numeric                  6          \n",
      "________________________              \n",
      "Group variables            None       \n",
      "\n",
      "── Variable type: character ────────────────────────────────────────────────────\n",
      "  skim_variable  n_missing complete_rate min max empty n_unique whitespace\n",
      "\u001b[90m1\u001b[39m gender                 0             1   4   6     0        3          0\n",
      "\u001b[90m2\u001b[39m ever_married           0             1   2   3     0        2          0\n",
      "\u001b[90m3\u001b[39m work_type              0             1   7  13     0        5          0\n",
      "\u001b[90m4\u001b[39m Residence_type         0             1   5   5     0        2          0\n",
      "\u001b[90m5\u001b[39m bmi                    0             1   2   4     0      419          0\n",
      "\u001b[90m6\u001b[39m smoking_status         0             1   6  15     0        4          0\n",
      "\n",
      "── Variable type: numeric ──────────────────────────────────────────────────────\n",
      "  skim_variable     n_missing complete_rate       mean        sd    p0     p25\n",
      "\u001b[90m1\u001b[39m id                        0             1 \u001b[4m3\u001b[24m\u001b[4m6\u001b[24m518.     \u001b[4m2\u001b[24m\u001b[4m1\u001b[24m162.    67    \u001b[4m1\u001b[24m\u001b[4m7\u001b[24m741. \n",
      "\u001b[90m2\u001b[39m age                       0             1    43.2       22.6    0.08    25  \n",
      "\u001b[90m3\u001b[39m hypertension              0             1     0.097\u001b[4m5\u001b[24m     0.297  0        0  \n",
      "\u001b[90m4\u001b[39m heart_disease             0             1     0.054\u001b[4m0\u001b[24m     0.226  0        0  \n",
      "\u001b[90m5\u001b[39m avg_glucose_level         0             1   106.        45.3   55.1     77.2\n",
      "\u001b[90m6\u001b[39m stroke                    0             1     0.048\u001b[4m7\u001b[24m     0.215  0        0  \n",
      "      p50    p75   p100 hist \n",
      "\u001b[90m1\u001b[39m \u001b[4m3\u001b[24m\u001b[4m6\u001b[24m932   \u001b[4m5\u001b[24m\u001b[4m4\u001b[24m682  \u001b[4m7\u001b[24m\u001b[4m2\u001b[24m940  ▇▇▇▇▇\n",
      "\u001b[90m2\u001b[39m    45      61     82  ▅▆▇▇▆\n",
      "\u001b[90m3\u001b[39m     0       0      1  ▇▁▁▁▁\n",
      "\u001b[90m4\u001b[39m     0       0      1  ▇▁▁▁▁\n",
      "\u001b[90m5\u001b[39m    91.9   114.   272. ▇▃▁▁▁\n",
      "\u001b[90m6\u001b[39m     0       0      1  ▇▁▁▁▁\n"
     ]
    },
    {
     "name": "stderr",
     "output_type": "stream",
     "text": [
      "Warning message in is.null(text_repr) || nchar(text_repr) == 0L:\n",
      "\"'length(x) = 17 > 1' in coercion to 'logical(1)'\"\n"
     ]
    },
    {
     "data": {
      "text/html": [
       "<table class=\"dataframe\">\n",
       "<caption>A skim_df: 12 × 17</caption>\n",
       "<thead>\n",
       "\t<tr><th></th><th scope=col>skim_type</th><th scope=col>skim_variable</th><th scope=col>n_missing</th><th scope=col>complete_rate</th><th scope=col>character.min</th><th scope=col>character.max</th><th scope=col>character.empty</th><th scope=col>character.n_unique</th><th scope=col>character.whitespace</th><th scope=col>numeric.mean</th><th scope=col>numeric.sd</th><th scope=col>numeric.p0</th><th scope=col>numeric.p25</th><th scope=col>numeric.p50</th><th scope=col>numeric.p75</th><th scope=col>numeric.p100</th><th scope=col>numeric.hist</th></tr>\n",
       "\t<tr><th></th><th scope=col>&lt;chr&gt;</th><th scope=col>&lt;chr&gt;</th><th scope=col>&lt;int&gt;</th><th scope=col>&lt;dbl&gt;</th><th scope=col>&lt;int&gt;</th><th scope=col>&lt;int&gt;</th><th scope=col>&lt;int&gt;</th><th scope=col>&lt;int&gt;</th><th scope=col>&lt;int&gt;</th><th scope=col>&lt;dbl&gt;</th><th scope=col>&lt;dbl&gt;</th><th scope=col>&lt;dbl&gt;</th><th scope=col>&lt;dbl&gt;</th><th scope=col>&lt;dbl&gt;</th><th scope=col>&lt;dbl&gt;</th><th scope=col>&lt;dbl&gt;</th><th scope=col>&lt;chr&gt;</th></tr>\n",
       "</thead>\n",
       "<tbody>\n",
       "\t<tr><th scope=row>1</th><td>character</td><td>gender           </td><td>0</td><td>1</td><td> 4</td><td> 6</td><td> 0</td><td>  3</td><td> 0</td><td>          NA</td><td>          NA</td><td>   NA</td><td>       NA</td><td>       NA</td><td>      NA</td><td>      NA</td><td>NA   </td></tr>\n",
       "\t<tr><th scope=row>2</th><td>character</td><td>ever_married     </td><td>0</td><td>1</td><td> 2</td><td> 3</td><td> 0</td><td>  2</td><td> 0</td><td>          NA</td><td>          NA</td><td>   NA</td><td>       NA</td><td>       NA</td><td>      NA</td><td>      NA</td><td>NA   </td></tr>\n",
       "\t<tr><th scope=row>3</th><td>character</td><td>work_type        </td><td>0</td><td>1</td><td> 7</td><td>13</td><td> 0</td><td>  5</td><td> 0</td><td>          NA</td><td>          NA</td><td>   NA</td><td>       NA</td><td>       NA</td><td>      NA</td><td>      NA</td><td>NA   </td></tr>\n",
       "\t<tr><th scope=row>4</th><td>character</td><td>Residence_type   </td><td>0</td><td>1</td><td> 5</td><td> 5</td><td> 0</td><td>  2</td><td> 0</td><td>          NA</td><td>          NA</td><td>   NA</td><td>       NA</td><td>       NA</td><td>      NA</td><td>      NA</td><td>NA   </td></tr>\n",
       "\t<tr><th scope=row>5</th><td>character</td><td>bmi              </td><td>0</td><td>1</td><td> 2</td><td> 4</td><td> 0</td><td>419</td><td> 0</td><td>          NA</td><td>          NA</td><td>   NA</td><td>       NA</td><td>       NA</td><td>      NA</td><td>      NA</td><td>NA   </td></tr>\n",
       "\t<tr><th scope=row>6</th><td>character</td><td>smoking_status   </td><td>0</td><td>1</td><td> 6</td><td>15</td><td> 0</td><td>  4</td><td> 0</td><td>          NA</td><td>          NA</td><td>   NA</td><td>       NA</td><td>       NA</td><td>      NA</td><td>      NA</td><td>NA   </td></tr>\n",
       "\t<tr><th scope=row>7</th><td>numeric  </td><td>id               </td><td>0</td><td>1</td><td>NA</td><td>NA</td><td>NA</td><td> NA</td><td>NA</td><td>3.651783e+04</td><td>2.116172e+04</td><td>67.00</td><td>17741.250</td><td>36932.000</td><td>54682.00</td><td>72940.00</td><td>▇▇▇▇▇</td></tr>\n",
       "\t<tr><th scope=row>8</th><td>numeric  </td><td>age              </td><td>0</td><td>1</td><td>NA</td><td>NA</td><td>NA</td><td> NA</td><td>NA</td><td>4.322661e+01</td><td>2.261265e+01</td><td> 0.08</td><td>   25.000</td><td>   45.000</td><td>   61.00</td><td>   82.00</td><td>▅▆▇▇▆</td></tr>\n",
       "\t<tr><th scope=row>9</th><td>numeric  </td><td>hypertension     </td><td>0</td><td>1</td><td>NA</td><td>NA</td><td>NA</td><td> NA</td><td>NA</td><td>9.745597e-02</td><td>2.966067e-01</td><td> 0.00</td><td>    0.000</td><td>    0.000</td><td>    0.00</td><td>    1.00</td><td>▇▁▁▁▁</td></tr>\n",
       "\t<tr><th scope=row>10</th><td>numeric  </td><td>heart_disease    </td><td>0</td><td>1</td><td>NA</td><td>NA</td><td>NA</td><td> NA</td><td>NA</td><td>5.401174e-02</td><td>2.260630e-01</td><td> 0.00</td><td>    0.000</td><td>    0.000</td><td>    0.00</td><td>    1.00</td><td>▇▁▁▁▁</td></tr>\n",
       "\t<tr><th scope=row>11</th><td>numeric  </td><td>avg_glucose_level</td><td>0</td><td>1</td><td>NA</td><td>NA</td><td>NA</td><td> NA</td><td>NA</td><td>1.061477e+02</td><td>4.528356e+01</td><td>55.12</td><td>   77.245</td><td>   91.885</td><td>  114.09</td><td>  271.74</td><td>▇▃▁▁▁</td></tr>\n",
       "\t<tr><th scope=row>12</th><td>numeric  </td><td>stroke           </td><td>0</td><td>1</td><td>NA</td><td>NA</td><td>NA</td><td> NA</td><td>NA</td><td>4.872798e-02</td><td>2.153199e-01</td><td> 0.00</td><td>    0.000</td><td>    0.000</td><td>    0.00</td><td>    1.00</td><td>▇▁▁▁▁</td></tr>\n",
       "</tbody>\n",
       "</table>\n"
      ],
      "text/latex": [
       "A skim\\_df: 12 × 17\n",
       "\\begin{tabular}{r|lllllllllllllllll}\n",
       "  & skim\\_type & skim\\_variable & n\\_missing & complete\\_rate & character.min & character.max & character.empty & character.n\\_unique & character.whitespace & numeric.mean & numeric.sd & numeric.p0 & numeric.p25 & numeric.p50 & numeric.p75 & numeric.p100 & numeric.hist\\\\\n",
       "  & <chr> & <chr> & <int> & <dbl> & <int> & <int> & <int> & <int> & <int> & <dbl> & <dbl> & <dbl> & <dbl> & <dbl> & <dbl> & <dbl> & <chr>\\\\\n",
       "\\hline\n",
       "\t1 & character & gender            & 0 & 1 &  4 &  6 &  0 &   3 &  0 &           NA &           NA &    NA &        NA &        NA &       NA &       NA & NA   \\\\\n",
       "\t2 & character & ever\\_married      & 0 & 1 &  2 &  3 &  0 &   2 &  0 &           NA &           NA &    NA &        NA &        NA &       NA &       NA & NA   \\\\\n",
       "\t3 & character & work\\_type         & 0 & 1 &  7 & 13 &  0 &   5 &  0 &           NA &           NA &    NA &        NA &        NA &       NA &       NA & NA   \\\\\n",
       "\t4 & character & Residence\\_type    & 0 & 1 &  5 &  5 &  0 &   2 &  0 &           NA &           NA &    NA &        NA &        NA &       NA &       NA & NA   \\\\\n",
       "\t5 & character & bmi               & 0 & 1 &  2 &  4 &  0 & 419 &  0 &           NA &           NA &    NA &        NA &        NA &       NA &       NA & NA   \\\\\n",
       "\t6 & character & smoking\\_status    & 0 & 1 &  6 & 15 &  0 &   4 &  0 &           NA &           NA &    NA &        NA &        NA &       NA &       NA & NA   \\\\\n",
       "\t7 & numeric   & id                & 0 & 1 & NA & NA & NA &  NA & NA & 3.651783e+04 & 2.116172e+04 & 67.00 & 17741.250 & 36932.000 & 54682.00 & 72940.00 & ▇▇▇▇▇\\\\\n",
       "\t8 & numeric   & age               & 0 & 1 & NA & NA & NA &  NA & NA & 4.322661e+01 & 2.261265e+01 &  0.08 &    25.000 &    45.000 &    61.00 &    82.00 & ▅▆▇▇▆\\\\\n",
       "\t9 & numeric   & hypertension      & 0 & 1 & NA & NA & NA &  NA & NA & 9.745597e-02 & 2.966067e-01 &  0.00 &     0.000 &     0.000 &     0.00 &     1.00 & ▇▁▁▁▁\\\\\n",
       "\t10 & numeric   & heart\\_disease     & 0 & 1 & NA & NA & NA &  NA & NA & 5.401174e-02 & 2.260630e-01 &  0.00 &     0.000 &     0.000 &     0.00 &     1.00 & ▇▁▁▁▁\\\\\n",
       "\t11 & numeric   & avg\\_glucose\\_level & 0 & 1 & NA & NA & NA &  NA & NA & 1.061477e+02 & 4.528356e+01 & 55.12 &    77.245 &    91.885 &   114.09 &   271.74 & ▇▃▁▁▁\\\\\n",
       "\t12 & numeric   & stroke            & 0 & 1 & NA & NA & NA &  NA & NA & 4.872798e-02 & 2.153199e-01 &  0.00 &     0.000 &     0.000 &     0.00 &     1.00 & ▇▁▁▁▁\\\\\n",
       "\\end{tabular}\n"
      ],
      "text/markdown": [
       "\n",
       "A skim_df: 12 × 17\n",
       "\n",
       "| <!--/--> | skim_type &lt;chr&gt; | skim_variable &lt;chr&gt; | n_missing &lt;int&gt; | complete_rate &lt;dbl&gt; | character.min &lt;int&gt; | character.max &lt;int&gt; | character.empty &lt;int&gt; | character.n_unique &lt;int&gt; | character.whitespace &lt;int&gt; | numeric.mean &lt;dbl&gt; | numeric.sd &lt;dbl&gt; | numeric.p0 &lt;dbl&gt; | numeric.p25 &lt;dbl&gt; | numeric.p50 &lt;dbl&gt; | numeric.p75 &lt;dbl&gt; | numeric.p100 &lt;dbl&gt; | numeric.hist &lt;chr&gt; |\n",
       "|---|---|---|---|---|---|---|---|---|---|---|---|---|---|---|---|---|---|\n",
       "| 1 | character | gender            | 0 | 1 |  4 |  6 |  0 |   3 |  0 |           NA |           NA |    NA |        NA |        NA |       NA |       NA | NA    |\n",
       "| 2 | character | ever_married      | 0 | 1 |  2 |  3 |  0 |   2 |  0 |           NA |           NA |    NA |        NA |        NA |       NA |       NA | NA    |\n",
       "| 3 | character | work_type         | 0 | 1 |  7 | 13 |  0 |   5 |  0 |           NA |           NA |    NA |        NA |        NA |       NA |       NA | NA    |\n",
       "| 4 | character | Residence_type    | 0 | 1 |  5 |  5 |  0 |   2 |  0 |           NA |           NA |    NA |        NA |        NA |       NA |       NA | NA    |\n",
       "| 5 | character | bmi               | 0 | 1 |  2 |  4 |  0 | 419 |  0 |           NA |           NA |    NA |        NA |        NA |       NA |       NA | NA    |\n",
       "| 6 | character | smoking_status    | 0 | 1 |  6 | 15 |  0 |   4 |  0 |           NA |           NA |    NA |        NA |        NA |       NA |       NA | NA    |\n",
       "| 7 | numeric   | id                | 0 | 1 | NA | NA | NA |  NA | NA | 3.651783e+04 | 2.116172e+04 | 67.00 | 17741.250 | 36932.000 | 54682.00 | 72940.00 | ▇▇▇▇▇ |\n",
       "| 8 | numeric   | age               | 0 | 1 | NA | NA | NA |  NA | NA | 4.322661e+01 | 2.261265e+01 |  0.08 |    25.000 |    45.000 |    61.00 |    82.00 | ▅▆▇▇▆ |\n",
       "| 9 | numeric   | hypertension      | 0 | 1 | NA | NA | NA |  NA | NA | 9.745597e-02 | 2.966067e-01 |  0.00 |     0.000 |     0.000 |     0.00 |     1.00 | ▇▁▁▁▁ |\n",
       "| 10 | numeric   | heart_disease     | 0 | 1 | NA | NA | NA |  NA | NA | 5.401174e-02 | 2.260630e-01 |  0.00 |     0.000 |     0.000 |     0.00 |     1.00 | ▇▁▁▁▁ |\n",
       "| 11 | numeric   | avg_glucose_level | 0 | 1 | NA | NA | NA |  NA | NA | 1.061477e+02 | 4.528356e+01 | 55.12 |    77.245 |    91.885 |   114.09 |   271.74 | ▇▃▁▁▁ |\n",
       "| 12 | numeric   | stroke            | 0 | 1 | NA | NA | NA |  NA | NA | 4.872798e-02 | 2.153199e-01 |  0.00 |     0.000 |     0.000 |     0.00 |     1.00 | ▇▁▁▁▁ |\n",
       "\n"
      ],
      "text/plain": []
     },
     "metadata": {},
     "output_type": "display_data"
    }
   ],
   "source": [
    "stroke_data <- read.csv(\"data/healthcare-dataset-stroke-data.csv\")\n",
    "head(stroke_data)\n",
    "skimr::skim(stroke_data)"
   ]
  },
  {
   "cell_type": "code",
   "execution_count": 3,
   "metadata": {
    "vscode": {
     "languageId": "r"
    }
   },
   "outputs": [
    {
     "name": "stderr",
     "output_type": "stream",
     "text": [
      "\n",
      "Attaching package: 'dplyr'\n",
      "\n",
      "\n",
      "The following object is masked from 'package:ordinal':\n",
      "\n",
      "    slice\n",
      "\n",
      "\n",
      "The following object is masked from 'package:MASS':\n",
      "\n",
      "    select\n",
      "\n",
      "\n",
      "The following objects are masked from 'package:stats':\n",
      "\n",
      "    filter, lag\n",
      "\n",
      "\n",
      "The following objects are masked from 'package:base':\n",
      "\n",
      "    intersect, setdiff, setequal, union\n",
      "\n",
      "\n"
     ]
    },
    {
     "data": {
      "image/png": "[encoded data removed]",
      "text/plain": [
       "Plot with title \"age\""
      ]
     },
     "metadata": {
      "image/png": {
       "height": 600,
       "width": 1200
      }
     },
     "output_type": "display_data"
    },
    {
     "data": {
      "text/html": [
       "<strong>null device:</strong> 1"
      ],
      "text/latex": [
       "\\textbf{null device:} 1"
      ],
      "text/markdown": [
       "**null device:** 1"
      ],
      "text/plain": [
       "null device \n",
       "          1 "
      ]
     },
     "metadata": {},
     "output_type": "display_data"
    },
    {
     "data": {
      "image/png": "[encoded data removed]",
      "text/plain": [
       "Plot with title \"avg_glucose_level\""
      ]
     },
     "metadata": {
      "image/png": {
       "height": 600,
       "width": 1200
      }
     },
     "output_type": "display_data"
    }
   ],
   "source": [
    "# normality distribution of numeric continious variables\n",
    "library(dplyr)\n",
    "stroke_data_numeric <- stroke_data %>%\n",
    "                select(age, avg_glucose_level)\n",
    "\n",
    "options(repr.plot.width = 20, repr.plot.height = 10)\n",
    "par(mfrow = c(1,4), cex.main = 3, cex.axis = 1.5)\n",
    "for (p in 1:2){\n",
    "    hist(stroke_data_numeric[,p], main = paste(names(stroke_data_numeric)[p], \" | Initial Hist\"), col = p)\n",
    "    hist(stroke_data_numeric[,p], main = paste(names(stroke_data_numeric)[p], \" | F-D Optimiz.\"), col = p, breaks = \"Freedman-Diaconis\")\n",
    "    boxplot(stroke_data_numeric[,p], main = names(stroke_data_numeric)[p], col = p)\n",
    "    plot(density(stroke_data_numeric[,p]), main = names(stroke_data_numeric)[p], col = p)\n",
    "}\n",
    "\n",
    "dev.off()"
   ]
  },
  {
   "attachments": {},
   "cell_type": "markdown",
   "metadata": {},
   "source": [
    "### Data Organization"
   ]
  },
  {
   "cell_type": "code",
   "execution_count": 4,
   "metadata": {
    "vscode": {
     "languageId": "r"
    }
   },
   "outputs": [
    {
     "data": {
      "text/plain": [
       "\n",
       "Female   Male  Other \n",
       "  2994   2115      1 "
      ]
     },
     "metadata": {},
     "output_type": "display_data"
    },
    {
     "data": {
      "text/html": [
       "<table class=\"dataframe\">\n",
       "<caption>A data.frame: 6 × 12</caption>\n",
       "<thead>\n",
       "\t<tr><th></th><th scope=col>id</th><th scope=col>gender</th><th scope=col>age</th><th scope=col>hypertension</th><th scope=col>heart_disease</th><th scope=col>ever_married</th><th scope=col>work_type</th><th scope=col>Residence_type</th><th scope=col>avg_glucose_level</th><th scope=col>bmi</th><th scope=col>smoking_status</th><th scope=col>stroke</th></tr>\n",
       "\t<tr><th></th><th scope=col>&lt;int&gt;</th><th scope=col>&lt;dbl&gt;</th><th scope=col>&lt;dbl&gt;</th><th scope=col>&lt;int&gt;</th><th scope=col>&lt;int&gt;</th><th scope=col>&lt;dbl&gt;</th><th scope=col>&lt;chr&gt;</th><th scope=col>&lt;dbl&gt;</th><th scope=col>&lt;dbl&gt;</th><th scope=col>&lt;chr&gt;</th><th scope=col>&lt;chr&gt;</th><th scope=col>&lt;int&gt;</th></tr>\n",
       "</thead>\n",
       "<tbody>\n",
       "\t<tr><th scope=row>1</th><td> 9046</td><td>1</td><td>67</td><td>0</td><td>1</td><td>1</td><td>Private      </td><td>1</td><td>228.69</td><td>36.6</td><td>formerly smoked</td><td>1</td></tr>\n",
       "\t<tr><th scope=row>2</th><td>51676</td><td>0</td><td>61</td><td>0</td><td>0</td><td>1</td><td>Self-employed</td><td>0</td><td>202.21</td><td>N/A </td><td>never smoked   </td><td>1</td></tr>\n",
       "\t<tr><th scope=row>3</th><td>31112</td><td>1</td><td>80</td><td>0</td><td>1</td><td>1</td><td>Private      </td><td>0</td><td>105.92</td><td>32.5</td><td>never smoked   </td><td>1</td></tr>\n",
       "\t<tr><th scope=row>4</th><td>60182</td><td>0</td><td>49</td><td>0</td><td>0</td><td>1</td><td>Private      </td><td>1</td><td>171.23</td><td>34.4</td><td>smokes         </td><td>1</td></tr>\n",
       "\t<tr><th scope=row>5</th><td> 1665</td><td>0</td><td>79</td><td>1</td><td>0</td><td>1</td><td>Self-employed</td><td>0</td><td>174.12</td><td>24  </td><td>never smoked   </td><td>1</td></tr>\n",
       "\t<tr><th scope=row>6</th><td>56669</td><td>1</td><td>81</td><td>0</td><td>0</td><td>1</td><td>Private      </td><td>1</td><td>186.21</td><td>29  </td><td>formerly smoked</td><td>1</td></tr>\n",
       "</tbody>\n",
       "</table>\n"
      ],
      "text/latex": [
       "A data.frame: 6 × 12\n",
       "\\begin{tabular}{r|llllllllllll}\n",
       "  & id & gender & age & hypertension & heart\\_disease & ever\\_married & work\\_type & Residence\\_type & avg\\_glucose\\_level & bmi & smoking\\_status & stroke\\\\\n",
       "  & <int> & <dbl> & <dbl> & <int> & <int> & <dbl> & <chr> & <dbl> & <dbl> & <chr> & <chr> & <int>\\\\\n",
       "\\hline\n",
       "\t1 &  9046 & 1 & 67 & 0 & 1 & 1 & Private       & 1 & 228.69 & 36.6 & formerly smoked & 1\\\\\n",
       "\t2 & 51676 & 0 & 61 & 0 & 0 & 1 & Self-employed & 0 & 202.21 & N/A  & never smoked    & 1\\\\\n",
       "\t3 & 31112 & 1 & 80 & 0 & 1 & 1 & Private       & 0 & 105.92 & 32.5 & never smoked    & 1\\\\\n",
       "\t4 & 60182 & 0 & 49 & 0 & 0 & 1 & Private       & 1 & 171.23 & 34.4 & smokes          & 1\\\\\n",
       "\t5 &  1665 & 0 & 79 & 1 & 0 & 1 & Self-employed & 0 & 174.12 & 24   & never smoked    & 1\\\\\n",
       "\t6 & 56669 & 1 & 81 & 0 & 0 & 1 & Private       & 1 & 186.21 & 29   & formerly smoked & 1\\\\\n",
       "\\end{tabular}\n"
      ],
      "text/markdown": [
       "\n",
       "A data.frame: 6 × 12\n",
       "\n",
       "| <!--/--> | id &lt;int&gt; | gender &lt;dbl&gt; | age &lt;dbl&gt; | hypertension &lt;int&gt; | heart_disease &lt;int&gt; | ever_married &lt;dbl&gt; | work_type &lt;chr&gt; | Residence_type &lt;dbl&gt; | avg_glucose_level &lt;dbl&gt; | bmi &lt;chr&gt; | smoking_status &lt;chr&gt; | stroke &lt;int&gt; |\n",
       "|---|---|---|---|---|---|---|---|---|---|---|---|---|\n",
       "| 1 |  9046 | 1 | 67 | 0 | 1 | 1 | Private       | 1 | 228.69 | 36.6 | formerly smoked | 1 |\n",
       "| 2 | 51676 | 0 | 61 | 0 | 0 | 1 | Self-employed | 0 | 202.21 | N/A  | never smoked    | 1 |\n",
       "| 3 | 31112 | 1 | 80 | 0 | 1 | 1 | Private       | 0 | 105.92 | 32.5 | never smoked    | 1 |\n",
       "| 4 | 60182 | 0 | 49 | 0 | 0 | 1 | Private       | 1 | 171.23 | 34.4 | smokes          | 1 |\n",
       "| 5 |  1665 | 0 | 79 | 1 | 0 | 1 | Self-employed | 0 | 174.12 | 24   | never smoked    | 1 |\n",
       "| 6 | 56669 | 1 | 81 | 0 | 0 | 1 | Private       | 1 | 186.21 | 29   | formerly smoked | 1 |\n",
       "\n"
      ],
      "text/plain": [
       "  id    gender age hypertension heart_disease ever_married work_type    \n",
       "1  9046 1      67  0            1             1            Private      \n",
       "2 51676 0      61  0            0             1            Self-employed\n",
       "3 31112 1      80  0            1             1            Private      \n",
       "4 60182 0      49  0            0             1            Private      \n",
       "5  1665 0      79  1            0             1            Self-employed\n",
       "6 56669 1      81  0            0             1            Private      \n",
       "  Residence_type avg_glucose_level bmi  smoking_status  stroke\n",
       "1 1              228.69            36.6 formerly smoked 1     \n",
       "2 0              202.21            N/A  never smoked    1     \n",
       "3 0              105.92            32.5 never smoked    1     \n",
       "4 1              171.23            34.4 smokes          1     \n",
       "5 0              174.12            24   never smoked    1     \n",
       "6 1              186.21            29   formerly smoked 1     "
      ]
     },
     "metadata": {},
     "output_type": "display_data"
    }
   ],
   "source": [
    "# converting gender/married/residence into binary\n",
    "table(stroke_data$gender)\n",
    "\n",
    "stroke_data2 <- stroke_data[stroke_data$gender != \"Other\",]\n",
    "stroke_data2$gender <- ifelse(stroke_data2$gender == \"Male\", 1, 0)\n",
    "stroke_data2$ever_married <- ifelse(stroke_data2$ever_married == \"Yes\", 1, 0)\n",
    "stroke_data2$Residence_type <- ifelse(stroke_data2$Residence_type == \"Urban\", 1, 0)\n",
    "\n",
    "head(stroke_data2)"
   ]
  },
  {
   "cell_type": "code",
   "execution_count": 5,
   "metadata": {
    "vscode": {
     "languageId": "r"
    }
   },
   "outputs": [
    {
     "data": {
      "text/plain": [
       "\n",
       "formerly smoked    never smoked          smokes         Unknown \n",
       "            884            1892             789            1544 "
      ]
     },
     "metadata": {},
     "output_type": "display_data"
    },
    {
     "data": {
      "text/html": [
       "<table class=\"dataframe\">\n",
       "<caption>A data.frame: 6 × 12</caption>\n",
       "<thead>\n",
       "\t<tr><th></th><th scope=col>id</th><th scope=col>gender</th><th scope=col>age</th><th scope=col>hypertension</th><th scope=col>heart_disease</th><th scope=col>ever_married</th><th scope=col>work_type</th><th scope=col>Residence_type</th><th scope=col>avg_glucose_level</th><th scope=col>bmi</th><th scope=col>smoking_status</th><th scope=col>stroke</th></tr>\n",
       "\t<tr><th></th><th scope=col>&lt;int&gt;</th><th scope=col>&lt;dbl&gt;</th><th scope=col>&lt;dbl&gt;</th><th scope=col>&lt;int&gt;</th><th scope=col>&lt;int&gt;</th><th scope=col>&lt;dbl&gt;</th><th scope=col>&lt;chr&gt;</th><th scope=col>&lt;dbl&gt;</th><th scope=col>&lt;dbl&gt;</th><th scope=col>&lt;chr&gt;</th><th scope=col>&lt;dbl&gt;</th><th scope=col>&lt;int&gt;</th></tr>\n",
       "</thead>\n",
       "<tbody>\n",
       "\t<tr><th scope=row>1</th><td> 9046</td><td>1</td><td>67</td><td>0</td><td>1</td><td>1</td><td>Private      </td><td>1</td><td>228.69</td><td>36.6</td><td>1</td><td>1</td></tr>\n",
       "\t<tr><th scope=row>2</th><td>51676</td><td>0</td><td>61</td><td>0</td><td>0</td><td>1</td><td>Self-employed</td><td>0</td><td>202.21</td><td>N/A </td><td>0</td><td>1</td></tr>\n",
       "\t<tr><th scope=row>3</th><td>31112</td><td>1</td><td>80</td><td>0</td><td>1</td><td>1</td><td>Private      </td><td>0</td><td>105.92</td><td>32.5</td><td>0</td><td>1</td></tr>\n",
       "\t<tr><th scope=row>4</th><td>60182</td><td>0</td><td>49</td><td>0</td><td>0</td><td>1</td><td>Private      </td><td>1</td><td>171.23</td><td>34.4</td><td>1</td><td>1</td></tr>\n",
       "\t<tr><th scope=row>5</th><td> 1665</td><td>0</td><td>79</td><td>1</td><td>0</td><td>1</td><td>Self-employed</td><td>0</td><td>174.12</td><td>24  </td><td>0</td><td>1</td></tr>\n",
       "\t<tr><th scope=row>6</th><td>56669</td><td>1</td><td>81</td><td>0</td><td>0</td><td>1</td><td>Private      </td><td>1</td><td>186.21</td><td>29  </td><td>1</td><td>1</td></tr>\n",
       "</tbody>\n",
       "</table>\n"
      ],
      "text/latex": [
       "A data.frame: 6 × 12\n",
       "\\begin{tabular}{r|llllllllllll}\n",
       "  & id & gender & age & hypertension & heart\\_disease & ever\\_married & work\\_type & Residence\\_type & avg\\_glucose\\_level & bmi & smoking\\_status & stroke\\\\\n",
       "  & <int> & <dbl> & <dbl> & <int> & <int> & <dbl> & <chr> & <dbl> & <dbl> & <chr> & <dbl> & <int>\\\\\n",
       "\\hline\n",
       "\t1 &  9046 & 1 & 67 & 0 & 1 & 1 & Private       & 1 & 228.69 & 36.6 & 1 & 1\\\\\n",
       "\t2 & 51676 & 0 & 61 & 0 & 0 & 1 & Self-employed & 0 & 202.21 & N/A  & 0 & 1\\\\\n",
       "\t3 & 31112 & 1 & 80 & 0 & 1 & 1 & Private       & 0 & 105.92 & 32.5 & 0 & 1\\\\\n",
       "\t4 & 60182 & 0 & 49 & 0 & 0 & 1 & Private       & 1 & 171.23 & 34.4 & 1 & 1\\\\\n",
       "\t5 &  1665 & 0 & 79 & 1 & 0 & 1 & Self-employed & 0 & 174.12 & 24   & 0 & 1\\\\\n",
       "\t6 & 56669 & 1 & 81 & 0 & 0 & 1 & Private       & 1 & 186.21 & 29   & 1 & 1\\\\\n",
       "\\end{tabular}\n"
      ],
      "text/markdown": [
       "\n",
       "A data.frame: 6 × 12\n",
       "\n",
       "| <!--/--> | id &lt;int&gt; | gender &lt;dbl&gt; | age &lt;dbl&gt; | hypertension &lt;int&gt; | heart_disease &lt;int&gt; | ever_married &lt;dbl&gt; | work_type &lt;chr&gt; | Residence_type &lt;dbl&gt; | avg_glucose_level &lt;dbl&gt; | bmi &lt;chr&gt; | smoking_status &lt;dbl&gt; | stroke &lt;int&gt; |\n",
       "|---|---|---|---|---|---|---|---|---|---|---|---|---|\n",
       "| 1 |  9046 | 1 | 67 | 0 | 1 | 1 | Private       | 1 | 228.69 | 36.6 | 1 | 1 |\n",
       "| 2 | 51676 | 0 | 61 | 0 | 0 | 1 | Self-employed | 0 | 202.21 | N/A  | 0 | 1 |\n",
       "| 3 | 31112 | 1 | 80 | 0 | 1 | 1 | Private       | 0 | 105.92 | 32.5 | 0 | 1 |\n",
       "| 4 | 60182 | 0 | 49 | 0 | 0 | 1 | Private       | 1 | 171.23 | 34.4 | 1 | 1 |\n",
       "| 5 |  1665 | 0 | 79 | 1 | 0 | 1 | Self-employed | 0 | 174.12 | 24   | 0 | 1 |\n",
       "| 6 | 56669 | 1 | 81 | 0 | 0 | 1 | Private       | 1 | 186.21 | 29   | 1 | 1 |\n",
       "\n"
      ],
      "text/plain": [
       "  id    gender age hypertension heart_disease ever_married work_type    \n",
       "1  9046 1      67  0            1             1            Private      \n",
       "2 51676 0      61  0            0             1            Self-employed\n",
       "3 31112 1      80  0            1             1            Private      \n",
       "4 60182 0      49  0            0             1            Private      \n",
       "5  1665 0      79  1            0             1            Self-employed\n",
       "6 56669 1      81  0            0             1            Private      \n",
       "  Residence_type avg_glucose_level bmi  smoking_status stroke\n",
       "1 1              228.69            36.6 1              1     \n",
       "2 0              202.21            N/A  0              1     \n",
       "3 0              105.92            32.5 0              1     \n",
       "4 1              171.23            34.4 1              1     \n",
       "5 0              174.12            24   0              1     \n",
       "6 1              186.21            29   1              1     "
      ]
     },
     "metadata": {},
     "output_type": "display_data"
    },
    {
     "name": "stdout",
     "output_type": "stream",
     "text": [
      "── Data Summary ────────────────────────\n",
      "                           Values      \n",
      "Name                       stroke_data2\n",
      "Number of rows             3565        \n",
      "Number of columns          12          \n",
      "_______________________                \n",
      "Column type frequency:                 \n",
      "  character                2           \n",
      "  numeric                  10          \n",
      "________________________               \n",
      "Group variables            None        \n",
      "\n",
      "── Variable type: character ────────────────────────────────────────────────────\n",
      "  skim_variable n_missing complete_rate min max empty n_unique whitespace\n",
      "\u001b[90m1\u001b[39m work_type             0             1   7  13     0        5          0\n",
      "\u001b[90m2\u001b[39m bmi                   0             1   2   4     0      371          0\n",
      "\n",
      "── Variable type: numeric ──────────────────────────────────────────────────────\n",
      "   skim_variable     n_missing complete_rate       mean        sd   p0     p25\n",
      "\u001b[90m 1\u001b[39m id                        0             1 \u001b[4m3\u001b[24m\u001b[4m6\u001b[24m780.     \u001b[4m2\u001b[24m\u001b[4m1\u001b[24m241.    67   \u001b[4m1\u001b[24m\u001b[4m8\u001b[24m040  \n",
      "\u001b[90m 2\u001b[39m gender                    0             1     0.395      0.489  0       0  \n",
      "\u001b[90m 3\u001b[39m age                       0             1    48.9       18.9   10      34  \n",
      "\u001b[90m 4\u001b[39m hypertension              0             1     0.125      0.331  0       0  \n",
      "\u001b[90m 5\u001b[39m heart_disease             0             1     0.064\u001b[4m0\u001b[24m     0.245  0       0  \n",
      "\u001b[90m 6\u001b[39m ever_married              0             1     0.760      0.427  0       1  \n",
      "\u001b[90m 7\u001b[39m Residence_type            0             1     0.509      0.500  0       0  \n",
      "\u001b[90m 8\u001b[39m avg_glucose_level         0             1   109.        48.3   55.1    77.5\n",
      "\u001b[90m 9\u001b[39m smoking_status            0             1     0.469      0.499  0       0  \n",
      "\u001b[90m10\u001b[39m stroke                    0             1     0.056\u001b[4m7\u001b[24m     0.231  0       0  \n",
      "       p50    p75   p100 hist \n",
      "\u001b[90m 1\u001b[39m \u001b[4m3\u001b[24m\u001b[4m7\u001b[24m446   \u001b[4m5\u001b[24m\u001b[4m4\u001b[24m946  \u001b[4m7\u001b[24m\u001b[4m2\u001b[24m915  ▇▇▇▇▇\n",
      "\u001b[90m 2\u001b[39m     0       1      1  ▇▁▁▁▅\n",
      "\u001b[90m 3\u001b[39m    50      63     82  ▃▆▇▇▆\n",
      "\u001b[90m 4\u001b[39m     0       0      1  ▇▁▁▁▁\n",
      "\u001b[90m 5\u001b[39m     0       0      1  ▇▁▁▁▁\n",
      "\u001b[90m 6\u001b[39m     1       1      1  ▂▁▁▁▇\n",
      "\u001b[90m 7\u001b[39m     1       1      1  ▇▁▁▁▇\n",
      "\u001b[90m 8\u001b[39m    92.6   117.   272. ▇▃▁▂▁\n",
      "\u001b[90m 9\u001b[39m     0       1      1  ▇▁▁▁▇\n",
      "\u001b[90m10\u001b[39m     0       0      1  ▇▁▁▁▁\n"
     ]
    },
    {
     "name": "stderr",
     "output_type": "stream",
     "text": [
      "Warning message in is.null(text_repr) || nchar(text_repr) == 0L:\n",
      "\"'length(x) = 17 > 1' in coercion to 'logical(1)'\"\n"
     ]
    },
    {
     "data": {
      "text/html": [
       "<table class=\"dataframe\">\n",
       "<caption>A skim_df: 12 × 17</caption>\n",
       "<thead>\n",
       "\t<tr><th></th><th scope=col>skim_type</th><th scope=col>skim_variable</th><th scope=col>n_missing</th><th scope=col>complete_rate</th><th scope=col>character.min</th><th scope=col>character.max</th><th scope=col>character.empty</th><th scope=col>character.n_unique</th><th scope=col>character.whitespace</th><th scope=col>numeric.mean</th><th scope=col>numeric.sd</th><th scope=col>numeric.p0</th><th scope=col>numeric.p25</th><th scope=col>numeric.p50</th><th scope=col>numeric.p75</th><th scope=col>numeric.p100</th><th scope=col>numeric.hist</th></tr>\n",
       "\t<tr><th></th><th scope=col>&lt;chr&gt;</th><th scope=col>&lt;chr&gt;</th><th scope=col>&lt;int&gt;</th><th scope=col>&lt;dbl&gt;</th><th scope=col>&lt;int&gt;</th><th scope=col>&lt;int&gt;</th><th scope=col>&lt;int&gt;</th><th scope=col>&lt;int&gt;</th><th scope=col>&lt;int&gt;</th><th scope=col>&lt;dbl&gt;</th><th scope=col>&lt;dbl&gt;</th><th scope=col>&lt;dbl&gt;</th><th scope=col>&lt;dbl&gt;</th><th scope=col>&lt;dbl&gt;</th><th scope=col>&lt;dbl&gt;</th><th scope=col>&lt;dbl&gt;</th><th scope=col>&lt;chr&gt;</th></tr>\n",
       "</thead>\n",
       "<tbody>\n",
       "\t<tr><th scope=row>1</th><td>character</td><td>work_type        </td><td>0</td><td>1</td><td> 7</td><td>13</td><td> 0</td><td>  5</td><td> 0</td><td>          NA</td><td>          NA</td><td>   NA</td><td>      NA</td><td>      NA</td><td>      NA</td><td>      NA</td><td>NA   </td></tr>\n",
       "\t<tr><th scope=row>2</th><td>character</td><td>bmi              </td><td>0</td><td>1</td><td> 2</td><td> 4</td><td> 0</td><td>371</td><td> 0</td><td>          NA</td><td>          NA</td><td>   NA</td><td>      NA</td><td>      NA</td><td>      NA</td><td>      NA</td><td>NA   </td></tr>\n",
       "\t<tr><th scope=row>3</th><td>numeric  </td><td>id               </td><td>0</td><td>1</td><td>NA</td><td>NA</td><td>NA</td><td> NA</td><td>NA</td><td>3.678032e+04</td><td>2.124050e+04</td><td>67.00</td><td>18040.00</td><td>37446.00</td><td>54946.00</td><td>72915.00</td><td>▇▇▇▇▇</td></tr>\n",
       "\t<tr><th scope=row>4</th><td>numeric  </td><td>gender           </td><td>0</td><td>1</td><td>NA</td><td>NA</td><td>NA</td><td> NA</td><td>NA</td><td>3.946704e-01</td><td>4.888484e-01</td><td> 0.00</td><td>    0.00</td><td>    0.00</td><td>    1.00</td><td>    1.00</td><td>▇▁▁▁▅</td></tr>\n",
       "\t<tr><th scope=row>5</th><td>numeric  </td><td>age              </td><td>0</td><td>1</td><td>NA</td><td>NA</td><td>NA</td><td> NA</td><td>NA</td><td>4.886031e+01</td><td>1.887314e+01</td><td>10.00</td><td>   34.00</td><td>   50.00</td><td>   63.00</td><td>   82.00</td><td>▃▆▇▇▆</td></tr>\n",
       "\t<tr><th scope=row>6</th><td>numeric  </td><td>hypertension     </td><td>0</td><td>1</td><td>NA</td><td>NA</td><td>NA</td><td> NA</td><td>NA</td><td>1.251052e-01</td><td>3.308846e-01</td><td> 0.00</td><td>    0.00</td><td>    0.00</td><td>    0.00</td><td>    1.00</td><td>▇▁▁▁▁</td></tr>\n",
       "\t<tr><th scope=row>7</th><td>numeric  </td><td>heart_disease    </td><td>0</td><td>1</td><td>NA</td><td>NA</td><td>NA</td><td> NA</td><td>NA</td><td>6.395512e-02</td><td>2.447073e-01</td><td> 0.00</td><td>    0.00</td><td>    0.00</td><td>    0.00</td><td>    1.00</td><td>▇▁▁▁▁</td></tr>\n",
       "\t<tr><th scope=row>8</th><td>numeric  </td><td>ever_married     </td><td>0</td><td>1</td><td>NA</td><td>NA</td><td>NA</td><td> NA</td><td>NA</td><td>7.601683e-01</td><td>4.270405e-01</td><td> 0.00</td><td>    1.00</td><td>    1.00</td><td>    1.00</td><td>    1.00</td><td>▂▁▁▁▇</td></tr>\n",
       "\t<tr><th scope=row>9</th><td>numeric  </td><td>Residence_type   </td><td>0</td><td>1</td><td>NA</td><td>NA</td><td>NA</td><td> NA</td><td>NA</td><td>5.088359e-01</td><td>4.999921e-01</td><td> 0.00</td><td>    0.00</td><td>    1.00</td><td>    1.00</td><td>    1.00</td><td>▇▁▁▁▇</td></tr>\n",
       "\t<tr><th scope=row>10</th><td>numeric  </td><td>avg_glucose_level</td><td>0</td><td>1</td><td>NA</td><td>NA</td><td>NA</td><td> NA</td><td>NA</td><td>1.089724e+02</td><td>4.829555e+01</td><td>55.12</td><td>   77.46</td><td>   92.65</td><td>  116.67</td><td>  271.74</td><td>▇▃▁▂▁</td></tr>\n",
       "\t<tr><th scope=row>11</th><td>numeric  </td><td>smoking_status   </td><td>0</td><td>1</td><td>NA</td><td>NA</td><td>NA</td><td> NA</td><td>NA</td><td>4.692847e-01</td><td>4.991257e-01</td><td> 0.00</td><td>    0.00</td><td>    0.00</td><td>    1.00</td><td>    1.00</td><td>▇▁▁▁▇</td></tr>\n",
       "\t<tr><th scope=row>12</th><td>numeric  </td><td>stroke           </td><td>0</td><td>1</td><td>NA</td><td>NA</td><td>NA</td><td> NA</td><td>NA</td><td>5.666199e-02</td><td>2.312280e-01</td><td> 0.00</td><td>    0.00</td><td>    0.00</td><td>    0.00</td><td>    1.00</td><td>▇▁▁▁▁</td></tr>\n",
       "</tbody>\n",
       "</table>\n"
      ],
      "text/latex": [
       "A skim\\_df: 12 × 17\n",
       "\\begin{tabular}{r|lllllllllllllllll}\n",
       "  & skim\\_type & skim\\_variable & n\\_missing & complete\\_rate & character.min & character.max & character.empty & character.n\\_unique & character.whitespace & numeric.mean & numeric.sd & numeric.p0 & numeric.p25 & numeric.p50 & numeric.p75 & numeric.p100 & numeric.hist\\\\\n",
       "  & <chr> & <chr> & <int> & <dbl> & <int> & <int> & <int> & <int> & <int> & <dbl> & <dbl> & <dbl> & <dbl> & <dbl> & <dbl> & <dbl> & <chr>\\\\\n",
       "\\hline\n",
       "\t1 & character & work\\_type         & 0 & 1 &  7 & 13 &  0 &   5 &  0 &           NA &           NA &    NA &       NA &       NA &       NA &       NA & NA   \\\\\n",
       "\t2 & character & bmi               & 0 & 1 &  2 &  4 &  0 & 371 &  0 &           NA &           NA &    NA &       NA &       NA &       NA &       NA & NA   \\\\\n",
       "\t3 & numeric   & id                & 0 & 1 & NA & NA & NA &  NA & NA & 3.678032e+04 & 2.124050e+04 & 67.00 & 18040.00 & 37446.00 & 54946.00 & 72915.00 & ▇▇▇▇▇\\\\\n",
       "\t4 & numeric   & gender            & 0 & 1 & NA & NA & NA &  NA & NA & 3.946704e-01 & 4.888484e-01 &  0.00 &     0.00 &     0.00 &     1.00 &     1.00 & ▇▁▁▁▅\\\\\n",
       "\t5 & numeric   & age               & 0 & 1 & NA & NA & NA &  NA & NA & 4.886031e+01 & 1.887314e+01 & 10.00 &    34.00 &    50.00 &    63.00 &    82.00 & ▃▆▇▇▆\\\\\n",
       "\t6 & numeric   & hypertension      & 0 & 1 & NA & NA & NA &  NA & NA & 1.251052e-01 & 3.308846e-01 &  0.00 &     0.00 &     0.00 &     0.00 &     1.00 & ▇▁▁▁▁\\\\\n",
       "\t7 & numeric   & heart\\_disease     & 0 & 1 & NA & NA & NA &  NA & NA & 6.395512e-02 & 2.447073e-01 &  0.00 &     0.00 &     0.00 &     0.00 &     1.00 & ▇▁▁▁▁\\\\\n",
       "\t8 & numeric   & ever\\_married      & 0 & 1 & NA & NA & NA &  NA & NA & 7.601683e-01 & 4.270405e-01 &  0.00 &     1.00 &     1.00 &     1.00 &     1.00 & ▂▁▁▁▇\\\\\n",
       "\t9 & numeric   & Residence\\_type    & 0 & 1 & NA & NA & NA &  NA & NA & 5.088359e-01 & 4.999921e-01 &  0.00 &     0.00 &     1.00 &     1.00 &     1.00 & ▇▁▁▁▇\\\\\n",
       "\t10 & numeric   & avg\\_glucose\\_level & 0 & 1 & NA & NA & NA &  NA & NA & 1.089724e+02 & 4.829555e+01 & 55.12 &    77.46 &    92.65 &   116.67 &   271.74 & ▇▃▁▂▁\\\\\n",
       "\t11 & numeric   & smoking\\_status    & 0 & 1 & NA & NA & NA &  NA & NA & 4.692847e-01 & 4.991257e-01 &  0.00 &     0.00 &     0.00 &     1.00 &     1.00 & ▇▁▁▁▇\\\\\n",
       "\t12 & numeric   & stroke            & 0 & 1 & NA & NA & NA &  NA & NA & 5.666199e-02 & 2.312280e-01 &  0.00 &     0.00 &     0.00 &     0.00 &     1.00 & ▇▁▁▁▁\\\\\n",
       "\\end{tabular}\n"
      ],
      "text/markdown": [
       "\n",
       "A skim_df: 12 × 17\n",
       "\n",
       "| <!--/--> | skim_type &lt;chr&gt; | skim_variable &lt;chr&gt; | n_missing &lt;int&gt; | complete_rate &lt;dbl&gt; | character.min &lt;int&gt; | character.max &lt;int&gt; | character.empty &lt;int&gt; | character.n_unique &lt;int&gt; | character.whitespace &lt;int&gt; | numeric.mean &lt;dbl&gt; | numeric.sd &lt;dbl&gt; | numeric.p0 &lt;dbl&gt; | numeric.p25 &lt;dbl&gt; | numeric.p50 &lt;dbl&gt; | numeric.p75 &lt;dbl&gt; | numeric.p100 &lt;dbl&gt; | numeric.hist &lt;chr&gt; |\n",
       "|---|---|---|---|---|---|---|---|---|---|---|---|---|---|---|---|---|---|\n",
       "| 1 | character | work_type         | 0 | 1 |  7 | 13 |  0 |   5 |  0 |           NA |           NA |    NA |       NA |       NA |       NA |       NA | NA    |\n",
       "| 2 | character | bmi               | 0 | 1 |  2 |  4 |  0 | 371 |  0 |           NA |           NA |    NA |       NA |       NA |       NA |       NA | NA    |\n",
       "| 3 | numeric   | id                | 0 | 1 | NA | NA | NA |  NA | NA | 3.678032e+04 | 2.124050e+04 | 67.00 | 18040.00 | 37446.00 | 54946.00 | 72915.00 | ▇▇▇▇▇ |\n",
       "| 4 | numeric   | gender            | 0 | 1 | NA | NA | NA |  NA | NA | 3.946704e-01 | 4.888484e-01 |  0.00 |     0.00 |     0.00 |     1.00 |     1.00 | ▇▁▁▁▅ |\n",
       "| 5 | numeric   | age               | 0 | 1 | NA | NA | NA |  NA | NA | 4.886031e+01 | 1.887314e+01 | 10.00 |    34.00 |    50.00 |    63.00 |    82.00 | ▃▆▇▇▆ |\n",
       "| 6 | numeric   | hypertension      | 0 | 1 | NA | NA | NA |  NA | NA | 1.251052e-01 | 3.308846e-01 |  0.00 |     0.00 |     0.00 |     0.00 |     1.00 | ▇▁▁▁▁ |\n",
       "| 7 | numeric   | heart_disease     | 0 | 1 | NA | NA | NA |  NA | NA | 6.395512e-02 | 2.447073e-01 |  0.00 |     0.00 |     0.00 |     0.00 |     1.00 | ▇▁▁▁▁ |\n",
       "| 8 | numeric   | ever_married      | 0 | 1 | NA | NA | NA |  NA | NA | 7.601683e-01 | 4.270405e-01 |  0.00 |     1.00 |     1.00 |     1.00 |     1.00 | ▂▁▁▁▇ |\n",
       "| 9 | numeric   | Residence_type    | 0 | 1 | NA | NA | NA |  NA | NA | 5.088359e-01 | 4.999921e-01 |  0.00 |     0.00 |     1.00 |     1.00 |     1.00 | ▇▁▁▁▇ |\n",
       "| 10 | numeric   | avg_glucose_level | 0 | 1 | NA | NA | NA |  NA | NA | 1.089724e+02 | 4.829555e+01 | 55.12 |    77.46 |    92.65 |   116.67 |   271.74 | ▇▃▁▂▁ |\n",
       "| 11 | numeric   | smoking_status    | 0 | 1 | NA | NA | NA |  NA | NA | 4.692847e-01 | 4.991257e-01 |  0.00 |     0.00 |     0.00 |     1.00 |     1.00 | ▇▁▁▁▇ |\n",
       "| 12 | numeric   | stroke            | 0 | 1 | NA | NA | NA |  NA | NA | 5.666199e-02 | 2.312280e-01 |  0.00 |     0.00 |     0.00 |     0.00 |     1.00 | ▇▁▁▁▁ |\n",
       "\n"
      ],
      "text/plain": []
     },
     "metadata": {},
     "output_type": "display_data"
    }
   ],
   "source": [
    "# joining smoking groups and converting to binary\n",
    "\n",
    "table(stroke_data2$smoking_status)\n",
    "stroke_data2 <- stroke_data2[stroke_data2$smoking_status != \"Unknown\",]\n",
    "\n",
    "stroke_data2$smoking_status <- ifelse(stroke_data2$smoking_status == \"smokes\" | stroke_data2$smoking_status == \"formerly smoked\", 1, 0) \n",
    "head(stroke_data2)\n",
    "skimr::skim(stroke_data2)"
   ]
  },
  {
   "cell_type": "code",
   "execution_count": 6,
   "metadata": {
    "vscode": {
     "languageId": "r"
    }
   },
   "outputs": [
    {
     "name": "stderr",
     "output_type": "stream",
     "text": [
      "Warning message:\n",
      "\"package 'fastDummies' was built under R version 4.2.3\"\n"
     ]
    },
    {
     "data": {
      "text/html": [
       "<table class=\"dataframe\">\n",
       "<caption>A data.frame: 6 × 6</caption>\n",
       "<thead>\n",
       "\t<tr><th></th><th scope=col>.data</th><th scope=col>.data_children</th><th scope=col>.data_Govt_job</th><th scope=col>.data_Never_worked</th><th scope=col>.data_Private</th><th scope=col>.data_Self-employed</th></tr>\n",
       "\t<tr><th></th><th scope=col>&lt;chr&gt;</th><th scope=col>&lt;int&gt;</th><th scope=col>&lt;int&gt;</th><th scope=col>&lt;int&gt;</th><th scope=col>&lt;int&gt;</th><th scope=col>&lt;int&gt;</th></tr>\n",
       "</thead>\n",
       "<tbody>\n",
       "\t<tr><th scope=row>1</th><td>Private      </td><td>0</td><td>0</td><td>0</td><td>1</td><td>0</td></tr>\n",
       "\t<tr><th scope=row>2</th><td>Self-employed</td><td>0</td><td>0</td><td>0</td><td>0</td><td>1</td></tr>\n",
       "\t<tr><th scope=row>3</th><td>Private      </td><td>0</td><td>0</td><td>0</td><td>1</td><td>0</td></tr>\n",
       "\t<tr><th scope=row>4</th><td>Private      </td><td>0</td><td>0</td><td>0</td><td>1</td><td>0</td></tr>\n",
       "\t<tr><th scope=row>5</th><td>Self-employed</td><td>0</td><td>0</td><td>0</td><td>0</td><td>1</td></tr>\n",
       "\t<tr><th scope=row>6</th><td>Private      </td><td>0</td><td>0</td><td>0</td><td>1</td><td>0</td></tr>\n",
       "</tbody>\n",
       "</table>\n"
      ],
      "text/latex": [
       "A data.frame: 6 × 6\n",
       "\\begin{tabular}{r|llllll}\n",
       "  & .data & .data\\_children & .data\\_Govt\\_job & .data\\_Never\\_worked & .data\\_Private & .data\\_Self-employed\\\\\n",
       "  & <chr> & <int> & <int> & <int> & <int> & <int>\\\\\n",
       "\\hline\n",
       "\t1 & Private       & 0 & 0 & 0 & 1 & 0\\\\\n",
       "\t2 & Self-employed & 0 & 0 & 0 & 0 & 1\\\\\n",
       "\t3 & Private       & 0 & 0 & 0 & 1 & 0\\\\\n",
       "\t4 & Private       & 0 & 0 & 0 & 1 & 0\\\\\n",
       "\t5 & Self-employed & 0 & 0 & 0 & 0 & 1\\\\\n",
       "\t6 & Private       & 0 & 0 & 0 & 1 & 0\\\\\n",
       "\\end{tabular}\n"
      ],
      "text/markdown": [
       "\n",
       "A data.frame: 6 × 6\n",
       "\n",
       "| <!--/--> | .data &lt;chr&gt; | .data_children &lt;int&gt; | .data_Govt_job &lt;int&gt; | .data_Never_worked &lt;int&gt; | .data_Private &lt;int&gt; | .data_Self-employed &lt;int&gt; |\n",
       "|---|---|---|---|---|---|---|\n",
       "| 1 | Private       | 0 | 0 | 0 | 1 | 0 |\n",
       "| 2 | Self-employed | 0 | 0 | 0 | 0 | 1 |\n",
       "| 3 | Private       | 0 | 0 | 0 | 1 | 0 |\n",
       "| 4 | Private       | 0 | 0 | 0 | 1 | 0 |\n",
       "| 5 | Self-employed | 0 | 0 | 0 | 0 | 1 |\n",
       "| 6 | Private       | 0 | 0 | 0 | 1 | 0 |\n",
       "\n"
      ],
      "text/plain": [
       "  .data         .data_children .data_Govt_job .data_Never_worked .data_Private\n",
       "1 Private       0              0              0                  1            \n",
       "2 Self-employed 0              0              0                  0            \n",
       "3 Private       0              0              0                  1            \n",
       "4 Private       0              0              0                  1            \n",
       "5 Self-employed 0              0              0                  0            \n",
       "6 Private       0              0              0                  1            \n",
       "  .data_Self-employed\n",
       "1 0                  \n",
       "2 1                  \n",
       "3 0                  \n",
       "4 0                  \n",
       "5 1                  \n",
       "6 0                  "
      ]
     },
     "metadata": {},
     "output_type": "display_data"
    },
    {
     "data": {
      "text/plain": [
       "    .data           .data_children    .data_Govt_job   .data_Never_worked\n",
       " Length:3565        Min.   :0.00000   Min.   :0.0000   Min.   :0.000000  \n",
       " Class :character   1st Qu.:0.00000   1st Qu.:0.0000   1st Qu.:0.000000  \n",
       " Mode  :character   Median :0.00000   Median :0.0000   Median :0.000000  \n",
       "                    Mean   :0.01935   Mean   :0.1501   Mean   :0.003927  \n",
       "                    3rd Qu.:0.00000   3rd Qu.:0.0000   3rd Qu.:0.000000  \n",
       "                    Max.   :1.00000   Max.   :1.0000   Max.   :1.000000  \n",
       " .data_Private    .data_Self-employed\n",
       " Min.   :0.0000   Min.   :0.000      \n",
       " 1st Qu.:0.0000   1st Qu.:0.000      \n",
       " Median :1.0000   Median :0.000      \n",
       " Mean   :0.6407   Mean   :0.186      \n",
       " 3rd Qu.:1.0000   3rd Qu.:0.000      \n",
       " Max.   :1.0000   Max.   :1.000      "
      ]
     },
     "metadata": {},
     "output_type": "display_data"
    }
   ],
   "source": [
    "# dummifying work_type\n",
    "library(fastDummies)\n",
    "\n",
    "work_type_b <- dummy_cols(stroke_data2$work_type); head(work_type_b)\n",
    "summary(work_type_b)"
   ]
  },
  {
   "cell_type": "code",
   "execution_count": 7,
   "metadata": {
    "vscode": {
     "languageId": "r"
    }
   },
   "outputs": [
    {
     "data": {
      "text/html": [
       "TRUE"
      ],
      "text/latex": [
       "TRUE"
      ],
      "text/markdown": [
       "TRUE"
      ],
      "text/plain": [
       "[1] TRUE"
      ]
     },
     "metadata": {},
     "output_type": "display_data"
    }
   ],
   "source": [
    "# extracting binary data from original dataset and combining with dummies\n",
    "\n",
    "stroke_data_b <- data.frame(stroke_data2[, c(\"gender\", \"Residence_type\", \"ever_married\", \"hypertension\", \"heart_disease\", \"smoking_status\", \"stroke\")])\n",
    "stroke_data_b <- as.matrix(cbind(work_type_b[-1], stroke_data_b))\n",
    "is.matrix(stroke_data_b)"
   ]
  },
  {
   "attachments": {},
   "cell_type": "markdown",
   "metadata": {},
   "source": [
    "The second dataset comprises health information data, which consists mostly of binary and nominal variables, the latter are intended to be converted into binary form. There are also two continuous variables included in the dataset: age and average glucose level. The distribution of age is approximately normal, while the distribution of average glucose level is skewed to the right.In this case, the binary MCMC coupled-Metropolis method appears to be the most appropriate clustering technique. This is because it is designed to consider the binary nature of the data, resulting in more efficient clustering results, as the name suggests. In contrast, the median and probability density methods are not applicable, as they assume that the variables are continuous. Instead, the data can be clustered using the average glucose variable, while the normally distributed age variable is not suitable.\n"
   ]
  },
  {
   "attachments": {},
   "cell_type": "markdown",
   "metadata": {},
   "source": [
    "### Binary MCMC coupled-Metropolis Clustering"
   ]
  },
  {
   "attachments": {},
   "cell_type": "markdown",
   "metadata": {},
   "source": [
    "The first attempt of clustering using MCMC method, was to generate the parameters we discussed in the lectures, increasing the number of iterations to 175 and the heat to 75 as recommended. "
   ]
  },
  {
   "cell_type": "code",
   "execution_count": 8,
   "metadata": {
    "vscode": {
     "languageId": "r"
    }
   },
   "outputs": [
    {
     "name": "stderr",
     "output_type": "stream",
     "text": [
      "Warning message:\n",
      "\"package 'BayesBinMix' was built under R version 4.2.3\"\n"
     ]
    }
   ],
   "source": [
    "library(BayesBinMix)\n",
    "\n",
    "#cm1 <- coupledMetropolis(Kmax = 6, \n",
    "#                   nChains = 5,\n",
    "#                   heats = seq(1, 0.4, length = 5),\n",
    "#                   binaryData = stroke_data_b,\n",
    "#                   outPrefix = \"stroke_cm1\",\n",
    "#                   ClusterPrior = \"uniform\",\n",
    "#                   m = 175,\n",
    "#                   burn = 75 \n",
    "#)\n"
   ]
  },
  {
   "cell_type": "code",
   "execution_count": 9,
   "metadata": {
    "vscode": {
     "languageId": "r"
    }
   },
   "outputs": [
    {
     "name": "stdout",
     "output_type": "stream",
     "text": [
      "\n",
      "* Run information: \n",
      "      Number of parallel heated chains: 5 \n",
      "      Swap acceptance rate: 1.1% \n",
      "      Total number of iterations: 1750 \n",
      "      Burn-in period: 750 \n",
      "      Thinning: 10. \n",
      "\n",
      "* Estimated posterior distribution of the number of clusters: \n",
      "\n",
      "6 \n",
      "1 \n",
      "\n",
      "* Most probable model: K = 6 with P(K = 6|data) = 1 \n",
      "\n",
      "* Estimated number of observations per cluster conditionally on K = 6 (3 label switching algorithms): \n",
      "  STEPHENS  ECR ECR.ITERATIVE.1\n",
      "1       14   14              14\n",
      "2     1906 1906            1906\n",
      "3      663  663             663\n",
      "4      378  378             378\n",
      "5       69   69              69\n",
      "6      535  535             535\n",
      "\n",
      "* Posterior mean of probability of success per feature and cluster (ECR algorithm): \n",
      "         cluster_1    cluster_2   cluster_3   cluster_4  cluster_5   cluster_6\n",
      "theta_1 0.05974693 0.0006461734 0.001526105 0.001325966 0.98540763 0.002041778\n",
      "theta_2 0.06158534 0.0006837229 0.001593672 0.001618692 0.01302044 0.998048367\n",
      "theta_3 0.92470553 0.0006370308 0.001466616 0.001532763 0.01182920 0.001962906\n",
      "theta_4 0.07099675 0.9993932890 0.001687798 0.998280094 0.01351880 0.002174429\n",
      "theta_5 0.07022632 0.0006811204 0.998372956 0.001659352 0.01264616 0.002065949\n",
      "   <+ 7 more rows> \n"
     ]
    },
    {
     "data": {
      "text/html": [
       "<table class=\"dataframe\">\n",
       "<caption>A data.frame: 6 × 3</caption>\n",
       "<thead>\n",
       "\t<tr><th></th><th scope=col>STEPHENS</th><th scope=col>ECR</th><th scope=col>ECR.ITERATIVE.1</th></tr>\n",
       "\t<tr><th></th><th scope=col>&lt;int&gt;</th><th scope=col>&lt;int&gt;</th><th scope=col>&lt;int&gt;</th></tr>\n",
       "</thead>\n",
       "<tbody>\n",
       "\t<tr><th scope=row>z.1</th><td>4</td><td>4</td><td>4</td></tr>\n",
       "\t<tr><th scope=row>z.2</th><td>3</td><td>3</td><td>3</td></tr>\n",
       "\t<tr><th scope=row>z.3</th><td>4</td><td>4</td><td>4</td></tr>\n",
       "\t<tr><th scope=row>z.4</th><td>4</td><td>4</td><td>4</td></tr>\n",
       "\t<tr><th scope=row>z.5</th><td>3</td><td>3</td><td>3</td></tr>\n",
       "\t<tr><th scope=row>z.6</th><td>4</td><td>4</td><td>4</td></tr>\n",
       "</tbody>\n",
       "</table>\n"
      ],
      "text/latex": [
       "A data.frame: 6 × 3\n",
       "\\begin{tabular}{r|lll}\n",
       "  & STEPHENS & ECR & ECR.ITERATIVE.1\\\\\n",
       "  & <int> & <int> & <int>\\\\\n",
       "\\hline\n",
       "\tz.1 & 4 & 4 & 4\\\\\n",
       "\tz.2 & 3 & 3 & 3\\\\\n",
       "\tz.3 & 4 & 4 & 4\\\\\n",
       "\tz.4 & 4 & 4 & 4\\\\\n",
       "\tz.5 & 3 & 3 & 3\\\\\n",
       "\tz.6 & 4 & 4 & 4\\\\\n",
       "\\end{tabular}\n"
      ],
      "text/markdown": [
       "\n",
       "A data.frame: 6 × 3\n",
       "\n",
       "| <!--/--> | STEPHENS &lt;int&gt; | ECR &lt;int&gt; | ECR.ITERATIVE.1 &lt;int&gt; |\n",
       "|---|---|---|---|\n",
       "| z.1 | 4 | 4 | 4 |\n",
       "| z.2 | 3 | 3 | 3 |\n",
       "| z.3 | 4 | 4 | 4 |\n",
       "| z.4 | 4 | 4 | 4 |\n",
       "| z.5 | 3 | 3 | 3 |\n",
       "| z.6 | 4 | 4 | 4 |\n",
       "\n"
      ],
      "text/plain": [
       "    STEPHENS ECR ECR.ITERATIVE.1\n",
       "z.1 4        4   4              \n",
       "z.2 3        3   3              \n",
       "z.3 4        4   4              \n",
       "z.4 4        4   4              \n",
       "z.5 3        3   3              \n",
       "z.6 4        4   4              "
      ]
     },
     "metadata": {},
     "output_type": "display_data"
    }
   ],
   "source": [
    "# saveRDS(cm1, \"cm1.rds\")\n",
    "cm1 <- readRDS(\"cm1.rds\")\n",
    "\n",
    "print(cm1)  # model proposing 6 cluster with probability of 1, but swap acceptance rate is horrible\n",
    "head(cm1$clusterMembershipPerMethod)"
   ]
  },
  {
   "attachments": {},
   "cell_type": "markdown",
   "metadata": {},
   "source": [
    "The result revealed that there are 6 clusters with a probability of 1, which is an excellent outcome. However, the swap acceptance rate was much lower than the expected optimal value (1 %)."
   ]
  },
  {
   "cell_type": "code",
   "execution_count": 10,
   "metadata": {
    "vscode": {
     "languageId": "r"
    }
   },
   "outputs": [
    {
     "data": {
      "image/png": "[encoded data removed]",
      "text/plain": [
       "Plot with title \"Stephens clustering Benchmark (CM1)\""
      ]
     },
     "metadata": {
      "image/png": {
       "height": 600,
       "width": 1200
      }
     },
     "output_type": "display_data"
    }
   ],
   "source": [
    "library(RColorBrewer)\n",
    "barplot(table(cm1$clusterMembershipPerMethod[,1]), main = \"Stephens clustering Benchmark (CM1)\", col = brewer.pal(6, name = 'Set1'))"
   ]
  },
  {
   "attachments": {},
   "cell_type": "markdown",
   "metadata": {},
   "source": [
    "Upon further investigation using a barplot with Stephen benchmark, it became apparent that the distribution of the clusters are remarkably unevenly distributed. Specifically, at least two clusters have substantially lower values (14 and 69) compared to the largest cluster, which consists of roughly 2000 units. That is why, in the next step I decided to limit the upper limit of numbers of clusters to 3, hoping that the swap acceptance rate will improve with this. "
   ]
  },
  {
   "cell_type": "code",
   "execution_count": 11,
   "metadata": {
    "vscode": {
     "languageId": "r"
    }
   },
   "outputs": [],
   "source": [
    "#cm11 <- coupledMetropolis(Kmax = 3, \n",
    "#                   nChains = 12,\n",
    "#                   heats = seq(1, 0.7, length = 12),\n",
    "#                   binaryData = stroke_data_b,\n",
    "#                   outPrefix = \"stroke_cm11\",\n",
    "#                   ClusterPrior = \"uniform\",\n",
    "#                   m = 175,\n",
    "#                   burn = 75 \n",
    "#)"
   ]
  },
  {
   "cell_type": "code",
   "execution_count": 12,
   "metadata": {
    "vscode": {
     "languageId": "r"
    }
   },
   "outputs": [
    {
     "name": "stdout",
     "output_type": "stream",
     "text": [
      "\n",
      "* Run information: \n",
      "      Number of parallel heated chains: 12 \n",
      "      Swap acceptance rate: 26.3% \n",
      "      Total number of iterations: 1750 \n",
      "      Burn-in period: 750 \n",
      "      Thinning: 10. \n",
      "\n",
      "* Estimated posterior distribution of the number of clusters: \n",
      "\n",
      "3 \n",
      "1 \n",
      "\n",
      "* Most probable model: K = 3 with P(K = 3|data) = 1 \n",
      "\n",
      "* Estimated number of observations per cluster conditionally on K = 3 (3 label switching algorithms): \n",
      "  STEPHENS  ECR ECR.ITERATIVE.1\n",
      "1      663  663             663\n",
      "2     2284 2284            2284\n",
      "3      618  618             618\n",
      "\n",
      "* Posterior mean of probability of success per feature and cluster (ECR algorithm): \n",
      "          cluster_1    cluster_2   cluster_3\n",
      "theta_1 0.001231707 0.0004661406 0.115905477\n",
      "theta_2 0.001536053 0.0004592309 0.864172223\n",
      "theta_3 0.001631467 0.0003682952 0.024405697\n",
      "theta_4 0.001541403 0.9995783910 0.001670661\n",
      "theta_5 0.998544070 0.0003994863 0.002000903\n",
      "   <+ 7 more rows> \n",
      "List of 7\n",
      " $ K.mcmc                         : 'mcmc' num [1:100] 3 3 3 3 3 3 3 3 3 3 ...\n",
      "  ..- attr(*, \"mcpar\")= num [1:3] 760 1750 10\n",
      " $ parameters.ecr.mcmc            : 'mcmc' num [1:100, 1:39] 3.17e-05 1.55e-04 2.42e-04 1.39e-04 2.19e-04 ...\n",
      "  ..- attr(*, \"dimnames\")=List of 2\n",
      "  .. ..$ : chr [1:100] \"1\" \"2\" \"3\" \"4\" ...\n",
      "  .. ..$ : chr [1:39] \"theta.1.1\" \"theta.2.1\" \"theta.3.1\" \"theta.1.2\" ...\n",
      "  ..- attr(*, \"mcpar\")= num [1:3] 1 100 1\n",
      " $ allocations.ecr.mcmc           : 'mcmc' int [1:100, 1:3565] 2 2 2 2 2 2 2 2 2 2 ...\n",
      "  ..- attr(*, \"dimnames\")=List of 2\n",
      "  .. ..$ : chr [1:100] \"1\" \"2\" \"3\" \"4\" ...\n",
      "  .. ..$ : chr [1:3565] \"V1\" \"V2\" \"V3\" \"V4\" ...\n",
      "  ..- attr(*, \"mcpar\")= num [1:3] 1 100 1\n",
      " $ classificationProbabilities.ecr:'data.frame':\t3565 obs. of  3 variables:\n",
      "  ..$ cluster 1: num [1:3565] 1.81e-06 1.00 1.44e-06 1.33e-06 1.00 ...\n",
      "  ..$ cluster 2: num [1:3565] 1.00 3.15e-07 1.00 1.00 1.71e-07 ...\n",
      "  ..$ cluster 3: num [1:3565] 3.48e-05 1.01e-04 3.55e-05 3.92e-05 5.75e-05 ...\n",
      " $ clusterMembershipPerMethod     :'data.frame':\t3565 obs. of  3 variables:\n",
      "  ..$ STEPHENS       : int [1:3565] 2 1 2 2 1 2 2 2 2 3 ...\n",
      "  ..$ ECR            : int [1:3565] 2 1 2 2 1 2 2 2 2 3 ...\n",
      "  ..$ ECR.ITERATIVE.1: int [1:3565] 2 1 2 2 1 2 2 2 2 3 ...\n",
      " $ K.allChains                    : num [1:175, 1:12] 1 1 1 1 1 1 1 1 1 1 ...\n",
      "  ..- attr(*, \"dimnames\")=List of 2\n",
      "  .. ..$ : NULL\n",
      "  .. ..$ : chr [1:12] \"chain.1_(target)\" \"chain.2\" \"chain.3\" \"chain.4\" ...\n",
      " $ chainInfo                      : num [1:4] 12 26.3 175 75\n",
      " - attr(*, \"class\")= chr [1:2] \"list\" \"bbm.object\"\n"
     ]
    }
   ],
   "source": [
    "# saveRDS(cm11, \"cm11.rds\")\n",
    "cm11 <- readRDS(\"cm11.rds\")\n",
    "\n",
    "print(cm11)\n",
    "str(cm11)"
   ]
  },
  {
   "attachments": {},
   "cell_type": "markdown",
   "metadata": {},
   "source": [
    "The analysis revealed that the current approach was insufficient, but despite this, the probability of dividing the elements into three clusters was 1, as anticipated. Additionally, the number of data points in the resulting clusters was also larger. In the following, it was necessary to adjust the parameters related to the number of chains and heats used. Upon manipulating these parameters, it became evident that increasing the temperature of the chain was required, leading to a significant improvement in the swap acceptance rate. Given the significant time consuming involved, I opted to stop the analysis once the swap acceptance rate had reached 26%, which is still considered to be a satisfactory outcome. The results of the analysis indicate a high probability of 1 clustering the units into three groups.\n"
   ]
  },
  {
   "cell_type": "code",
   "execution_count": 13,
   "metadata": {
    "vscode": {
     "languageId": "r"
    }
   },
   "outputs": [
    {
     "data": {
      "image/png": "[encoded data removed]",
      "text/plain": [
       "Plot with title \"Stephens clustering Benchmark (CM1)\""
      ]
     },
     "metadata": {
      "image/png": {
       "height": 600,
       "width": 1200
      }
     },
     "output_type": "display_data"
    }
   ],
   "source": [
    "barplot(table(cm11$clusterMembershipPerMethod[,1]), main = \"Stephens clustering Benchmark (CM1)\", col = brewer.pal(6, name = 'Set1'))"
   ]
  },
  {
   "attachments": {},
   "cell_type": "markdown",
   "metadata": {},
   "source": [
    "### LogLinear Modelling"
   ]
  },
  {
   "attachments": {},
   "cell_type": "markdown",
   "metadata": {},
   "source": [
    "In the first model, I used the average glucose levels of the participants as the outcome variable, while taking into account selected demographic and health factors as predictors."
   ]
  },
  {
   "cell_type": "code",
   "execution_count": 14,
   "metadata": {
    "vscode": {
     "languageId": "r"
    }
   },
   "outputs": [],
   "source": [
    "library(\"MASS\")\n",
    "library(\"erer\")\n",
    "library(\"ordinal\")\n",
    "library(\"nnet\")\n",
    "library(\"questionr\")\n",
    "library(\"margins\")\n",
    "library(\"eMLEloglin\")"
   ]
  },
  {
   "cell_type": "code",
   "execution_count": 59,
   "metadata": {
    "vscode": {
     "languageId": "r"
    }
   },
   "outputs": [
    {
     "data": {
      "text/plain": [
       "   Min. 1st Qu.  Median    Mean 3rd Qu.    Max. \n",
       "  55.12   77.25   91.89  106.15  114.09  271.74 "
      ]
     },
     "metadata": {},
     "output_type": "display_data"
    },
    {
     "data": {
      "image/png": "[encoded data removed]",
      "text/plain": [
       "Plot with title \"Histogram of stroke_data2$avg_glucose_level\""
      ]
     },
     "metadata": {
      "image/png": {
       "height": 600,
       "width": 1200
      }
     },
     "output_type": "display_data"
    },
    {
     "data": {
      "image/png": "[encoded data removed]",
      "text/plain": [
       "Plot with title \"density.default(x = stroke_data2$avg_glucose_level)\""
      ]
     },
     "metadata": {
      "image/png": {
       "height": 600,
       "width": 1200
      }
     },
     "output_type": "display_data"
    },
    {
     "data": {
      "image/png": "[encoded data removed]",
      "text/plain": [
       "plot without title"
      ]
     },
     "metadata": {
      "image/png": {
       "height": 600,
       "width": 1200
      }
     },
     "output_type": "display_data"
    }
   ],
   "source": [
    "summary(stroke_data$avg_glucose_level)\n",
    "hist(stroke_data2$avg_glucose_level)\n",
    "plot(density(stroke_data2$avg_glucose_level))\n",
    "boxplot(stroke_data$avg_glucose_level)"
   ]
  },
  {
   "attachments": {},
   "cell_type": "markdown",
   "metadata": {},
   "source": [
    "Prior to modeling, I examined the distribution of the predictor variable and observed that it had a positive skewness with heavier tail and a higher peak than a normal distribution. This suggested that the variable may follow an inverse Gaussian distribution. "
   ]
  },
  {
   "cell_type": "code",
   "execution_count": 29,
   "metadata": {
    "vscode": {
     "languageId": "r"
    }
   },
   "outputs": [
    {
     "data": {
      "text/html": [
       "<table class=\"dataframe\">\n",
       "<caption>A data.frame: 6 × 12</caption>\n",
       "<thead>\n",
       "\t<tr><th></th><th scope=col>id</th><th scope=col>gender</th><th scope=col>age</th><th scope=col>hypertension</th><th scope=col>heart_disease</th><th scope=col>ever_married</th><th scope=col>work_type</th><th scope=col>Residence_type</th><th scope=col>avg_glucose_level</th><th scope=col>bmi</th><th scope=col>smoking_status</th><th scope=col>stroke</th></tr>\n",
       "\t<tr><th></th><th scope=col>&lt;int&gt;</th><th scope=col>&lt;dbl&gt;</th><th scope=col>&lt;dbl&gt;</th><th scope=col>&lt;int&gt;</th><th scope=col>&lt;int&gt;</th><th scope=col>&lt;dbl&gt;</th><th scope=col>&lt;chr&gt;</th><th scope=col>&lt;dbl&gt;</th><th scope=col>&lt;dbl&gt;</th><th scope=col>&lt;chr&gt;</th><th scope=col>&lt;dbl&gt;</th><th scope=col>&lt;int&gt;</th></tr>\n",
       "</thead>\n",
       "<tbody>\n",
       "\t<tr><th scope=row>1</th><td> 9046</td><td>1</td><td>67</td><td>0</td><td>1</td><td>1</td><td>Private      </td><td>1</td><td>228.69</td><td>36.6</td><td>1</td><td>1</td></tr>\n",
       "\t<tr><th scope=row>2</th><td>51676</td><td>0</td><td>61</td><td>0</td><td>0</td><td>1</td><td>Self-employed</td><td>0</td><td>202.21</td><td>N/A </td><td>0</td><td>1</td></tr>\n",
       "\t<tr><th scope=row>3</th><td>31112</td><td>1</td><td>80</td><td>0</td><td>1</td><td>1</td><td>Private      </td><td>0</td><td>105.92</td><td>32.5</td><td>0</td><td>1</td></tr>\n",
       "\t<tr><th scope=row>4</th><td>60182</td><td>0</td><td>49</td><td>0</td><td>0</td><td>1</td><td>Private      </td><td>1</td><td>171.23</td><td>34.4</td><td>1</td><td>1</td></tr>\n",
       "\t<tr><th scope=row>5</th><td> 1665</td><td>0</td><td>79</td><td>1</td><td>0</td><td>1</td><td>Self-employed</td><td>0</td><td>174.12</td><td>24  </td><td>0</td><td>1</td></tr>\n",
       "\t<tr><th scope=row>6</th><td>56669</td><td>1</td><td>81</td><td>0</td><td>0</td><td>1</td><td>Private      </td><td>1</td><td>186.21</td><td>29  </td><td>1</td><td>1</td></tr>\n",
       "</tbody>\n",
       "</table>\n"
      ],
      "text/latex": [
       "A data.frame: 6 × 12\n",
       "\\begin{tabular}{r|llllllllllll}\n",
       "  & id & gender & age & hypertension & heart\\_disease & ever\\_married & work\\_type & Residence\\_type & avg\\_glucose\\_level & bmi & smoking\\_status & stroke\\\\\n",
       "  & <int> & <dbl> & <dbl> & <int> & <int> & <dbl> & <chr> & <dbl> & <dbl> & <chr> & <dbl> & <int>\\\\\n",
       "\\hline\n",
       "\t1 &  9046 & 1 & 67 & 0 & 1 & 1 & Private       & 1 & 228.69 & 36.6 & 1 & 1\\\\\n",
       "\t2 & 51676 & 0 & 61 & 0 & 0 & 1 & Self-employed & 0 & 202.21 & N/A  & 0 & 1\\\\\n",
       "\t3 & 31112 & 1 & 80 & 0 & 1 & 1 & Private       & 0 & 105.92 & 32.5 & 0 & 1\\\\\n",
       "\t4 & 60182 & 0 & 49 & 0 & 0 & 1 & Private       & 1 & 171.23 & 34.4 & 1 & 1\\\\\n",
       "\t5 &  1665 & 0 & 79 & 1 & 0 & 1 & Self-employed & 0 & 174.12 & 24   & 0 & 1\\\\\n",
       "\t6 & 56669 & 1 & 81 & 0 & 0 & 1 & Private       & 1 & 186.21 & 29   & 1 & 1\\\\\n",
       "\\end{tabular}\n"
      ],
      "text/markdown": [
       "\n",
       "A data.frame: 6 × 12\n",
       "\n",
       "| <!--/--> | id &lt;int&gt; | gender &lt;dbl&gt; | age &lt;dbl&gt; | hypertension &lt;int&gt; | heart_disease &lt;int&gt; | ever_married &lt;dbl&gt; | work_type &lt;chr&gt; | Residence_type &lt;dbl&gt; | avg_glucose_level &lt;dbl&gt; | bmi &lt;chr&gt; | smoking_status &lt;dbl&gt; | stroke &lt;int&gt; |\n",
       "|---|---|---|---|---|---|---|---|---|---|---|---|---|\n",
       "| 1 |  9046 | 1 | 67 | 0 | 1 | 1 | Private       | 1 | 228.69 | 36.6 | 1 | 1 |\n",
       "| 2 | 51676 | 0 | 61 | 0 | 0 | 1 | Self-employed | 0 | 202.21 | N/A  | 0 | 1 |\n",
       "| 3 | 31112 | 1 | 80 | 0 | 1 | 1 | Private       | 0 | 105.92 | 32.5 | 0 | 1 |\n",
       "| 4 | 60182 | 0 | 49 | 0 | 0 | 1 | Private       | 1 | 171.23 | 34.4 | 1 | 1 |\n",
       "| 5 |  1665 | 0 | 79 | 1 | 0 | 1 | Self-employed | 0 | 174.12 | 24   | 0 | 1 |\n",
       "| 6 | 56669 | 1 | 81 | 0 | 0 | 1 | Private       | 1 | 186.21 | 29   | 1 | 1 |\n",
       "\n"
      ],
      "text/plain": [
       "  id    gender age hypertension heart_disease ever_married work_type    \n",
       "1  9046 1      67  0            1             1            Private      \n",
       "2 51676 0      61  0            0             1            Self-employed\n",
       "3 31112 1      80  0            1             1            Private      \n",
       "4 60182 0      49  0            0             1            Private      \n",
       "5  1665 0      79  1            0             1            Self-employed\n",
       "6 56669 1      81  0            0             1            Private      \n",
       "  Residence_type avg_glucose_level bmi  smoking_status stroke\n",
       "1 1              228.69            36.6 1              1     \n",
       "2 0              202.21            N/A  0              1     \n",
       "3 0              105.92            32.5 0              1     \n",
       "4 1              171.23            34.4 1              1     \n",
       "5 0              174.12            24   0              1     \n",
       "6 1              186.21            29   1              1     "
      ]
     },
     "metadata": {},
     "output_type": "display_data"
    }
   ],
   "source": [
    "head(stroke_data2)"
   ]
  },
  {
   "cell_type": "code",
   "execution_count": 129,
   "metadata": {
    "vscode": {
     "languageId": "r"
    }
   },
   "outputs": [
    {
     "data": {
      "text/plain": [
       "\n",
       "Call:\n",
       "glm(formula = avg_glucose_level ~ gender + hypertension + heart_disease + \n",
       "    ever_married + Residence_type + smoking_status + stroke, \n",
       "    family = inverse.gaussian(link = \"log\"), data = stroke_data2)\n",
       "\n",
       "Deviance Residuals: \n",
       "     Min        1Q    Median        3Q       Max  \n",
       "-0.08364  -0.03166  -0.01361   0.01015   0.10961  \n",
       "\n",
       "Coefficients:\n",
       "                Estimate Std. Error t value Pr(>|t|)    \n",
       "(Intercept)     4.559790   0.016936 269.241  < 2e-16 ***\n",
       "gender          0.044821   0.014548   3.081  0.00208 ** \n",
       "hypertension    0.161074   0.023293   6.915 5.52e-12 ***\n",
       "heart_disease   0.183079   0.032446   5.643 1.81e-08 ***\n",
       "ever_married    0.096723   0.016144   5.991 2.29e-09 ***\n",
       "Residence_type -0.015812   0.014025  -1.127  0.25967    \n",
       "smoking_status  0.005128   0.014209   0.361  0.71819    \n",
       "stroke          0.144734   0.033858   4.275 1.96e-05 ***\n",
       "---\n",
       "Signif. codes:  0 '***' 0.001 '**' 0.01 '*' 0.05 '.' 0.1 ' ' 1\n",
       "\n",
       "(Dispersion parameter for inverse.gaussian family taken to be 0.001622434)\n",
       "\n",
       "    Null deviance: 5.0608  on 3564  degrees of freedom\n",
       "Residual deviance: 4.7014  on 3557  degrees of freedom\n",
       "AIC: 35819\n",
       "\n",
       "Number of Fisher Scoring iterations: 5\n"
      ]
     },
     "metadata": {},
     "output_type": "display_data"
    }
   ],
   "source": [
    "# continuous var as dependent\n",
    "\n",
    "llm1 <- glm(avg_glucose_level ~ gender + hypertension + heart_disease + ever_married + Residence_type + smoking_status + stroke, data = stroke_data2, family = inverse.gaussian(link = 'log'))\n",
    "summary(llm1)"
   ]
  },
  {
   "attachments": {},
   "cell_type": "markdown",
   "metadata": {},
   "source": [
    "Based on the model output, we can state with 99% confidence that an individual's average glucose level is significantly associated by their gender, marital status, the presence of hypertension, heart disease, stroke in the population. All of these factors have positive coefficients, suggesting a positive association in predicting glucose levels. Since all the independent variables are on the same scale, we can compare the coefficients to determine which variable has the greatest influence on glucose levels. Our analysis reveals that the presence of heart disease has the strongest impact on glucose levels among all the variables considered, indicating that for every one-unit increase in the presence of heart disease, the average glucose level is expected to increase by 0.18 units, all other variables being held constant. In terms of reference group, the expected average glucose levels of around is to be expected for single males with no hypertension, heart disease and probability of stroke. Although these results are promising, I decided to optimize the distribution of the response variable further by removing values above 85% and using a kernel optimization algorithm. "
   ]
  },
  {
   "cell_type": "code",
   "execution_count": 130,
   "metadata": {
    "vscode": {
     "languageId": "r"
    }
   },
   "outputs": [
    {
     "name": "stdout",
     "output_type": "stream",
     "text": [
      "Start:  AIC=35818.73\n",
      "avg_glucose_level ~ gender + hypertension + heart_disease + ever_married + \n",
      "    Residence_type + smoking_status + stroke\n",
      "\n",
      "                 Df Deviance   AIC\n",
      "- smoking_status  1   4.7016 35817\n",
      "- Residence_type  1   4.7035 35818\n",
      "<none>                4.7014 35819\n",
      "- gender          1   4.7169 35826\n",
      "- stroke          1   4.7348 35837\n",
      "- ever_married    1   4.7568 35851\n",
      "- heart_disease   1   4.7618 35854\n",
      "- hypertension    1   4.7887 35871\n",
      "\n",
      "Step:  AIC=35816.89\n",
      "avg_glucose_level ~ gender + hypertension + heart_disease + ever_married + \n",
      "    Residence_type + stroke\n",
      "\n",
      "                 Df Deviance   AIC\n",
      "- Residence_type  1   4.7036 35816\n",
      "<none>                4.7016 35817\n",
      "- gender          1   4.7178 35825\n",
      "- stroke          1   4.7351 35836\n",
      "- ever_married    1   4.7580 35850\n",
      "- heart_disease   1   4.7627 35853\n",
      "- hypertension    1   4.7887 35869\n",
      "\n",
      "Step:  AIC=35816.4\n",
      "avg_glucose_level ~ gender + hypertension + heart_disease + ever_married + \n",
      "    stroke\n",
      "\n",
      "                Df Deviance   AIC\n",
      "<none>               4.7036 35816\n",
      "- gender         1   4.7200 35824\n",
      "- stroke         1   4.7369 35835\n",
      "- ever_married   1   4.7594 35849\n",
      "- heart_disease  1   4.7641 35852\n",
      "- hypertension   1   4.7907 35868\n"
     ]
    },
    {
     "data": {
      "text/plain": [
       "\n",
       "Call:  glm(formula = avg_glucose_level ~ gender + hypertension + heart_disease + \n",
       "    ever_married + stroke, family = inverse.gaussian(link = \"log\"), \n",
       "    data = stroke_data2)\n",
       "\n",
       "Coefficients:\n",
       "  (Intercept)         gender   hypertension  heart_disease   ever_married  \n",
       "      4.55393        0.04570        0.16089        0.18281        0.09665  \n",
       "       stroke  \n",
       "      0.14455  \n",
       "\n",
       "Degrees of Freedom: 3564 Total (i.e. Null);  3559 Residual\n",
       "Null Deviance:\t    5.061 \n",
       "Residual Deviance: 4.704 \tAIC: 35820"
      ]
     },
     "metadata": {},
     "output_type": "display_data"
    }
   ],
   "source": [
    "stepAIC(llm1, method = 'both')"
   ]
  },
  {
   "cell_type": "code",
   "execution_count": 85,
   "metadata": {
    "vscode": {
     "languageId": "r"
    }
   },
   "outputs": [
    {
     "data": {
      "text/html": [
       "<style>\n",
       ".list-inline {list-style: none; margin:0; padding: 0}\n",
       ".list-inline>li {display: inline-block}\n",
       ".list-inline>li:not(:last-child)::after {content: \"\\00b7\"; padding: 0 .5ex}\n",
       "</style>\n",
       "<ol class=list-inline><li>1781</li><li>12</li></ol>\n"
      ],
      "text/latex": [
       "\\begin{enumerate*}\n",
       "\\item 1781\n",
       "\\item 12\n",
       "\\end{enumerate*}\n"
      ],
      "text/markdown": [
       "1. 1781\n",
       "2. 12\n",
       "\n",
       "\n"
      ],
      "text/plain": [
       "[1] 1781   12"
      ]
     },
     "metadata": {},
     "output_type": "display_data"
    },
    {
     "data": {
      "text/html": [
       "<style>\n",
       ".list-inline {list-style: none; margin:0; padding: 0}\n",
       ".list-inline>li {display: inline-block}\n",
       ".list-inline>li:not(:last-child)::after {content: \"\\00b7\"; padding: 0 .5ex}\n",
       "</style>\n",
       "<ol class=list-inline><li>891</li><li>12</li></ol>\n"
      ],
      "text/latex": [
       "\\begin{enumerate*}\n",
       "\\item 891\n",
       "\\item 12\n",
       "\\end{enumerate*}\n"
      ],
      "text/markdown": [
       "1. 891\n",
       "2. 12\n",
       "\n",
       "\n"
      ],
      "text/plain": [
       "[1] 891  12"
      ]
     },
     "metadata": {},
     "output_type": "display_data"
    },
    {
     "data": {
      "text/html": [
       "<style>\n",
       ".list-inline {list-style: none; margin:0; padding: 0}\n",
       ".list-inline>li {display: inline-block}\n",
       ".list-inline>li:not(:last-child)::after {content: \"\\00b7\"; padding: 0 .5ex}\n",
       "</style>\n",
       "<ol class=list-inline><li>535</li><li>12</li></ol>\n"
      ],
      "text/latex": [
       "\\begin{enumerate*}\n",
       "\\item 535\n",
       "\\item 12\n",
       "\\end{enumerate*}\n"
      ],
      "text/markdown": [
       "1. 535\n",
       "2. 12\n",
       "\n",
       "\n"
      ],
      "text/plain": [
       "[1] 535  12"
      ]
     },
     "metadata": {},
     "output_type": "display_data"
    },
    {
     "data": {
      "image/png": "[encoded data removed]",
      "text/plain": [
       "Plot with title \"III quartile + a bit more\""
      ]
     },
     "metadata": {
      "image/png": {
       "height": 600,
       "width": 1200
      }
     },
     "output_type": "display_data"
    }
   ],
   "source": [
    "# tunning the dist of response variable\n",
    "\n",
    "dim(subset(stroke_data2, avg_glucose_level > median(avg_glucose_level)))\n",
    "\n",
    "\n",
    "gluc_q1 <- quantile(stroke_data2$avg_glucose_level, prob=c(.25)) # I quartile\n",
    "gluc_q3 <- quantile(stroke_data2$avg_glucose_level, prob=c(.75)) # III quartile\n",
    "gluc_q3.5 <- quantile(stroke_data2$avg_glucose_level, prob=c(.85)) # III quartile + a bit more\n",
    "dim(subset(stroke_data2, avg_glucose_level > gluc_q3))\n",
    "dim(subset(stroke_data2, avg_glucose_level > gluc_q3.5))\n",
    "\n",
    "par(mfrow = c(2,1))\n",
    "boxplot(stroke_data2$avg_glucose_level[stroke_data2$avg_glucose_level < gluc_q3], horizontal = TRUE  , main = \"III quartile\")\n",
    "boxplot(stroke_data2$avg_glucose_level[stroke_data2$avg_glucose_level < gluc_q3.5], horizontal = TRUE, main = \"III quartile + a bit more\")"
   ]
  },
  {
   "cell_type": "code",
   "execution_count": 79,
   "metadata": {
    "vscode": {
     "languageId": "r"
    }
   },
   "outputs": [
    {
     "data": {
      "text/html": [
       "<style>\n",
       ".list-inline {list-style: none; margin:0; padding: 0}\n",
       ".list-inline>li {display: inline-block}\n",
       ".list-inline>li:not(:last-child)::after {content: \"\\00b7\"; padding: 0 .5ex}\n",
       "</style>\n",
       "<ol class=list-inline><li>3030</li><li>12</li></ol>\n"
      ],
      "text/latex": [
       "\\begin{enumerate*}\n",
       "\\item 3030\n",
       "\\item 12\n",
       "\\end{enumerate*}\n"
      ],
      "text/markdown": [
       "1. 3030\n",
       "2. 12\n",
       "\n",
       "\n"
      ],
      "text/plain": [
       "[1] 3030   12"
      ]
     },
     "metadata": {},
     "output_type": "display_data"
    }
   ],
   "source": [
    "stroke_data3 <- subset(stroke_data2, avg_glucose_level < gluc_q3.5)\n",
    "dim(stroke_data3)"
   ]
  },
  {
   "cell_type": "code",
   "execution_count": 84,
   "metadata": {
    "vscode": {
     "languageId": "r"
    }
   },
   "outputs": [
    {
     "data": {
      "image/png": "[encoded data removed]",
      "text/plain": [
       "Plot with title \"biweight kernel opt.\""
      ]
     },
     "metadata": {
      "image/png": {
       "height": 600,
       "width": 1200
      }
     },
     "output_type": "display_data"
    }
   ],
   "source": [
    "# kernel optimization\n",
    "library(gplm) \n",
    "\n",
    "Glucose_ka  <- kde(stroke_data3$avg_glucose_level)\n",
    "Glucose_ka2 <- kde(stroke_data3$avg_glucose_level, bandwidth= 3, kernel=\"epanechnikov\")\n",
    "Glucose_ka3 <- kde(stroke_data3$avg_glucose_level, bandwidth= 3, kernel=\"triangle\")\n",
    "Glucose_ka4 <- kde(stroke_data3$avg_glucose_level, bandwidth= 3, kernel=\"biweight\")\n",
    "par(mfrow = c(2,2))\n",
    "plot(Glucose_ka)\n",
    "plot(Glucose_ka2, main = \"Epanechnikov kernel opt.\")\n",
    "plot(Glucose_ka3, main = \"Triangle kernel opt.\")\n",
    "plot(Glucose_ka4, main = \"biweight kernel opt.\")"
   ]
  },
  {
   "cell_type": "code",
   "execution_count": 133,
   "metadata": {
    "vscode": {
     "languageId": "r"
    }
   },
   "outputs": [
    {
     "data": {
      "text/plain": [
       "\n",
       "Call:\n",
       "glm(formula = avg_glucose_level ~ gender + hypertension + heart_disease + \n",
       "    ever_married + Residence_type + smoking_status + stroke, \n",
       "    family = inverse.gaussian(link = \"log\"), data = stroke_data3)\n",
       "\n",
       "Deviance Residuals: \n",
       "      Min         1Q     Median         3Q        Max  \n",
       "-0.053616  -0.020626  -0.003652   0.013381   0.065014  \n",
       "\n",
       "Coefficients:\n",
       "                 Estimate Std. Error t value Pr(>|t|)    \n",
       "(Intercept)     4.5051166  0.0107333 419.732   <2e-16 ***\n",
       "gender          0.0178725  0.0091997   1.943   0.0521 .  \n",
       "hypertension   -0.0067275  0.0150320  -0.448   0.6545    \n",
       "heart_disease  -0.0008065  0.0212365  -0.038   0.9697    \n",
       "ever_married    0.0061513  0.0101724   0.605   0.5454    \n",
       "Residence_type -0.0099988  0.0088545  -1.129   0.2589    \n",
       "smoking_status -0.0016152  0.0089632  -0.180   0.8570    \n",
       "stroke         -0.0009854  0.0220500  -0.045   0.9644    \n",
       "---\n",
       "Signif. codes:  0 '***' 0.001 '**' 0.01 '*' 0.05 '.' 0.1 ' ' 1\n",
       "\n",
       "(Dispersion parameter for inverse.gaussian family taken to be 0.0006521593)\n",
       "\n",
       "    Null deviance: 1.8897  on 3029  degrees of freedom\n",
       "Residual deviance: 1.8860  on 3022  degrees of freedom\n",
       "AIC: 26990\n",
       "\n",
       "Number of Fisher Scoring iterations: 4\n"
      ]
     },
     "metadata": {},
     "output_type": "display_data"
    }
   ],
   "source": [
    "llm1.2 <- glm(avg_glucose_level ~ gender + hypertension + heart_disease + ever_married + Residence_type + smoking_status + stroke, data = stroke_data3, family = inverse.gaussian(link = 'log'))\n",
    "summary(llm1.2)"
   ]
  },
  {
   "attachments": {},
   "cell_type": "markdown",
   "metadata": {},
   "source": [
    "However, when I built the same model on the revised distribution, it performed worse. This is evident from the non-significant variables, although the intercept remained significant with a p-value of less than .001. further examination would be needed. "
   ]
  },
  {
   "attachments": {},
   "cell_type": "markdown",
   "metadata": {},
   "source": [
    "In the second model, we used the same set of binary variables as in the first model to predict the probability of a stroke occurrence."
   ]
  },
  {
   "cell_type": "code",
   "execution_count": 38,
   "metadata": {
    "vscode": {
     "languageId": "r"
    }
   },
   "outputs": [
    {
     "data": {
      "text/plain": [
       "\n",
       "Call:\n",
       "glm(formula = stroke ~ gender + hypertension + heart_disease + \n",
       "    ever_married + Residence_type + smoking_status, family = binomial(link = \"logit\"), \n",
       "    data = stroke_data2)\n",
       "\n",
       "Deviance Residuals: \n",
       "    Min       1Q   Median       3Q      Max  \n",
       "-0.9142  -0.3297  -0.2967  -0.2196   2.8264  \n",
       "\n",
       "Coefficients:\n",
       "               Estimate Std. Error z value Pr(>|z|)    \n",
       "(Intercept)    -3.97552    0.25021 -15.889  < 2e-16 ***\n",
       "gender         -0.03648    0.15224  -0.240  0.81061    \n",
       "hypertension    1.05062    0.16610   6.325 2.53e-10 ***\n",
       "heart_disease   1.14176    0.20138   5.670 1.43e-08 ***\n",
       "ever_married    0.82785    0.23748   3.486  0.00049 ***\n",
       "Residence_type  0.04640    0.14821   0.313  0.75423    \n",
       "smoking_status  0.25251    0.15023   1.681  0.09281 .  \n",
       "---\n",
       "Signif. codes:  0 '***' 0.001 '**' 0.01 '*' 0.05 '.' 0.1 ' ' 1\n",
       "\n",
       "(Dispersion parameter for binomial family taken to be 1)\n",
       "\n",
       "    Null deviance: 1552.1  on 3564  degrees of freedom\n",
       "Residual deviance: 1452.1  on 3558  degrees of freedom\n",
       "AIC: 1466.1\n",
       "\n",
       "Number of Fisher Scoring iterations: 6\n"
      ]
     },
     "metadata": {},
     "output_type": "display_data"
    }
   ],
   "source": [
    "# categorical-binary as dependent var \n",
    "\n",
    "llm2 <- glm(stroke ~ gender + hypertension + heart_disease + ever_married + Residence_type + smoking_status, data = stroke_data2, family = binomial(link = 'logit'))\n",
    "summary(llm2)"
   ]
  },
  {
   "attachments": {},
   "cell_type": "markdown",
   "metadata": {},
   "source": [
    "Our analysis showed that out of the set of predictors, hypertension, heart disease, and marital status had a significant impact on predicting the stroke occurrence with a p-value of almost 0. Specifically, we found that heart disease had the greatest effect on the likelihood of a stroke. For every one unit increase in heart disease, the probability of a stroke occurrence increased by 1.14.\n",
    "Given that all predictor variables are binary, the intercept in this generalized linear model can be interpreted as the expected log odds of having a stroke for a reference group. This reference group consists of individuals who have no hypertension, heart disease, and are not married. The calculated value for this intercept is -3.98."
   ]
  },
  {
   "cell_type": "code",
   "execution_count": 131,
   "metadata": {
    "vscode": {
     "languageId": "r"
    }
   },
   "outputs": [
    {
     "data": {
      "image/png": "[encoded data removed]",
      "text/plain": [
       "plot without title"
      ]
     },
     "metadata": {
      "image/png": {
       "height": 600,
       "width": 1200
      }
     },
     "output_type": "display_data"
    }
   ],
   "source": [
    "barplot(table(stroke_data2$stroke))"
   ]
  },
  {
   "cell_type": "code",
   "execution_count": 135,
   "metadata": {
    "vscode": {
     "languageId": "r"
    }
   },
   "outputs": [
    {
     "data": {
      "text/plain": [
       "\n",
       "        0         1 \n",
       "94.333801  5.666199 "
      ]
     },
     "metadata": {},
     "output_type": "display_data"
    }
   ],
   "source": [
    "stroke_percentages <- prop.table(stroke_table) * 100\n",
    "stroke_percentages"
   ]
  },
  {
   "cell_type": "code",
   "execution_count": 125,
   "metadata": {
    "vscode": {
     "languageId": "r"
    }
   },
   "outputs": [
    {
     "data": {
      "text/plain": [
       "   Cell Contents \n",
       "|-------------------------|\n",
       "|                   Count | \n",
       "|-------------------------|\n",
       "\n",
       "================================================\n",
       "                             stroke_data2$stroke\n",
       "stroke_data2$hypertension       0      1   Total\n",
       "------------------------------------------------\n",
       "0                            2979    140    3119\n",
       "------------------------------------------------\n",
       "1                             384     62     446\n",
       "------------------------------------------------\n",
       "Total                        3363    202    3565\n",
       "================================================\n",
       "\n",
       "Statistics for All Table Factors\n",
       "\n",
       "Pearson's Chi-squared test \n",
       "------------------------------------------------------------\n",
       "Chi^2 = 64.67888      d.f. = 1      p = 8.82e-16 \n",
       "\n",
       "Pearson's Chi-squared test with Yates' continuity correction \n",
       "------------------------------------------------------------\n",
       "Chi^2 = 62.92988      d.f. = 1      p = 2.14e-15 \n",
       "        Minimum expected frequency: 25.27125 \n"
      ]
     },
     "metadata": {},
     "output_type": "display_data"
    },
    {
     "data": {
      "image/png": "[encoded data removed]",
      "text/plain": [
       "Plot with title \"\""
      ]
     },
     "metadata": {
      "image/png": {
       "height": 600,
       "width": 1200
      }
     },
     "output_type": "display_data"
    }
   ],
   "source": [
    "descr::crosstab(stroke_data2$hypertension, stroke_data2$stroke, chisq = TRUE)"
   ]
  },
  {
   "cell_type": "code",
   "execution_count": 107,
   "metadata": {
    "vscode": {
     "languageId": "r"
    }
   },
   "outputs": [
    {
     "data": {
      "text/plain": [
       "   Cell Contents \n",
       "|-------------------------|\n",
       "|                   Count | \n",
       "|-------------------------|\n",
       "\n",
       "=================================================\n",
       "                              stroke_data2$stroke\n",
       "stroke_data2$heart_disease       0      1   Total\n",
       "-------------------------------------------------\n",
       "0                             3174    163    3337\n",
       "-------------------------------------------------\n",
       "1                              189     39     228\n",
       "-------------------------------------------------\n",
       "Total                         3363    202    3565\n",
       "=================================================\n",
       "\n",
       "Statistics for All Table Factors\n",
       "\n",
       "Pearson's Chi-squared test \n",
       "------------------------------------------------------------\n",
       "Chi^2 = 59.62934      d.f. = 1      p = 1.15e-14 \n",
       "\n",
       "Pearson's Chi-squared test with Yates' continuity correction \n",
       "------------------------------------------------------------\n",
       "Chi^2 = 57.36495      d.f. = 1      p = 3.62e-14 \n",
       "        Minimum expected frequency: 12.91893 \n"
      ]
     },
     "metadata": {},
     "output_type": "display_data"
    },
    {
     "data": {
      "image/png": "[encoded data removed]",
      "text/plain": [
       "Plot with title \"\""
      ]
     },
     "metadata": {
      "image/png": {
       "height": 600,
       "width": 1200
      }
     },
     "output_type": "display_data"
    }
   ],
   "source": [
    "descr::crosstab(stroke_data2$heart_disease, stroke_data2$stroke, chisq = TRUE)"
   ]
  },
  {
   "cell_type": "code",
   "execution_count": 108,
   "metadata": {
    "vscode": {
     "languageId": "r"
    }
   },
   "outputs": [
    {
     "data": {
      "text/plain": [
       "   Cell Contents \n",
       "|-------------------------|\n",
       "|                   Count | \n",
       "|-------------------------|\n",
       "\n",
       "================================================\n",
       "                             stroke_data2$stroke\n",
       "stroke_data2$ever_married       0      1   Total\n",
       "------------------------------------------------\n",
       "0                             834     21     855\n",
       "------------------------------------------------\n",
       "1                            2529    181    2710\n",
       "------------------------------------------------\n",
       "Total                        3363    202    3565\n",
       "================================================\n",
       "\n",
       "Statistics for All Table Factors\n",
       "\n",
       "Pearson's Chi-squared test \n",
       "------------------------------------------------------------\n",
       "Chi^2 = 21.68319      d.f. = 1      p = 3.22e-06 \n",
       "\n",
       "Pearson's Chi-squared test with Yates' continuity correction \n",
       "------------------------------------------------------------\n",
       "Chi^2 = 20.90035      d.f. = 1      p = 4.84e-06 \n",
       "        Minimum expected frequency: 48.446 \n"
      ]
     },
     "metadata": {},
     "output_type": "display_data"
    },
    {
     "data": {
      "image/png": "[encoded data removed]",
      "text/plain": [
       "Plot with title \"\""
      ]
     },
     "metadata": {
      "image/png": {
       "height": 600,
       "width": 1200
      }
     },
     "output_type": "display_data"
    }
   ],
   "source": [
    "descr::crosstab(stroke_data2$ever_married, stroke_data2$stroke, chisq = TRUE)"
   ]
  },
  {
   "attachments": {},
   "cell_type": "markdown",
   "metadata": {},
   "source": [
    "After analyzing each significant variable in the cross-table, we observed that in all three instances, the Chi-square value is statistically significant and that the rectangle of individuals with both positive values is relatively low. In fact, even when analyzing the frequency of the stroke occurrence, we noticed that the percentage of individuals with a probability of stroke is only 6%. To further validate this findings, it would be necessary to collect additional data from individuals who have a probability of having a stroke. This additional data could improve the robustness of the results and help identify more accurate predictors of heart stroke.\n"
   ]
  }
 ],
 "metadata": {
  "kernelspec": {
   "display_name": "R",
   "language": "R",
   "name": "ir"
  },
  "language_info": {
   "codemirror_mode": "r",
   "file_extension": ".r",
   "mimetype": "text/x-r-source",
   "name": "R",
   "pygments_lexer": "r",
   "version": "4.2.2"
  },
  "orig_nbformat": 4
 },
 "nbformat": 4,
 "nbformat_minor": 2
}
