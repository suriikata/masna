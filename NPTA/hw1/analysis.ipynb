{
 "cells": [
  {
   "attachments": {},
   "cell_type": "markdown",
   "metadata": {},
   "source": [
    "# NPTaA: Homework Assignment"
   ]
  },
  {
   "attachments": {},
   "cell_type": "markdown",
   "metadata": {},
   "source": [
    "**Data Dictionary**\n",
    "\n",
    "* Booking_ID: unique identifier of each booking \n",
    "* no_of_adults: Number of adults                \n",
    "* no_of_children: Number of Children            \n",
    "* no_of_weekend_nights: Number of weekend nights (Saturday or Sunday) the guest stayed or booked    to                       stay at the hotel\n",
    "* no_of_week_nights: Number of week nights (Monday to Friday) the guest stayed or booked to stay at the hotel\n",
    "* type_of_meal_plan: Type of meal plan booked by the customer:\n",
    "* required_car_parking_space: Does the customer require a car parking space? (0 - No, 1- Yes)\n",
    "* room_type_reserved: Type of room reserved by the customer. The values are ciphered (encoded) by INN Hotels.\n",
    "* lead_time: Number of days between the date of booking and the arrival date\n",
    "* arrival_year: Year of arrival date\n",
    "* arrival_month: Month of arrival date\n",
    "* arrival_date: Date of the month\n",
    "* market_segment_type: Market segment designation.\n",
    "* repeated_guest: Is the customer a repeated guest? (0 - No, 1- Yes)\n",
    "* no_of_previous_cancellations: Number of previous bookings that were canceled by the customer prior to the current booking\n",
    "* no_of_previous_bookings_not_canceled: Number of previous bookings not canceled by the customer prior to the current booking\n",
    "* avg_price_per_room: Average price per day of the reservation; prices of the rooms are dynamic. (in euros)\n",
    "* no_of_special_requests: Total number of special requests made by the customer (e.g. high floor, view from the room, etc)\n",
    "* booking_status: Flag indicating if the booking was canceled or not.\n",
    "\n",
    "---"
   ]
  },
  {
   "cell_type": "code",
   "execution_count": 4,
   "metadata": {
    "vscode": {
     "languageId": "r"
    }
   },
   "outputs": [
    {
     "data": {
      "text/html": [
       "<table class=\"dataframe\">\n",
       "<caption>A data.frame: 6 × 19</caption>\n",
       "<thead>\n",
       "\t<tr><th></th><th scope=col>Booking_ID</th><th scope=col>no_of_adults</th><th scope=col>no_of_children</th><th scope=col>no_of_weekend_nights</th><th scope=col>no_of_week_nights</th><th scope=col>type_of_meal_plan</th><th scope=col>required_car_parking_space</th><th scope=col>room_type_reserved</th><th scope=col>lead_time</th><th scope=col>arrival_year</th><th scope=col>arrival_month</th><th scope=col>arrival_date</th><th scope=col>market_segment_type</th><th scope=col>repeated_guest</th><th scope=col>no_of_previous_cancellations</th><th scope=col>no_of_previous_bookings_not_canceled</th><th scope=col>avg_price_per_room</th><th scope=col>no_of_special_requests</th><th scope=col>booking_status</th></tr>\n",
       "\t<tr><th></th><th scope=col>&lt;chr&gt;</th><th scope=col>&lt;int&gt;</th><th scope=col>&lt;int&gt;</th><th scope=col>&lt;int&gt;</th><th scope=col>&lt;int&gt;</th><th scope=col>&lt;chr&gt;</th><th scope=col>&lt;int&gt;</th><th scope=col>&lt;chr&gt;</th><th scope=col>&lt;int&gt;</th><th scope=col>&lt;int&gt;</th><th scope=col>&lt;int&gt;</th><th scope=col>&lt;int&gt;</th><th scope=col>&lt;chr&gt;</th><th scope=col>&lt;int&gt;</th><th scope=col>&lt;int&gt;</th><th scope=col>&lt;int&gt;</th><th scope=col>&lt;dbl&gt;</th><th scope=col>&lt;int&gt;</th><th scope=col>&lt;chr&gt;</th></tr>\n",
       "</thead>\n",
       "<tbody>\n",
       "\t<tr><th scope=row>1</th><td>INN00001</td><td>2</td><td>0</td><td>1</td><td>2</td><td>Meal Plan 1 </td><td>0</td><td>Room_Type 1</td><td>224</td><td>2017</td><td>10</td><td> 2</td><td>Offline</td><td>0</td><td>0</td><td>0</td><td> 65.00</td><td>0</td><td>Not_Canceled</td></tr>\n",
       "\t<tr><th scope=row>2</th><td>INN00002</td><td>2</td><td>0</td><td>2</td><td>3</td><td>Not Selected</td><td>0</td><td>Room_Type 1</td><td>  5</td><td>2018</td><td>11</td><td> 6</td><td>Online </td><td>0</td><td>0</td><td>0</td><td>106.68</td><td>1</td><td>Not_Canceled</td></tr>\n",
       "\t<tr><th scope=row>3</th><td>INN00003</td><td>1</td><td>0</td><td>2</td><td>1</td><td>Meal Plan 1 </td><td>0</td><td>Room_Type 1</td><td>  1</td><td>2018</td><td> 2</td><td>28</td><td>Online </td><td>0</td><td>0</td><td>0</td><td> 60.00</td><td>0</td><td>Canceled    </td></tr>\n",
       "\t<tr><th scope=row>4</th><td>INN00004</td><td>2</td><td>0</td><td>0</td><td>2</td><td>Meal Plan 1 </td><td>0</td><td>Room_Type 1</td><td>211</td><td>2018</td><td> 5</td><td>20</td><td>Online </td><td>0</td><td>0</td><td>0</td><td>100.00</td><td>0</td><td>Canceled    </td></tr>\n",
       "\t<tr><th scope=row>5</th><td>INN00005</td><td>2</td><td>0</td><td>1</td><td>1</td><td>Not Selected</td><td>0</td><td>Room_Type 1</td><td> 48</td><td>2018</td><td> 4</td><td>11</td><td>Online </td><td>0</td><td>0</td><td>0</td><td> 94.50</td><td>0</td><td>Canceled    </td></tr>\n",
       "\t<tr><th scope=row>6</th><td>INN00006</td><td>2</td><td>0</td><td>0</td><td>2</td><td>Meal Plan 2 </td><td>0</td><td>Room_Type 1</td><td>346</td><td>2018</td><td> 9</td><td>13</td><td>Online </td><td>0</td><td>0</td><td>0</td><td>115.00</td><td>1</td><td>Canceled    </td></tr>\n",
       "</tbody>\n",
       "</table>\n"
      ],
      "text/latex": [
       "A data.frame: 6 × 19\n",
       "\\begin{tabular}{r|lllllllllllllllllll}\n",
       "  & Booking\\_ID & no\\_of\\_adults & no\\_of\\_children & no\\_of\\_weekend\\_nights & no\\_of\\_week\\_nights & type\\_of\\_meal\\_plan & required\\_car\\_parking\\_space & room\\_type\\_reserved & lead\\_time & arrival\\_year & arrival\\_month & arrival\\_date & market\\_segment\\_type & repeated\\_guest & no\\_of\\_previous\\_cancellations & no\\_of\\_previous\\_bookings\\_not\\_canceled & avg\\_price\\_per\\_room & no\\_of\\_special\\_requests & booking\\_status\\\\\n",
       "  & <chr> & <int> & <int> & <int> & <int> & <chr> & <int> & <chr> & <int> & <int> & <int> & <int> & <chr> & <int> & <int> & <int> & <dbl> & <int> & <chr>\\\\\n",
       "\\hline\n",
       "\t1 & INN00001 & 2 & 0 & 1 & 2 & Meal Plan 1  & 0 & Room\\_Type 1 & 224 & 2017 & 10 &  2 & Offline & 0 & 0 & 0 &  65.00 & 0 & Not\\_Canceled\\\\\n",
       "\t2 & INN00002 & 2 & 0 & 2 & 3 & Not Selected & 0 & Room\\_Type 1 &   5 & 2018 & 11 &  6 & Online  & 0 & 0 & 0 & 106.68 & 1 & Not\\_Canceled\\\\\n",
       "\t3 & INN00003 & 1 & 0 & 2 & 1 & Meal Plan 1  & 0 & Room\\_Type 1 &   1 & 2018 &  2 & 28 & Online  & 0 & 0 & 0 &  60.00 & 0 & Canceled    \\\\\n",
       "\t4 & INN00004 & 2 & 0 & 0 & 2 & Meal Plan 1  & 0 & Room\\_Type 1 & 211 & 2018 &  5 & 20 & Online  & 0 & 0 & 0 & 100.00 & 0 & Canceled    \\\\\n",
       "\t5 & INN00005 & 2 & 0 & 1 & 1 & Not Selected & 0 & Room\\_Type 1 &  48 & 2018 &  4 & 11 & Online  & 0 & 0 & 0 &  94.50 & 0 & Canceled    \\\\\n",
       "\t6 & INN00006 & 2 & 0 & 0 & 2 & Meal Plan 2  & 0 & Room\\_Type 1 & 346 & 2018 &  9 & 13 & Online  & 0 & 0 & 0 & 115.00 & 1 & Canceled    \\\\\n",
       "\\end{tabular}\n"
      ],
      "text/markdown": [
       "\n",
       "A data.frame: 6 × 19\n",
       "\n",
       "| <!--/--> | Booking_ID &lt;chr&gt; | no_of_adults &lt;int&gt; | no_of_children &lt;int&gt; | no_of_weekend_nights &lt;int&gt; | no_of_week_nights &lt;int&gt; | type_of_meal_plan &lt;chr&gt; | required_car_parking_space &lt;int&gt; | room_type_reserved &lt;chr&gt; | lead_time &lt;int&gt; | arrival_year &lt;int&gt; | arrival_month &lt;int&gt; | arrival_date &lt;int&gt; | market_segment_type &lt;chr&gt; | repeated_guest &lt;int&gt; | no_of_previous_cancellations &lt;int&gt; | no_of_previous_bookings_not_canceled &lt;int&gt; | avg_price_per_room &lt;dbl&gt; | no_of_special_requests &lt;int&gt; | booking_status &lt;chr&gt; |\n",
       "|---|---|---|---|---|---|---|---|---|---|---|---|---|---|---|---|---|---|---|---|\n",
       "| 1 | INN00001 | 2 | 0 | 1 | 2 | Meal Plan 1  | 0 | Room_Type 1 | 224 | 2017 | 10 |  2 | Offline | 0 | 0 | 0 |  65.00 | 0 | Not_Canceled |\n",
       "| 2 | INN00002 | 2 | 0 | 2 | 3 | Not Selected | 0 | Room_Type 1 |   5 | 2018 | 11 |  6 | Online  | 0 | 0 | 0 | 106.68 | 1 | Not_Canceled |\n",
       "| 3 | INN00003 | 1 | 0 | 2 | 1 | Meal Plan 1  | 0 | Room_Type 1 |   1 | 2018 |  2 | 28 | Online  | 0 | 0 | 0 |  60.00 | 0 | Canceled     |\n",
       "| 4 | INN00004 | 2 | 0 | 0 | 2 | Meal Plan 1  | 0 | Room_Type 1 | 211 | 2018 |  5 | 20 | Online  | 0 | 0 | 0 | 100.00 | 0 | Canceled     |\n",
       "| 5 | INN00005 | 2 | 0 | 1 | 1 | Not Selected | 0 | Room_Type 1 |  48 | 2018 |  4 | 11 | Online  | 0 | 0 | 0 |  94.50 | 0 | Canceled     |\n",
       "| 6 | INN00006 | 2 | 0 | 0 | 2 | Meal Plan 2  | 0 | Room_Type 1 | 346 | 2018 |  9 | 13 | Online  | 0 | 0 | 0 | 115.00 | 1 | Canceled     |\n",
       "\n"
      ],
      "text/plain": [
       "  Booking_ID no_of_adults no_of_children no_of_weekend_nights no_of_week_nights\n",
       "1 INN00001   2            0              1                    2                \n",
       "2 INN00002   2            0              2                    3                \n",
       "3 INN00003   1            0              2                    1                \n",
       "4 INN00004   2            0              0                    2                \n",
       "5 INN00005   2            0              1                    1                \n",
       "6 INN00006   2            0              0                    2                \n",
       "  type_of_meal_plan required_car_parking_space room_type_reserved lead_time\n",
       "1 Meal Plan 1       0                          Room_Type 1        224      \n",
       "2 Not Selected      0                          Room_Type 1          5      \n",
       "3 Meal Plan 1       0                          Room_Type 1          1      \n",
       "4 Meal Plan 1       0                          Room_Type 1        211      \n",
       "5 Not Selected      0                          Room_Type 1         48      \n",
       "6 Meal Plan 2       0                          Room_Type 1        346      \n",
       "  arrival_year arrival_month arrival_date market_segment_type repeated_guest\n",
       "1 2017         10             2           Offline             0             \n",
       "2 2018         11             6           Online              0             \n",
       "3 2018          2            28           Online              0             \n",
       "4 2018          5            20           Online              0             \n",
       "5 2018          4            11           Online              0             \n",
       "6 2018          9            13           Online              0             \n",
       "  no_of_previous_cancellations no_of_previous_bookings_not_canceled\n",
       "1 0                            0                                   \n",
       "2 0                            0                                   \n",
       "3 0                            0                                   \n",
       "4 0                            0                                   \n",
       "5 0                            0                                   \n",
       "6 0                            0                                   \n",
       "  avg_price_per_room no_of_special_requests booking_status\n",
       "1  65.00             0                      Not_Canceled  \n",
       "2 106.68             1                      Not_Canceled  \n",
       "3  60.00             0                      Canceled      \n",
       "4 100.00             0                      Canceled      \n",
       "5  94.50             0                      Canceled      \n",
       "6 115.00             1                      Canceled      "
      ]
     },
     "metadata": {},
     "output_type": "display_data"
    }
   ],
   "source": [
    "library(readr)\n",
    "\n",
    "data <- read.csv('Hotel Reservations.csv')\n",
    "head(data)"
   ]
  },
  {
   "attachments": {},
   "cell_type": "markdown",
   "metadata": {},
   "source": [
    "## Q6 Practical Task 1"
   ]
  },
  {
   "cell_type": "code",
   "execution_count": 7,
   "metadata": {
    "vscode": {
     "languageId": "r"
    }
   },
   "outputs": [
    {
     "name": "stdout",
     "output_type": "stream",
     "text": [
      "── Data Summary ────────────────────────\n",
      "                           Values     \n",
      "Name                       week_nights\n",
      "Number of rows             36275      \n",
      "Number of columns          1          \n",
      "_______________________               \n",
      "Column type frequency:                \n",
      "  numeric                  1          \n",
      "________________________              \n",
      "Group variables            None       \n",
      "\n",
      "── Variable type: numeric ──────────────────────────────────────────────────────\n",
      "  skim_variable n_missing complete_rate mean   sd p0 p25 p50 p75 p100 hist \n",
      "\u001b[90m1\u001b[39m data                  0             1 2.20 1.41  0   1   2   3   17 ▇▁▁▁▁\n"
     ]
    },
    {
     "name": "stderr",
     "output_type": "stream",
     "text": [
      "Warning message in is.null(text_repr) || nchar(text_repr) == 0L:\n",
      "\"'length(x) = 12 > 1' in coercion to 'logical(1)'\"\n"
     ]
    },
    {
     "data": {
      "text/html": [
       "<table class=\"dataframe\">\n",
       "<caption>A skim_df: 1 × 12</caption>\n",
       "<thead>\n",
       "\t<tr><th></th><th scope=col>skim_type</th><th scope=col>skim_variable</th><th scope=col>n_missing</th><th scope=col>complete_rate</th><th scope=col>numeric.mean</th><th scope=col>numeric.sd</th><th scope=col>numeric.p0</th><th scope=col>numeric.p25</th><th scope=col>numeric.p50</th><th scope=col>numeric.p75</th><th scope=col>numeric.p100</th><th scope=col>numeric.hist</th></tr>\n",
       "\t<tr><th></th><th scope=col>&lt;chr&gt;</th><th scope=col>&lt;chr&gt;</th><th scope=col>&lt;int&gt;</th><th scope=col>&lt;dbl&gt;</th><th scope=col>&lt;dbl&gt;</th><th scope=col>&lt;dbl&gt;</th><th scope=col>&lt;dbl&gt;</th><th scope=col>&lt;dbl&gt;</th><th scope=col>&lt;dbl&gt;</th><th scope=col>&lt;dbl&gt;</th><th scope=col>&lt;dbl&gt;</th><th scope=col>&lt;chr&gt;</th></tr>\n",
       "</thead>\n",
       "<tbody>\n",
       "\t<tr><th scope=row>1</th><td>numeric</td><td>data</td><td>0</td><td>1</td><td>2.2043</td><td>1.410905</td><td>0</td><td>1</td><td>2</td><td>3</td><td>17</td><td>▇▁▁▁▁</td></tr>\n",
       "</tbody>\n",
       "</table>\n"
      ],
      "text/latex": [
       "A skim\\_df: 1 × 12\n",
       "\\begin{tabular}{r|llllllllllll}\n",
       "  & skim\\_type & skim\\_variable & n\\_missing & complete\\_rate & numeric.mean & numeric.sd & numeric.p0 & numeric.p25 & numeric.p50 & numeric.p75 & numeric.p100 & numeric.hist\\\\\n",
       "  & <chr> & <chr> & <int> & <dbl> & <dbl> & <dbl> & <dbl> & <dbl> & <dbl> & <dbl> & <dbl> & <chr>\\\\\n",
       "\\hline\n",
       "\t1 & numeric & data & 0 & 1 & 2.2043 & 1.410905 & 0 & 1 & 2 & 3 & 17 & ▇▁▁▁▁\\\\\n",
       "\\end{tabular}\n"
      ],
      "text/markdown": [
       "\n",
       "A skim_df: 1 × 12\n",
       "\n",
       "| <!--/--> | skim_type &lt;chr&gt; | skim_variable &lt;chr&gt; | n_missing &lt;int&gt; | complete_rate &lt;dbl&gt; | numeric.mean &lt;dbl&gt; | numeric.sd &lt;dbl&gt; | numeric.p0 &lt;dbl&gt; | numeric.p25 &lt;dbl&gt; | numeric.p50 &lt;dbl&gt; | numeric.p75 &lt;dbl&gt; | numeric.p100 &lt;dbl&gt; | numeric.hist &lt;chr&gt; |\n",
       "|---|---|---|---|---|---|---|---|---|---|---|---|---|\n",
       "| 1 | numeric | data | 0 | 1 | 2.2043 | 1.410905 | 0 | 1 | 2 | 3 | 17 | ▇▁▁▁▁ |\n",
       "\n"
      ],
      "text/plain": [
       "[object Object]"
      ]
     },
     "metadata": {},
     "output_type": "display_data"
    }
   ],
   "source": [
    "library(skimr)\n",
    "\n",
    "week_nights <- data$no_of_week_nights\n",
    "skim(week_nights)"
   ]
  },
  {
   "cell_type": "code",
   "execution_count": 48,
   "metadata": {
    "vscode": {
     "languageId": "r"
    }
   },
   "outputs": [
    {
     "data": {
      "text/html": [
       "<strong>png:</strong> 2"
      ],
      "text/latex": [
       "\\textbf{png:} 2"
      ],
      "text/markdown": [
       "**png:** 2"
      ],
      "text/plain": [
       "png \n",
       "  2 "
      ]
     },
     "metadata": {},
     "output_type": "display_data"
    }
   ],
   "source": [
    "png(\"Image Export/Task 1.png\", width = 2000, height = 2000, unit = \"px\")\n",
    "\n",
    "par(mfrow = c(2,1))\n",
    "hist(week_nights, breaks = \"Freedman-Diaconis\", main = 'Histogram of number of week nights stayed at the hotel', \n",
    "     xlab = \"Nights\", ylim = c(0,13000), col = '#f42723',\n",
    "     cex.main = 2, cex.lab = 1.5, cex.axis = 1.5)\n",
    "plot(density(week_nights), main = 'Density plot of number of week nights stayed at the hotel',\n",
    "      xlab = 'Nights',  col = 'red',\n",
    "      cex.main = 2, cex.lab = 1.5, cex.axis = 1.5)\n",
    "\n",
    "dev.off()"
   ]
  },
  {
   "attachments": {},
   "cell_type": "markdown",
   "metadata": {},
   "source": [
    "## Q6 Practical task 2"
   ]
  },
  {
   "cell_type": "code",
   "execution_count": 9,
   "metadata": {
    "vscode": {
     "languageId": "r"
    }
   },
   "outputs": [
    {
     "data": {
      "text/html": [
       "<style>\n",
       ".dl-inline {width: auto; margin:0; padding: 0}\n",
       ".dl-inline>dt, .dl-inline>dd {float: none; width: auto; display: inline-block}\n",
       ".dl-inline>dt::after {content: \":\\0020\"; padding-right: .5ex}\n",
       ".dl-inline>dt:not(:first-of-type) {padding-left: .5ex}\n",
       "</style><dl class=dl-inline><dt>Booking_ID</dt><dd>'character'</dd><dt>no_of_adults</dt><dd>'integer'</dd><dt>no_of_children</dt><dd>'integer'</dd><dt>no_of_weekend_nights</dt><dd>'integer'</dd><dt>no_of_week_nights</dt><dd>'integer'</dd><dt>type_of_meal_plan</dt><dd>'character'</dd><dt>required_car_parking_space</dt><dd>'integer'</dd><dt>room_type_reserved</dt><dd>'character'</dd><dt>lead_time</dt><dd>'integer'</dd><dt>arrival_year</dt><dd>'integer'</dd><dt>arrival_month</dt><dd>'integer'</dd><dt>arrival_date</dt><dd>'integer'</dd><dt>market_segment_type</dt><dd>'character'</dd><dt>repeated_guest</dt><dd>'integer'</dd><dt>no_of_previous_cancellations</dt><dd>'integer'</dd><dt>no_of_previous_bookings_not_canceled</dt><dd>'integer'</dd><dt>avg_price_per_room</dt><dd>'numeric'</dd><dt>no_of_special_requests</dt><dd>'integer'</dd><dt>booking_status</dt><dd>'character'</dd></dl>\n"
      ],
      "text/latex": [
       "\\begin{description*}\n",
       "\\item[Booking\\textbackslash{}\\_ID] 'character'\n",
       "\\item[no\\textbackslash{}\\_of\\textbackslash{}\\_adults] 'integer'\n",
       "\\item[no\\textbackslash{}\\_of\\textbackslash{}\\_children] 'integer'\n",
       "\\item[no\\textbackslash{}\\_of\\textbackslash{}\\_weekend\\textbackslash{}\\_nights] 'integer'\n",
       "\\item[no\\textbackslash{}\\_of\\textbackslash{}\\_week\\textbackslash{}\\_nights] 'integer'\n",
       "\\item[type\\textbackslash{}\\_of\\textbackslash{}\\_meal\\textbackslash{}\\_plan] 'character'\n",
       "\\item[required\\textbackslash{}\\_car\\textbackslash{}\\_parking\\textbackslash{}\\_space] 'integer'\n",
       "\\item[room\\textbackslash{}\\_type\\textbackslash{}\\_reserved] 'character'\n",
       "\\item[lead\\textbackslash{}\\_time] 'integer'\n",
       "\\item[arrival\\textbackslash{}\\_year] 'integer'\n",
       "\\item[arrival\\textbackslash{}\\_month] 'integer'\n",
       "\\item[arrival\\textbackslash{}\\_date] 'integer'\n",
       "\\item[market\\textbackslash{}\\_segment\\textbackslash{}\\_type] 'character'\n",
       "\\item[repeated\\textbackslash{}\\_guest] 'integer'\n",
       "\\item[no\\textbackslash{}\\_of\\textbackslash{}\\_previous\\textbackslash{}\\_cancellations] 'integer'\n",
       "\\item[no\\textbackslash{}\\_of\\textbackslash{}\\_previous\\textbackslash{}\\_bookings\\textbackslash{}\\_not\\textbackslash{}\\_canceled] 'integer'\n",
       "\\item[avg\\textbackslash{}\\_price\\textbackslash{}\\_per\\textbackslash{}\\_room] 'numeric'\n",
       "\\item[no\\textbackslash{}\\_of\\textbackslash{}\\_special\\textbackslash{}\\_requests] 'integer'\n",
       "\\item[booking\\textbackslash{}\\_status] 'character'\n",
       "\\end{description*}\n"
      ],
      "text/markdown": [
       "Booking_ID\n",
       ":   'character'no_of_adults\n",
       ":   'integer'no_of_children\n",
       ":   'integer'no_of_weekend_nights\n",
       ":   'integer'no_of_week_nights\n",
       ":   'integer'type_of_meal_plan\n",
       ":   'character'required_car_parking_space\n",
       ":   'integer'room_type_reserved\n",
       ":   'character'lead_time\n",
       ":   'integer'arrival_year\n",
       ":   'integer'arrival_month\n",
       ":   'integer'arrival_date\n",
       ":   'integer'market_segment_type\n",
       ":   'character'repeated_guest\n",
       ":   'integer'no_of_previous_cancellations\n",
       ":   'integer'no_of_previous_bookings_not_canceled\n",
       ":   'integer'avg_price_per_room\n",
       ":   'numeric'no_of_special_requests\n",
       ":   'integer'booking_status\n",
       ":   'character'\n",
       "\n"
      ],
      "text/plain": [
       "                          Booking_ID                         no_of_adults \n",
       "                         \"character\"                            \"integer\" \n",
       "                      no_of_children                 no_of_weekend_nights \n",
       "                           \"integer\"                            \"integer\" \n",
       "                   no_of_week_nights                    type_of_meal_plan \n",
       "                           \"integer\"                          \"character\" \n",
       "          required_car_parking_space                   room_type_reserved \n",
       "                           \"integer\"                          \"character\" \n",
       "                           lead_time                         arrival_year \n",
       "                           \"integer\"                            \"integer\" \n",
       "                       arrival_month                         arrival_date \n",
       "                           \"integer\"                            \"integer\" \n",
       "                 market_segment_type                       repeated_guest \n",
       "                         \"character\"                            \"integer\" \n",
       "        no_of_previous_cancellations no_of_previous_bookings_not_canceled \n",
       "                           \"integer\"                            \"integer\" \n",
       "                  avg_price_per_room               no_of_special_requests \n",
       "                           \"numeric\"                            \"integer\" \n",
       "                      booking_status \n",
       "                         \"character\" "
      ]
     },
     "metadata": {},
     "output_type": "display_data"
    }
   ],
   "source": [
    "sapply(data, class)     # checking the class (type) of variables"
   ]
  },
  {
   "cell_type": "code",
   "execution_count": 10,
   "metadata": {
    "vscode": {
     "languageId": "r"
    }
   },
   "outputs": [
    {
     "data": {
      "text/plain": [
       "data \n",
       "\n",
       " 19  Variables      36275  Observations\n",
       "--------------------------------------------------------------------------------\n",
       "Booking_ID \n",
       "       n  missing distinct \n",
       "   36275        0    36275 \n",
       "\n",
       "lowest : INN00001 INN00002 INN00003 INN00004 INN00005\n",
       "highest: INN36271 INN36272 INN36273 INN36274 INN36275\n",
       "--------------------------------------------------------------------------------\n",
       "no_of_adults \n",
       "       n  missing distinct     Info     Mean      Gmd \n",
       "   36275        0        5    0.617    1.845   0.4675 \n",
       "\n",
       "lowest : 0 1 2 3 4, highest: 0 1 2 3 4\n",
       "                                        \n",
       "Value          0     1     2     3     4\n",
       "Frequency    139  7695 26108  2317    16\n",
       "Proportion 0.004 0.212 0.720 0.064 0.000\n",
       "--------------------------------------------------------------------------------\n",
       "no_of_children \n",
       "       n  missing distinct     Info     Mean      Gmd \n",
       "   36275        0        6    0.207   0.1053   0.1977 \n",
       "\n",
       "lowest :  0  1  2  3  9, highest:  1  2  3  9 10\n",
       "                                              \n",
       "Value          0     1     2     3     9    10\n",
       "Frequency  33577  1618  1058    19     2     1\n",
       "Proportion 0.926 0.045 0.029 0.001 0.000 0.000\n",
       "--------------------------------------------------------------------------------\n",
       "no_of_weekend_nights \n",
       "       n  missing distinct     Info     Mean      Gmd \n",
       "   36275        0        8    0.863   0.8107   0.9145 \n",
       "\n",
       "lowest : 0 1 2 3 4, highest: 3 4 5 6 7\n",
       "                                                          \n",
       "Value          0     1     2     3     4     5     6     7\n",
       "Frequency  16872  9995  9071   153   129    34    20     1\n",
       "Proportion 0.465 0.276 0.250 0.004 0.004 0.001 0.001 0.000\n",
       "--------------------------------------------------------------------------------\n",
       "no_of_week_nights \n",
       "       n  missing distinct     Info     Mean      Gmd      .05      .10 \n",
       "   36275        0       18     0.94    2.204    1.456        0        1 \n",
       "     .25      .50      .75      .90      .95 \n",
       "       1        2        3        4        5 \n",
       "\n",
       "lowest :  0  1  2  3  4, highest: 13 14 15 16 17\n",
       "                                                                            \n",
       "Value          0     1     2     3     4     5     6     7     8     9    10\n",
       "Frequency   2387  9488 11444  7839  2990  1614   189   113    62    34    62\n",
       "Proportion 0.066 0.262 0.315 0.216 0.082 0.044 0.005 0.003 0.002 0.001 0.002\n",
       "                                                    \n",
       "Value         11    12    13    14    15    16    17\n",
       "Frequency     17     9     5     7    10     2     3\n",
       "Proportion 0.000 0.000 0.000 0.000 0.000 0.000 0.000\n",
       "--------------------------------------------------------------------------------\n",
       "type_of_meal_plan \n",
       "       n  missing distinct \n",
       "   36275        0        4 \n",
       "                                                              \n",
       "Value       Meal Plan 1  Meal Plan 2  Meal Plan 3 Not Selected\n",
       "Frequency         27835         3305            5         5130\n",
       "Proportion        0.767        0.091        0.000        0.141\n",
       "--------------------------------------------------------------------------------\n",
       "required_car_parking_space \n",
       "       n  missing distinct     Info      Sum     Mean      Gmd \n",
       "   36275        0        2     0.09     1124  0.03099  0.06005 \n",
       "\n",
       "--------------------------------------------------------------------------------\n",
       "room_type_reserved \n",
       "       n  missing distinct \n",
       "   36275        0        7 \n",
       "\n",
       "lowest : Room_Type 1 Room_Type 2 Room_Type 3 Room_Type 4 Room_Type 5\n",
       "highest: Room_Type 3 Room_Type 4 Room_Type 5 Room_Type 6 Room_Type 7\n",
       "                                                                      \n",
       "Value      Room_Type 1 Room_Type 2 Room_Type 3 Room_Type 4 Room_Type 5\n",
       "Frequency        28130         692           7        6057         265\n",
       "Proportion       0.775       0.019       0.000       0.167       0.007\n",
       "                                  \n",
       "Value      Room_Type 6 Room_Type 7\n",
       "Frequency          966         158\n",
       "Proportion       0.027       0.004\n",
       "--------------------------------------------------------------------------------\n",
       "lead_time \n",
       "       n  missing distinct     Info     Mean      Gmd      .05      .10 \n",
       "   36275        0      352        1    85.23    90.63        1        3 \n",
       "     .25      .50      .75      .90      .95 \n",
       "      17       57      126      213      273 \n",
       "\n",
       "lowest :   0   1   2   3   4, highest: 381 386 418 433 443\n",
       "--------------------------------------------------------------------------------\n",
       "arrival_year \n",
       "       n  missing distinct     Info     Mean      Gmd \n",
       "   36275        0        2    0.442     2018   0.2947 \n",
       "                      \n",
       "Value       2017  2018\n",
       "Frequency   6514 29761\n",
       "Proportion  0.18  0.82\n",
       "--------------------------------------------------------------------------------\n",
       "arrival_month \n",
       "       n  missing distinct     Info     Mean      Gmd      .05      .10 \n",
       "   36275        0       12     0.99    7.424    3.497        2        3 \n",
       "     .25      .50      .75      .90      .95 \n",
       "       5        8       10       11       12 \n",
       "\n",
       "lowest :  1  2  3  4  5, highest:  8  9 10 11 12\n",
       "                                                                            \n",
       "Value          1     2     3     4     5     6     7     8     9    10    11\n",
       "Frequency   1014  1704  2358  2736  2598  3203  2920  3813  4611  5317  2980\n",
       "Proportion 0.028 0.047 0.065 0.075 0.072 0.088 0.080 0.105 0.127 0.147 0.082\n",
       "                \n",
       "Value         12\n",
       "Frequency   3021\n",
       "Proportion 0.083\n",
       "--------------------------------------------------------------------------------\n",
       "arrival_date \n",
       "       n  missing distinct     Info     Mean      Gmd      .05      .10 \n",
       "   36275        0       31    0.999     15.6    10.08        2        4 \n",
       "     .25      .50      .75      .90      .95 \n",
       "       8       16       23       28       29 \n",
       "\n",
       "lowest :  1  2  3  4  5, highest: 27 28 29 30 31\n",
       "--------------------------------------------------------------------------------\n",
       "market_segment_type \n",
       "       n  missing distinct \n",
       "   36275        0        5 \n",
       "\n",
       "lowest : Aviation      Complementary Corporate     Offline       Online       \n",
       "highest: Aviation      Complementary Corporate     Offline       Online       \n",
       "                                                                  \n",
       "Value           Aviation Complementary     Corporate       Offline\n",
       "Frequency            125           391          2017         10528\n",
       "Proportion         0.003         0.011         0.056         0.290\n",
       "                        \n",
       "Value             Online\n",
       "Frequency          23214\n",
       "Proportion         0.640\n",
       "--------------------------------------------------------------------------------\n",
       "repeated_guest \n",
       "       n  missing distinct     Info      Sum     Mean      Gmd \n",
       "   36275        0        2    0.075      930  0.02564  0.04996 \n",
       "\n",
       "--------------------------------------------------------------------------------\n",
       "no_of_previous_cancellations \n",
       "       n  missing distinct     Info     Mean      Gmd \n",
       "   36275        0        9    0.028  0.02335  0.04647 \n",
       "\n",
       "lowest :  0  1  2  3  4, highest:  4  5  6 11 13\n",
       "                                                                \n",
       "Value          0     1     2     3     4     5     6    11    13\n",
       "Frequency  35937   198    46    43    10    11     1    25     4\n",
       "Proportion 0.991 0.005 0.001 0.001 0.000 0.000 0.000 0.001 0.000\n",
       "--------------------------------------------------------------------------------\n",
       "no_of_previous_bookings_not_canceled \n",
       "       n  missing distinct     Info     Mean      Gmd      .05      .10 \n",
       "   36275        0       59    0.066   0.1534    0.304        0        0 \n",
       "     .25      .50      .75      .90      .95 \n",
       "       0        0        0        0        0 \n",
       "\n",
       "lowest :  0  1  2  3  4, highest: 54 55 56 57 58\n",
       "--------------------------------------------------------------------------------\n",
       "avg_price_per_room \n",
       "       n  missing distinct     Info     Mean      Gmd      .05      .10 \n",
       "   36275        0     3930        1    103.4    37.47    61.00    67.00 \n",
       "     .25      .50      .75      .90      .95 \n",
       "   80.30    99.45   120.00   147.60   165.00 \n",
       "\n",
       "lowest :   0.00   0.50   1.00   1.48   1.60, highest: 332.57 349.63 365.00 375.50 540.00\n",
       "--------------------------------------------------------------------------------\n",
       "no_of_special_requests \n",
       "       n  missing distinct     Info     Mean      Gmd \n",
       "   36275        0        6    0.805   0.6197   0.7848 \n",
       "\n",
       "lowest : 0 1 2 3 4, highest: 1 2 3 4 5\n",
       "                                              \n",
       "Value          0     1     2     3     4     5\n",
       "Frequency  19777 11373  4364   675    78     8\n",
       "Proportion 0.545 0.314 0.120 0.019 0.002 0.000\n",
       "--------------------------------------------------------------------------------\n",
       "booking_status \n",
       "       n  missing distinct \n",
       "   36275        0        2 \n",
       "                                    \n",
       "Value          Canceled Not_Canceled\n",
       "Frequency         11885        24390\n",
       "Proportion        0.328        0.672\n",
       "--------------------------------------------------------------------------------"
      ]
     },
     "metadata": {},
     "output_type": "display_data"
    }
   ],
   "source": [
    "View(Hmisc::describe(data))"
   ]
  },
  {
   "cell_type": "code",
   "execution_count": 11,
   "metadata": {
    "vscode": {
     "languageId": "r"
    }
   },
   "outputs": [
    {
     "name": "stdout",
     "output_type": "stream",
     "text": [
      "── Data Summary ────────────────────────\n",
      "                           Values\n",
      "Name                       data  \n",
      "Number of rows             36275 \n",
      "Number of columns          19    \n",
      "_______________________          \n",
      "Column type frequency:           \n",
      "  character                5     \n",
      "  numeric                  14    \n",
      "________________________         \n",
      "Group variables            None  \n",
      "\n",
      "── Variable type: character ────────────────────────────────────────────────────\n",
      "  skim_variable       n_missing complete_rate min max empty n_unique whitespace\n",
      "\u001b[90m1\u001b[39m Booking_ID                  0             1   8   8     0    \u001b[4m3\u001b[24m\u001b[4m6\u001b[24m275          0\n",
      "\u001b[90m2\u001b[39m type_of_meal_plan           0             1  11  12     0        4          0\n",
      "\u001b[90m3\u001b[39m room_type_reserved          0             1  11  11     0        7          0\n",
      "\u001b[90m4\u001b[39m market_segment_type         0             1   6  13     0        5          0\n",
      "\u001b[90m5\u001b[39m booking_status              0             1   8  12     0        2          0\n",
      "\n",
      "── Variable type: numeric ──────────────────────────────────────────────────────\n",
      "   skim_variable                        n_missing complete_rate      mean     sd\n",
      "\u001b[90m 1\u001b[39m no_of_adults                                 0             1    1.84    0.519\n",
      "\u001b[90m 2\u001b[39m no_of_children                               0             1    0.105   0.403\n",
      "\u001b[90m 3\u001b[39m no_of_weekend_nights                         0             1    0.811   0.871\n",
      "\u001b[90m 4\u001b[39m no_of_week_nights                            0             1    2.20    1.41 \n",
      "\u001b[90m 5\u001b[39m required_car_parking_space                   0             1    0.031\u001b[4m0\u001b[24m  0.173\n",
      "\u001b[90m 6\u001b[39m lead_time                                    0             1   85.2    85.9  \n",
      "\u001b[90m 7\u001b[39m arrival_year                                 0             1 \u001b[4m2\u001b[24m018.      0.384\n",
      "\u001b[90m 8\u001b[39m arrival_month                                0             1    7.42    3.07 \n",
      "\u001b[90m 9\u001b[39m arrival_date                                 0             1   15.6     8.74 \n",
      "\u001b[90m10\u001b[39m repeated_guest                               0             1    0.025\u001b[4m6\u001b[24m  0.158\n",
      "\u001b[90m11\u001b[39m no_of_previous_cancellations                 0             1    0.023\u001b[4m3\u001b[24m  0.368\n",
      "\u001b[90m12\u001b[39m no_of_previous_bookings_not_canceled         0             1    0.153   1.75 \n",
      "\u001b[90m13\u001b[39m avg_price_per_room                           0             1  103.     35.1  \n",
      "\u001b[90m14\u001b[39m no_of_special_requests                       0             1    0.620   0.786\n",
      "     p0    p25    p50  p75 p100 hist \n",
      "\u001b[90m 1\u001b[39m    0    2      2      2    4 ▁▂▇▁▁\n",
      "\u001b[90m 2\u001b[39m    0    0      0      0   10 ▇▁▁▁▁\n",
      "\u001b[90m 3\u001b[39m    0    0      1      2    7 ▇▃▁▁▁\n",
      "\u001b[90m 4\u001b[39m    0    1      2      3   17 ▇▁▁▁▁\n",
      "\u001b[90m 5\u001b[39m    0    0      0      0    1 ▇▁▁▁▁\n",
      "\u001b[90m 6\u001b[39m    0   17     57    126  443 ▇▃▁▁▁\n",
      "\u001b[90m 7\u001b[39m \u001b[4m2\u001b[24m017 \u001b[4m2\u001b[24m018   \u001b[4m2\u001b[24m018   \u001b[4m2\u001b[24m018 \u001b[4m2\u001b[24m018 ▂▁▁▁▇\n",
      "\u001b[90m 8\u001b[39m    1    5      8     10   12 ▃▃▅▆▇\n",
      "\u001b[90m 9\u001b[39m    1    8     16     23   31 ▇▇▇▆▆\n",
      "\u001b[90m10\u001b[39m    0    0      0      0    1 ▇▁▁▁▁\n",
      "\u001b[90m11\u001b[39m    0    0      0      0   13 ▇▁▁▁▁\n",
      "\u001b[90m12\u001b[39m    0    0      0      0   58 ▇▁▁▁▁\n",
      "\u001b[90m13\u001b[39m    0   80.3   99.4  120  540 ▇▅▁▁▁\n",
      "\u001b[90m14\u001b[39m    0    0      0      1    5 ▇▁▁▁▁\n"
     ]
    },
    {
     "name": "stderr",
     "output_type": "stream",
     "text": [
      "Warning message in is.null(text_repr) || nchar(text_repr) == 0L:\n",
      "\"'length(x) = 17 > 1' in coercion to 'logical(1)'\"\n"
     ]
    },
    {
     "data": {
      "text/html": [
       "<table class=\"dataframe\">\n",
       "<caption>A skim_df: 19 × 17</caption>\n",
       "<thead>\n",
       "\t<tr><th></th><th scope=col>skim_type</th><th scope=col>skim_variable</th><th scope=col>n_missing</th><th scope=col>complete_rate</th><th scope=col>character.min</th><th scope=col>character.max</th><th scope=col>character.empty</th><th scope=col>character.n_unique</th><th scope=col>character.whitespace</th><th scope=col>numeric.mean</th><th scope=col>numeric.sd</th><th scope=col>numeric.p0</th><th scope=col>numeric.p25</th><th scope=col>numeric.p50</th><th scope=col>numeric.p75</th><th scope=col>numeric.p100</th><th scope=col>numeric.hist</th></tr>\n",
       "\t<tr><th></th><th scope=col>&lt;chr&gt;</th><th scope=col>&lt;chr&gt;</th><th scope=col>&lt;int&gt;</th><th scope=col>&lt;dbl&gt;</th><th scope=col>&lt;int&gt;</th><th scope=col>&lt;int&gt;</th><th scope=col>&lt;int&gt;</th><th scope=col>&lt;int&gt;</th><th scope=col>&lt;int&gt;</th><th scope=col>&lt;dbl&gt;</th><th scope=col>&lt;dbl&gt;</th><th scope=col>&lt;dbl&gt;</th><th scope=col>&lt;dbl&gt;</th><th scope=col>&lt;dbl&gt;</th><th scope=col>&lt;dbl&gt;</th><th scope=col>&lt;dbl&gt;</th><th scope=col>&lt;chr&gt;</th></tr>\n",
       "</thead>\n",
       "<tbody>\n",
       "\t<tr><th scope=row>1</th><td>character</td><td>Booking_ID                          </td><td>0</td><td>1</td><td> 8</td><td> 8</td><td> 0</td><td>36275</td><td> 0</td><td>          NA</td><td>        NA</td><td>  NA</td><td>    NA</td><td>     NA</td><td>  NA</td><td>  NA</td><td>NA   </td></tr>\n",
       "\t<tr><th scope=row>2</th><td>character</td><td>type_of_meal_plan                   </td><td>0</td><td>1</td><td>11</td><td>12</td><td> 0</td><td>    4</td><td> 0</td><td>          NA</td><td>        NA</td><td>  NA</td><td>    NA</td><td>     NA</td><td>  NA</td><td>  NA</td><td>NA   </td></tr>\n",
       "\t<tr><th scope=row>3</th><td>character</td><td>room_type_reserved                  </td><td>0</td><td>1</td><td>11</td><td>11</td><td> 0</td><td>    7</td><td> 0</td><td>          NA</td><td>        NA</td><td>  NA</td><td>    NA</td><td>     NA</td><td>  NA</td><td>  NA</td><td>NA   </td></tr>\n",
       "\t<tr><th scope=row>4</th><td>character</td><td>market_segment_type                 </td><td>0</td><td>1</td><td> 6</td><td>13</td><td> 0</td><td>    5</td><td> 0</td><td>          NA</td><td>        NA</td><td>  NA</td><td>    NA</td><td>     NA</td><td>  NA</td><td>  NA</td><td>NA   </td></tr>\n",
       "\t<tr><th scope=row>5</th><td>character</td><td>booking_status                      </td><td>0</td><td>1</td><td> 8</td><td>12</td><td> 0</td><td>    2</td><td> 0</td><td>          NA</td><td>        NA</td><td>  NA</td><td>    NA</td><td>     NA</td><td>  NA</td><td>  NA</td><td>NA   </td></tr>\n",
       "\t<tr><th scope=row>6</th><td>numeric  </td><td>no_of_adults                        </td><td>0</td><td>1</td><td>NA</td><td>NA</td><td>NA</td><td>   NA</td><td>NA</td><td>1.844962e+00</td><td> 0.5187148</td><td>   0</td><td>   2.0</td><td>   2.00</td><td>   2</td><td>   4</td><td>▁▂▇▁▁</td></tr>\n",
       "\t<tr><th scope=row>7</th><td>numeric  </td><td>no_of_children                      </td><td>0</td><td>1</td><td>NA</td><td>NA</td><td>NA</td><td>   NA</td><td>NA</td><td>1.052791e-01</td><td> 0.4026481</td><td>   0</td><td>   0.0</td><td>   0.00</td><td>   0</td><td>  10</td><td>▇▁▁▁▁</td></tr>\n",
       "\t<tr><th scope=row>8</th><td>numeric  </td><td>no_of_weekend_nights                </td><td>0</td><td>1</td><td>NA</td><td>NA</td><td>NA</td><td>   NA</td><td>NA</td><td>8.107236e-01</td><td> 0.8706436</td><td>   0</td><td>   0.0</td><td>   1.00</td><td>   2</td><td>   7</td><td>▇▃▁▁▁</td></tr>\n",
       "\t<tr><th scope=row>9</th><td>numeric  </td><td>no_of_week_nights                   </td><td>0</td><td>1</td><td>NA</td><td>NA</td><td>NA</td><td>   NA</td><td>NA</td><td>2.204300e+00</td><td> 1.4109049</td><td>   0</td><td>   1.0</td><td>   2.00</td><td>   3</td><td>  17</td><td>▇▁▁▁▁</td></tr>\n",
       "\t<tr><th scope=row>10</th><td>numeric  </td><td>required_car_parking_space          </td><td>0</td><td>1</td><td>NA</td><td>NA</td><td>NA</td><td>   NA</td><td>NA</td><td>3.098553e-02</td><td> 0.1732808</td><td>   0</td><td>   0.0</td><td>   0.00</td><td>   0</td><td>   1</td><td>▇▁▁▁▁</td></tr>\n",
       "\t<tr><th scope=row>11</th><td>numeric  </td><td>lead_time                           </td><td>0</td><td>1</td><td>NA</td><td>NA</td><td>NA</td><td>   NA</td><td>NA</td><td>8.523256e+01</td><td>85.9308167</td><td>   0</td><td>  17.0</td><td>  57.00</td><td> 126</td><td> 443</td><td>▇▃▁▁▁</td></tr>\n",
       "\t<tr><th scope=row>12</th><td>numeric  </td><td>arrival_year                        </td><td>0</td><td>1</td><td>NA</td><td>NA</td><td>NA</td><td>   NA</td><td>NA</td><td>2.017820e+03</td><td> 0.3838364</td><td>2017</td><td>2018.0</td><td>2018.00</td><td>2018</td><td>2018</td><td>▂▁▁▁▇</td></tr>\n",
       "\t<tr><th scope=row>13</th><td>numeric  </td><td>arrival_month                       </td><td>0</td><td>1</td><td>NA</td><td>NA</td><td>NA</td><td>   NA</td><td>NA</td><td>7.423653e+00</td><td> 3.0698944</td><td>   1</td><td>   5.0</td><td>   8.00</td><td>  10</td><td>  12</td><td>▃▃▅▆▇</td></tr>\n",
       "\t<tr><th scope=row>14</th><td>numeric  </td><td>arrival_date                        </td><td>0</td><td>1</td><td>NA</td><td>NA</td><td>NA</td><td>   NA</td><td>NA</td><td>1.559700e+01</td><td> 8.7404474</td><td>   1</td><td>   8.0</td><td>  16.00</td><td>  23</td><td>  31</td><td>▇▇▇▆▆</td></tr>\n",
       "\t<tr><th scope=row>15</th><td>numeric  </td><td>repeated_guest                      </td><td>0</td><td>1</td><td>NA</td><td>NA</td><td>NA</td><td>   NA</td><td>NA</td><td>2.563749e-02</td><td> 0.1580535</td><td>   0</td><td>   0.0</td><td>   0.00</td><td>   0</td><td>   1</td><td>▇▁▁▁▁</td></tr>\n",
       "\t<tr><th scope=row>16</th><td>numeric  </td><td>no_of_previous_cancellations        </td><td>0</td><td>1</td><td>NA</td><td>NA</td><td>NA</td><td>   NA</td><td>NA</td><td>2.334941e-02</td><td> 0.3683314</td><td>   0</td><td>   0.0</td><td>   0.00</td><td>   0</td><td>  13</td><td>▇▁▁▁▁</td></tr>\n",
       "\t<tr><th scope=row>17</th><td>numeric  </td><td>no_of_previous_bookings_not_canceled</td><td>0</td><td>1</td><td>NA</td><td>NA</td><td>NA</td><td>   NA</td><td>NA</td><td>1.534114e-01</td><td> 1.7541707</td><td>   0</td><td>   0.0</td><td>   0.00</td><td>   0</td><td>  58</td><td>▇▁▁▁▁</td></tr>\n",
       "\t<tr><th scope=row>18</th><td>numeric  </td><td>avg_price_per_room                  </td><td>0</td><td>1</td><td>NA</td><td>NA</td><td>NA</td><td>   NA</td><td>NA</td><td>1.034235e+02</td><td>35.0894240</td><td>   0</td><td>  80.3</td><td>  99.45</td><td> 120</td><td> 540</td><td>▇▅▁▁▁</td></tr>\n",
       "\t<tr><th scope=row>19</th><td>numeric  </td><td>no_of_special_requests              </td><td>0</td><td>1</td><td>NA</td><td>NA</td><td>NA</td><td>   NA</td><td>NA</td><td>6.196554e-01</td><td> 0.7862359</td><td>   0</td><td>   0.0</td><td>   0.00</td><td>   1</td><td>   5</td><td>▇▁▁▁▁</td></tr>\n",
       "</tbody>\n",
       "</table>\n"
      ],
      "text/latex": [
       "A skim\\_df: 19 × 17\n",
       "\\begin{tabular}{r|lllllllllllllllll}\n",
       "  & skim\\_type & skim\\_variable & n\\_missing & complete\\_rate & character.min & character.max & character.empty & character.n\\_unique & character.whitespace & numeric.mean & numeric.sd & numeric.p0 & numeric.p25 & numeric.p50 & numeric.p75 & numeric.p100 & numeric.hist\\\\\n",
       "  & <chr> & <chr> & <int> & <dbl> & <int> & <int> & <int> & <int> & <int> & <dbl> & <dbl> & <dbl> & <dbl> & <dbl> & <dbl> & <dbl> & <chr>\\\\\n",
       "\\hline\n",
       "\t1 & character & Booking\\_ID                           & 0 & 1 &  8 &  8 &  0 & 36275 &  0 &           NA &         NA &   NA &     NA &      NA &   NA &   NA & NA   \\\\\n",
       "\t2 & character & type\\_of\\_meal\\_plan                    & 0 & 1 & 11 & 12 &  0 &     4 &  0 &           NA &         NA &   NA &     NA &      NA &   NA &   NA & NA   \\\\\n",
       "\t3 & character & room\\_type\\_reserved                   & 0 & 1 & 11 & 11 &  0 &     7 &  0 &           NA &         NA &   NA &     NA &      NA &   NA &   NA & NA   \\\\\n",
       "\t4 & character & market\\_segment\\_type                  & 0 & 1 &  6 & 13 &  0 &     5 &  0 &           NA &         NA &   NA &     NA &      NA &   NA &   NA & NA   \\\\\n",
       "\t5 & character & booking\\_status                       & 0 & 1 &  8 & 12 &  0 &     2 &  0 &           NA &         NA &   NA &     NA &      NA &   NA &   NA & NA   \\\\\n",
       "\t6 & numeric   & no\\_of\\_adults                         & 0 & 1 & NA & NA & NA &    NA & NA & 1.844962e+00 &  0.5187148 &    0 &    2.0 &    2.00 &    2 &    4 & ▁▂▇▁▁\\\\\n",
       "\t7 & numeric   & no\\_of\\_children                       & 0 & 1 & NA & NA & NA &    NA & NA & 1.052791e-01 &  0.4026481 &    0 &    0.0 &    0.00 &    0 &   10 & ▇▁▁▁▁\\\\\n",
       "\t8 & numeric   & no\\_of\\_weekend\\_nights                 & 0 & 1 & NA & NA & NA &    NA & NA & 8.107236e-01 &  0.8706436 &    0 &    0.0 &    1.00 &    2 &    7 & ▇▃▁▁▁\\\\\n",
       "\t9 & numeric   & no\\_of\\_week\\_nights                    & 0 & 1 & NA & NA & NA &    NA & NA & 2.204300e+00 &  1.4109049 &    0 &    1.0 &    2.00 &    3 &   17 & ▇▁▁▁▁\\\\\n",
       "\t10 & numeric   & required\\_car\\_parking\\_space           & 0 & 1 & NA & NA & NA &    NA & NA & 3.098553e-02 &  0.1732808 &    0 &    0.0 &    0.00 &    0 &    1 & ▇▁▁▁▁\\\\\n",
       "\t11 & numeric   & lead\\_time                            & 0 & 1 & NA & NA & NA &    NA & NA & 8.523256e+01 & 85.9308167 &    0 &   17.0 &   57.00 &  126 &  443 & ▇▃▁▁▁\\\\\n",
       "\t12 & numeric   & arrival\\_year                         & 0 & 1 & NA & NA & NA &    NA & NA & 2.017820e+03 &  0.3838364 & 2017 & 2018.0 & 2018.00 & 2018 & 2018 & ▂▁▁▁▇\\\\\n",
       "\t13 & numeric   & arrival\\_month                        & 0 & 1 & NA & NA & NA &    NA & NA & 7.423653e+00 &  3.0698944 &    1 &    5.0 &    8.00 &   10 &   12 & ▃▃▅▆▇\\\\\n",
       "\t14 & numeric   & arrival\\_date                         & 0 & 1 & NA & NA & NA &    NA & NA & 1.559700e+01 &  8.7404474 &    1 &    8.0 &   16.00 &   23 &   31 & ▇▇▇▆▆\\\\\n",
       "\t15 & numeric   & repeated\\_guest                       & 0 & 1 & NA & NA & NA &    NA & NA & 2.563749e-02 &  0.1580535 &    0 &    0.0 &    0.00 &    0 &    1 & ▇▁▁▁▁\\\\\n",
       "\t16 & numeric   & no\\_of\\_previous\\_cancellations         & 0 & 1 & NA & NA & NA &    NA & NA & 2.334941e-02 &  0.3683314 &    0 &    0.0 &    0.00 &    0 &   13 & ▇▁▁▁▁\\\\\n",
       "\t17 & numeric   & no\\_of\\_previous\\_bookings\\_not\\_canceled & 0 & 1 & NA & NA & NA &    NA & NA & 1.534114e-01 &  1.7541707 &    0 &    0.0 &    0.00 &    0 &   58 & ▇▁▁▁▁\\\\\n",
       "\t18 & numeric   & avg\\_price\\_per\\_room                   & 0 & 1 & NA & NA & NA &    NA & NA & 1.034235e+02 & 35.0894240 &    0 &   80.3 &   99.45 &  120 &  540 & ▇▅▁▁▁\\\\\n",
       "\t19 & numeric   & no\\_of\\_special\\_requests               & 0 & 1 & NA & NA & NA &    NA & NA & 6.196554e-01 &  0.7862359 &    0 &    0.0 &    0.00 &    1 &    5 & ▇▁▁▁▁\\\\\n",
       "\\end{tabular}\n"
      ],
      "text/markdown": [
       "\n",
       "A skim_df: 19 × 17\n",
       "\n",
       "| <!--/--> | skim_type &lt;chr&gt; | skim_variable &lt;chr&gt; | n_missing &lt;int&gt; | complete_rate &lt;dbl&gt; | character.min &lt;int&gt; | character.max &lt;int&gt; | character.empty &lt;int&gt; | character.n_unique &lt;int&gt; | character.whitespace &lt;int&gt; | numeric.mean &lt;dbl&gt; | numeric.sd &lt;dbl&gt; | numeric.p0 &lt;dbl&gt; | numeric.p25 &lt;dbl&gt; | numeric.p50 &lt;dbl&gt; | numeric.p75 &lt;dbl&gt; | numeric.p100 &lt;dbl&gt; | numeric.hist &lt;chr&gt; |\n",
       "|---|---|---|---|---|---|---|---|---|---|---|---|---|---|---|---|---|---|\n",
       "| 1 | character | Booking_ID                           | 0 | 1 |  8 |  8 |  0 | 36275 |  0 |           NA |         NA |   NA |     NA |      NA |   NA |   NA | NA    |\n",
       "| 2 | character | type_of_meal_plan                    | 0 | 1 | 11 | 12 |  0 |     4 |  0 |           NA |         NA |   NA |     NA |      NA |   NA |   NA | NA    |\n",
       "| 3 | character | room_type_reserved                   | 0 | 1 | 11 | 11 |  0 |     7 |  0 |           NA |         NA |   NA |     NA |      NA |   NA |   NA | NA    |\n",
       "| 4 | character | market_segment_type                  | 0 | 1 |  6 | 13 |  0 |     5 |  0 |           NA |         NA |   NA |     NA |      NA |   NA |   NA | NA    |\n",
       "| 5 | character | booking_status                       | 0 | 1 |  8 | 12 |  0 |     2 |  0 |           NA |         NA |   NA |     NA |      NA |   NA |   NA | NA    |\n",
       "| 6 | numeric   | no_of_adults                         | 0 | 1 | NA | NA | NA |    NA | NA | 1.844962e+00 |  0.5187148 |    0 |    2.0 |    2.00 |    2 |    4 | ▁▂▇▁▁ |\n",
       "| 7 | numeric   | no_of_children                       | 0 | 1 | NA | NA | NA |    NA | NA | 1.052791e-01 |  0.4026481 |    0 |    0.0 |    0.00 |    0 |   10 | ▇▁▁▁▁ |\n",
       "| 8 | numeric   | no_of_weekend_nights                 | 0 | 1 | NA | NA | NA |    NA | NA | 8.107236e-01 |  0.8706436 |    0 |    0.0 |    1.00 |    2 |    7 | ▇▃▁▁▁ |\n",
       "| 9 | numeric   | no_of_week_nights                    | 0 | 1 | NA | NA | NA |    NA | NA | 2.204300e+00 |  1.4109049 |    0 |    1.0 |    2.00 |    3 |   17 | ▇▁▁▁▁ |\n",
       "| 10 | numeric   | required_car_parking_space           | 0 | 1 | NA | NA | NA |    NA | NA | 3.098553e-02 |  0.1732808 |    0 |    0.0 |    0.00 |    0 |    1 | ▇▁▁▁▁ |\n",
       "| 11 | numeric   | lead_time                            | 0 | 1 | NA | NA | NA |    NA | NA | 8.523256e+01 | 85.9308167 |    0 |   17.0 |   57.00 |  126 |  443 | ▇▃▁▁▁ |\n",
       "| 12 | numeric   | arrival_year                         | 0 | 1 | NA | NA | NA |    NA | NA | 2.017820e+03 |  0.3838364 | 2017 | 2018.0 | 2018.00 | 2018 | 2018 | ▂▁▁▁▇ |\n",
       "| 13 | numeric   | arrival_month                        | 0 | 1 | NA | NA | NA |    NA | NA | 7.423653e+00 |  3.0698944 |    1 |    5.0 |    8.00 |   10 |   12 | ▃▃▅▆▇ |\n",
       "| 14 | numeric   | arrival_date                         | 0 | 1 | NA | NA | NA |    NA | NA | 1.559700e+01 |  8.7404474 |    1 |    8.0 |   16.00 |   23 |   31 | ▇▇▇▆▆ |\n",
       "| 15 | numeric   | repeated_guest                       | 0 | 1 | NA | NA | NA |    NA | NA | 2.563749e-02 |  0.1580535 |    0 |    0.0 |    0.00 |    0 |    1 | ▇▁▁▁▁ |\n",
       "| 16 | numeric   | no_of_previous_cancellations         | 0 | 1 | NA | NA | NA |    NA | NA | 2.334941e-02 |  0.3683314 |    0 |    0.0 |    0.00 |    0 |   13 | ▇▁▁▁▁ |\n",
       "| 17 | numeric   | no_of_previous_bookings_not_canceled | 0 | 1 | NA | NA | NA |    NA | NA | 1.534114e-01 |  1.7541707 |    0 |    0.0 |    0.00 |    0 |   58 | ▇▁▁▁▁ |\n",
       "| 18 | numeric   | avg_price_per_room                   | 0 | 1 | NA | NA | NA |    NA | NA | 1.034235e+02 | 35.0894240 |    0 |   80.3 |   99.45 |  120 |  540 | ▇▅▁▁▁ |\n",
       "| 19 | numeric   | no_of_special_requests               | 0 | 1 | NA | NA | NA |    NA | NA | 6.196554e-01 |  0.7862359 |    0 |    0.0 |    0.00 |    1 |    5 | ▇▁▁▁▁ |\n",
       "\n"
      ],
      "text/plain": []
     },
     "metadata": {},
     "output_type": "display_data"
    }
   ],
   "source": [
    "skim(data)"
   ]
  },
  {
   "cell_type": "code",
   "execution_count": 12,
   "metadata": {
    "vscode": {
     "languageId": "r"
    }
   },
   "outputs": [
    {
     "name": "stdout",
     "output_type": "stream",
     "text": [
      "── Data Summary ────────────────────────\n",
      "                           Values    \n",
      "Name                       data_small\n",
      "Number of rows             36275     \n",
      "Number of columns          7         \n",
      "_______________________              \n",
      "Column type frequency:               \n",
      "  character                1         \n",
      "  numeric                  6         \n",
      "________________________             \n",
      "Group variables            None      \n",
      "\n",
      "── Variable type: character ────────────────────────────────────────────────────\n",
      "  skim_variable     n_missing complete_rate min max empty n_unique whitespace\n",
      "\u001b[90m1\u001b[39m type_of_meal_plan         0             1  11  12     0        4          0\n",
      "\n",
      "── Variable type: numeric ──────────────────────────────────────────────────────\n",
      "  skim_variable                        n_missing complete_rate     mean     sd\n",
      "\u001b[90m1\u001b[39m no_of_weekend_nights                         0             1   0.811   0.871\n",
      "\u001b[90m2\u001b[39m no_of_week_nights                            0             1   2.20    1.41 \n",
      "\u001b[90m3\u001b[39m lead_time                                    0             1  85.2    85.9  \n",
      "\u001b[90m4\u001b[39m no_of_previous_cancellations                 0             1   0.023\u001b[4m3\u001b[24m  0.368\n",
      "\u001b[90m5\u001b[39m no_of_previous_bookings_not_canceled         0             1   0.153   1.75 \n",
      "\u001b[90m6\u001b[39m avg_price_per_room                           0             1 103.     35.1  \n",
      "  p0  p25  p50 p75 p100 hist \n",
      "\u001b[90m1\u001b[39m  0  0    1     2    7 ▇▃▁▁▁\n",
      "\u001b[90m2\u001b[39m  0  1    2     3   17 ▇▁▁▁▁\n",
      "\u001b[90m3\u001b[39m  0 17   57   126  443 ▇▃▁▁▁\n",
      "\u001b[90m4\u001b[39m  0  0    0     0   13 ▇▁▁▁▁\n",
      "\u001b[90m5\u001b[39m  0  0    0     0   58 ▇▁▁▁▁\n",
      "\u001b[90m6\u001b[39m  0 80.3 99.4 120  540 ▇▅▁▁▁\n"
     ]
    },
    {
     "name": "stderr",
     "output_type": "stream",
     "text": [
      "Warning message in is.null(text_repr) || nchar(text_repr) == 0L:\n",
      "\"'length(x) = 17 > 1' in coercion to 'logical(1)'\"\n"
     ]
    },
    {
     "data": {
      "text/html": [
       "<table class=\"dataframe\">\n",
       "<caption>A skim_df: 7 × 17</caption>\n",
       "<thead>\n",
       "\t<tr><th></th><th scope=col>skim_type</th><th scope=col>skim_variable</th><th scope=col>n_missing</th><th scope=col>complete_rate</th><th scope=col>character.min</th><th scope=col>character.max</th><th scope=col>character.empty</th><th scope=col>character.n_unique</th><th scope=col>character.whitespace</th><th scope=col>numeric.mean</th><th scope=col>numeric.sd</th><th scope=col>numeric.p0</th><th scope=col>numeric.p25</th><th scope=col>numeric.p50</th><th scope=col>numeric.p75</th><th scope=col>numeric.p100</th><th scope=col>numeric.hist</th></tr>\n",
       "\t<tr><th></th><th scope=col>&lt;chr&gt;</th><th scope=col>&lt;chr&gt;</th><th scope=col>&lt;int&gt;</th><th scope=col>&lt;dbl&gt;</th><th scope=col>&lt;int&gt;</th><th scope=col>&lt;int&gt;</th><th scope=col>&lt;int&gt;</th><th scope=col>&lt;int&gt;</th><th scope=col>&lt;int&gt;</th><th scope=col>&lt;dbl&gt;</th><th scope=col>&lt;dbl&gt;</th><th scope=col>&lt;dbl&gt;</th><th scope=col>&lt;dbl&gt;</th><th scope=col>&lt;dbl&gt;</th><th scope=col>&lt;dbl&gt;</th><th scope=col>&lt;dbl&gt;</th><th scope=col>&lt;chr&gt;</th></tr>\n",
       "</thead>\n",
       "<tbody>\n",
       "\t<tr><th scope=row>1</th><td>character</td><td>type_of_meal_plan                   </td><td>0</td><td>1</td><td>11</td><td>12</td><td> 0</td><td> 4</td><td> 0</td><td>          NA</td><td>        NA</td><td>NA</td><td>  NA</td><td>   NA</td><td> NA</td><td> NA</td><td>NA   </td></tr>\n",
       "\t<tr><th scope=row>2</th><td>numeric  </td><td>no_of_weekend_nights                </td><td>0</td><td>1</td><td>NA</td><td>NA</td><td>NA</td><td>NA</td><td>NA</td><td>  0.81072364</td><td> 0.8706436</td><td> 0</td><td> 0.0</td><td> 1.00</td><td>  2</td><td>  7</td><td>▇▃▁▁▁</td></tr>\n",
       "\t<tr><th scope=row>3</th><td>numeric  </td><td>no_of_week_nights                   </td><td>0</td><td>1</td><td>NA</td><td>NA</td><td>NA</td><td>NA</td><td>NA</td><td>  2.20430048</td><td> 1.4109049</td><td> 0</td><td> 1.0</td><td> 2.00</td><td>  3</td><td> 17</td><td>▇▁▁▁▁</td></tr>\n",
       "\t<tr><th scope=row>4</th><td>numeric  </td><td>lead_time                           </td><td>0</td><td>1</td><td>NA</td><td>NA</td><td>NA</td><td>NA</td><td>NA</td><td> 85.23255686</td><td>85.9308167</td><td> 0</td><td>17.0</td><td>57.00</td><td>126</td><td>443</td><td>▇▃▁▁▁</td></tr>\n",
       "\t<tr><th scope=row>5</th><td>numeric  </td><td>no_of_previous_cancellations        </td><td>0</td><td>1</td><td>NA</td><td>NA</td><td>NA</td><td>NA</td><td>NA</td><td>  0.02334941</td><td> 0.3683314</td><td> 0</td><td> 0.0</td><td> 0.00</td><td>  0</td><td> 13</td><td>▇▁▁▁▁</td></tr>\n",
       "\t<tr><th scope=row>6</th><td>numeric  </td><td>no_of_previous_bookings_not_canceled</td><td>0</td><td>1</td><td>NA</td><td>NA</td><td>NA</td><td>NA</td><td>NA</td><td>  0.15341144</td><td> 1.7541707</td><td> 0</td><td> 0.0</td><td> 0.00</td><td>  0</td><td> 58</td><td>▇▁▁▁▁</td></tr>\n",
       "\t<tr><th scope=row>7</th><td>numeric  </td><td>avg_price_per_room                  </td><td>0</td><td>1</td><td>NA</td><td>NA</td><td>NA</td><td>NA</td><td>NA</td><td>103.42353908</td><td>35.0894240</td><td> 0</td><td>80.3</td><td>99.45</td><td>120</td><td>540</td><td>▇▅▁▁▁</td></tr>\n",
       "</tbody>\n",
       "</table>\n"
      ],
      "text/latex": [
       "A skim\\_df: 7 × 17\n",
       "\\begin{tabular}{r|lllllllllllllllll}\n",
       "  & skim\\_type & skim\\_variable & n\\_missing & complete\\_rate & character.min & character.max & character.empty & character.n\\_unique & character.whitespace & numeric.mean & numeric.sd & numeric.p0 & numeric.p25 & numeric.p50 & numeric.p75 & numeric.p100 & numeric.hist\\\\\n",
       "  & <chr> & <chr> & <int> & <dbl> & <int> & <int> & <int> & <int> & <int> & <dbl> & <dbl> & <dbl> & <dbl> & <dbl> & <dbl> & <dbl> & <chr>\\\\\n",
       "\\hline\n",
       "\t1 & character & type\\_of\\_meal\\_plan                    & 0 & 1 & 11 & 12 &  0 &  4 &  0 &           NA &         NA & NA &   NA &    NA &  NA &  NA & NA   \\\\\n",
       "\t2 & numeric   & no\\_of\\_weekend\\_nights                 & 0 & 1 & NA & NA & NA & NA & NA &   0.81072364 &  0.8706436 &  0 &  0.0 &  1.00 &   2 &   7 & ▇▃▁▁▁\\\\\n",
       "\t3 & numeric   & no\\_of\\_week\\_nights                    & 0 & 1 & NA & NA & NA & NA & NA &   2.20430048 &  1.4109049 &  0 &  1.0 &  2.00 &   3 &  17 & ▇▁▁▁▁\\\\\n",
       "\t4 & numeric   & lead\\_time                            & 0 & 1 & NA & NA & NA & NA & NA &  85.23255686 & 85.9308167 &  0 & 17.0 & 57.00 & 126 & 443 & ▇▃▁▁▁\\\\\n",
       "\t5 & numeric   & no\\_of\\_previous\\_cancellations         & 0 & 1 & NA & NA & NA & NA & NA &   0.02334941 &  0.3683314 &  0 &  0.0 &  0.00 &   0 &  13 & ▇▁▁▁▁\\\\\n",
       "\t6 & numeric   & no\\_of\\_previous\\_bookings\\_not\\_canceled & 0 & 1 & NA & NA & NA & NA & NA &   0.15341144 &  1.7541707 &  0 &  0.0 &  0.00 &   0 &  58 & ▇▁▁▁▁\\\\\n",
       "\t7 & numeric   & avg\\_price\\_per\\_room                   & 0 & 1 & NA & NA & NA & NA & NA & 103.42353908 & 35.0894240 &  0 & 80.3 & 99.45 & 120 & 540 & ▇▅▁▁▁\\\\\n",
       "\\end{tabular}\n"
      ],
      "text/markdown": [
       "\n",
       "A skim_df: 7 × 17\n",
       "\n",
       "| <!--/--> | skim_type &lt;chr&gt; | skim_variable &lt;chr&gt; | n_missing &lt;int&gt; | complete_rate &lt;dbl&gt; | character.min &lt;int&gt; | character.max &lt;int&gt; | character.empty &lt;int&gt; | character.n_unique &lt;int&gt; | character.whitespace &lt;int&gt; | numeric.mean &lt;dbl&gt; | numeric.sd &lt;dbl&gt; | numeric.p0 &lt;dbl&gt; | numeric.p25 &lt;dbl&gt; | numeric.p50 &lt;dbl&gt; | numeric.p75 &lt;dbl&gt; | numeric.p100 &lt;dbl&gt; | numeric.hist &lt;chr&gt; |\n",
       "|---|---|---|---|---|---|---|---|---|---|---|---|---|---|---|---|---|---|\n",
       "| 1 | character | type_of_meal_plan                    | 0 | 1 | 11 | 12 |  0 |  4 |  0 |           NA |         NA | NA |   NA |    NA |  NA |  NA | NA    |\n",
       "| 2 | numeric   | no_of_weekend_nights                 | 0 | 1 | NA | NA | NA | NA | NA |   0.81072364 |  0.8706436 |  0 |  0.0 |  1.00 |   2 |   7 | ▇▃▁▁▁ |\n",
       "| 3 | numeric   | no_of_week_nights                    | 0 | 1 | NA | NA | NA | NA | NA |   2.20430048 |  1.4109049 |  0 |  1.0 |  2.00 |   3 |  17 | ▇▁▁▁▁ |\n",
       "| 4 | numeric   | lead_time                            | 0 | 1 | NA | NA | NA | NA | NA |  85.23255686 | 85.9308167 |  0 | 17.0 | 57.00 | 126 | 443 | ▇▃▁▁▁ |\n",
       "| 5 | numeric   | no_of_previous_cancellations         | 0 | 1 | NA | NA | NA | NA | NA |   0.02334941 |  0.3683314 |  0 |  0.0 |  0.00 |   0 |  13 | ▇▁▁▁▁ |\n",
       "| 6 | numeric   | no_of_previous_bookings_not_canceled | 0 | 1 | NA | NA | NA | NA | NA |   0.15341144 |  1.7541707 |  0 |  0.0 |  0.00 |   0 |  58 | ▇▁▁▁▁ |\n",
       "| 7 | numeric   | avg_price_per_room                   | 0 | 1 | NA | NA | NA | NA | NA | 103.42353908 | 35.0894240 |  0 | 80.3 | 99.45 | 120 | 540 | ▇▅▁▁▁ |\n",
       "\n"
      ],
      "text/plain": []
     },
     "metadata": {},
     "output_type": "display_data"
    }
   ],
   "source": [
    "# continious and discrete numerical >= 7 categories(unique values) -> hist + tests\n",
    "data_small <- data[c('no_of_weekend_nights', 'no_of_week_nights', 'type_of_meal_plan',\n",
    "                     'lead_time','no_of_previous_cancellations', 'no_of_previous_bookings_not_canceled','avg_price_per_room')]   \n",
    "skim(data_small)"
   ]
  },
  {
   "cell_type": "code",
   "execution_count": 13,
   "metadata": {
    "vscode": {
     "languageId": "r"
    }
   },
   "outputs": [
    {
     "data": {
      "text/html": [
       "0"
      ],
      "text/latex": [
       "0"
      ],
      "text/markdown": [
       "0"
      ],
      "text/plain": [
       "[1] 0"
      ]
     },
     "metadata": {},
     "output_type": "display_data"
    }
   ],
   "source": [
    "# check for missing values \n",
    "sum(is.na(data))"
   ]
  },
  {
   "cell_type": "code",
   "execution_count": 14,
   "metadata": {
    "vscode": {
     "languageId": "r"
    }
   },
   "outputs": [
    {
     "data": {
      "text/html": [
       "<style>\n",
       ".list-inline {list-style: none; margin:0; padding: 0}\n",
       ".list-inline>li {display: inline-block}\n",
       ".list-inline>li:not(:last-child)::after {content: \"\\00b7\"; padding: 0 .5ex}\n",
       "</style>\n",
       "<ol class=list-inline><li>'Meal Plan 1'</li><li>'Not Selected'</li><li>'Meal Plan 2'</li><li>'Meal Plan 3'</li></ol>\n"
      ],
      "text/latex": [
       "\\begin{enumerate*}\n",
       "\\item 'Meal Plan 1'\n",
       "\\item 'Not Selected'\n",
       "\\item 'Meal Plan 2'\n",
       "\\item 'Meal Plan 3'\n",
       "\\end{enumerate*}\n"
      ],
      "text/markdown": [
       "1. 'Meal Plan 1'\n",
       "2. 'Not Selected'\n",
       "3. 'Meal Plan 2'\n",
       "4. 'Meal Plan 3'\n",
       "\n",
       "\n"
      ],
      "text/plain": [
       "[1] \"Meal Plan 1\"  \"Not Selected\" \"Meal Plan 2\"  \"Meal Plan 3\" "
      ]
     },
     "metadata": {},
     "output_type": "display_data"
    },
    {
     "data": {
      "text/plain": [
       "\n",
       " Meal Plan 1  Meal Plan 2  Meal Plan 3 Not Selected \n",
       "       27835         3305            5         5130 "
      ]
     },
     "metadata": {},
     "output_type": "display_data"
    }
   ],
   "source": [
    "# factor creation > subgroups\n",
    "unique(data_small$type_of_meal_plan)        # unordered\n",
    "data_small$type_of_meal_plan <- factor(data_small$type_of_meal_plan)\n",
    "table(data_small$type_of_meal_plan)"
   ]
  },
  {
   "cell_type": "code",
   "execution_count": 15,
   "metadata": {
    "vscode": {
     "languageId": "r"
    }
   },
   "outputs": [
    {
     "data": {
      "text/plain": [
       "   Min. 1st Qu.  Median    Mean 3rd Qu.    Max. \n",
       " 0.0000  0.0000  1.0000  0.8107  2.0000  7.0000 "
      ]
     },
     "metadata": {},
     "output_type": "display_data"
    },
    {
     "data": {
      "image/png": "[encoded data removed]",
      "text/plain": [
       "Plot with title \"Weekend nights stayed or booked at the hotel\""
      ]
     },
     "metadata": {
      "image/png": {
       "height": 420,
       "width": 420
      }
     },
     "output_type": "display_data"
    }
   ],
   "source": [
    "summary(data_small$no_of_weekend_nights)\n",
    "\n",
    "par(mfrow = c(2,1))\n",
    "hist(data_small$no_of_weekend_nights, main = \"Weekend nights stayed or booked at the hotel\", xlab = \"Nights\", \n",
    "     ylim = c(0, 20000), breaks = \"Freedman-Diaconis\", col = '#1149e1')\n",
    "boxplot(data_small$no_of_weekend_nights, horizontal = TRUE, col = '#1149e1')"
   ]
  },
  {
   "cell_type": "code",
   "execution_count": 16,
   "metadata": {
    "vscode": {
     "languageId": "r"
    }
   },
   "outputs": [
    {
     "data": {
      "text/html": [
       "<style>\n",
       ".list-inline {list-style: none; margin:0; padding: 0}\n",
       ".list-inline>li {display: inline-block}\n",
       ".list-inline>li:not(:last-child)::after {content: \"\\00b7\"; padding: 0 .5ex}\n",
       "</style>\n",
       "<ol class=list-inline><li>19513</li><li>540</li></ol>\n"
      ],
      "text/latex": [
       "\\begin{enumerate*}\n",
       "\\item 19513\n",
       "\\item 540\n",
       "\\end{enumerate*}\n"
      ],
      "text/markdown": [
       "1. 19513\n",
       "2. 540\n",
       "\n",
       "\n"
      ],
      "text/plain": [
       "[1] 19513   540"
      ]
     },
     "metadata": {},
     "output_type": "display_data"
    },
    {
     "data": {
      "image/png": "[encoded data removed]",
      "text/plain": [
       "Plot with title \"Weekend nights stayed or booked at the hotel\""
      ]
     },
     "metadata": {
      "image/png": {
       "height": 420,
       "width": 420
      }
     },
     "output_type": "display_data"
    }
   ],
   "source": [
    "car::qqPlot(data_small$no_of_weekend_nights, col = \"#484881\", main = \"Weekend nights stayed or booked at the hotel\", ylab = 'Nights')"
   ]
  },
  {
   "cell_type": "code",
   "execution_count": null,
   "metadata": {
    "vscode": {
     "languageId": "r"
    }
   },
   "outputs": [
    {
     "data": {
      "text/plain": [
       "   Min. 1st Qu.  Median    Mean 3rd Qu.    Max. \n",
       "   0.00   17.00   57.00   85.23  126.00  443.00 "
      ]
     },
     "metadata": {},
     "output_type": "display_data"
    },
    {
     "data": {
      "image/png": "[encoded data removed]",
      "text/plain": [
       "Plot with title \"Days betwen the time of booking and arrival\""
      ]
     },
     "metadata": {
      "image/png": {
       "height": 420,
       "width": 420
      }
     },
     "output_type": "display_data"
    }
   ],
   "source": [
    "summary(data_small$lead_time)\n",
    "\n",
    "par(mfrow = c(2,1))\n",
    "hist(data_small$lead_time, main = \"Days betwen the time of booking and arrival\", xlab = \"Days\", \n",
    "     ylim = c(0, 5000), xlim = c(0, 500), breaks = \"Freedman-Diaconis\", col = '#1149e1')\n",
    "boxplot(data_small$lead_time, horizontal = TRUE, col = '#1149e1')"
   ]
  },
  {
   "cell_type": "code",
   "execution_count": 17,
   "metadata": {
    "vscode": {
     "languageId": "r"
    }
   },
   "outputs": [
    {
     "data": {
      "text/html": [
       "<style>\n",
       ".list-inline {list-style: none; margin:0; padding: 0}\n",
       ".list-inline>li {display: inline-block}\n",
       ".list-inline>li:not(:last-child)::after {content: \"\\00b7\"; padding: 0 .5ex}\n",
       "</style>\n",
       "<ol class=list-inline><li>119</li><li>1944</li></ol>\n"
      ],
      "text/latex": [
       "\\begin{enumerate*}\n",
       "\\item 119\n",
       "\\item 1944\n",
       "\\end{enumerate*}\n"
      ],
      "text/markdown": [
       "1. 119\n",
       "2. 1944\n",
       "\n",
       "\n"
      ],
      "text/plain": [
       "[1]  119 1944"
      ]
     },
     "metadata": {},
     "output_type": "display_data"
    },
    {
     "data": {
      "image/png": "[encoded data removed]",
      "text/plain": [
       "Plot with title \"Days betwen the time of booking and arrival\""
      ]
     },
     "metadata": {
      "image/png": {
       "height": 420,
       "width": 420
      }
     },
     "output_type": "display_data"
    }
   ],
   "source": [
    "car::qqPlot(data_small$lead_time, col = \"#484881\", main = \"Days betwen the time of booking and arrival\", ylab = 'Days')"
   ]
  },
  {
   "cell_type": "code",
   "execution_count": null,
   "metadata": {
    "vscode": {
     "languageId": "r"
    }
   },
   "outputs": [
    {
     "data": {
      "text/plain": [
       "    Min.  1st Qu.   Median     Mean  3rd Qu.     Max. \n",
       " 0.00000  0.00000  0.00000  0.02335  0.00000 13.00000 "
      ]
     },
     "metadata": {},
     "output_type": "display_data"
    },
    {
     "data": {
      "image/png": "[encoded data removed]",
      "text/plain": [
       "Plot with title \"Previous cancellations\""
      ]
     },
     "metadata": {
      "image/png": {
       "height": 420,
       "width": 420
      }
     },
     "output_type": "display_data"
    }
   ],
   "source": [
    "summary(data_small$no_of_previous_cancellations)\n",
    "\n",
    "par(mfrow = c(2,1))\n",
    "hist(data_small$no_of_previous_cancellations, main = \"Previous cancellations\", xlab = \"Counts\", \n",
    "     ylim = c(0, 40000), breaks = \"Freedman-Diaconis\", col = '#1149e1')\n",
    "boxplot(data_small$no_of_previous_cancellations, horizontal = TRUE, col = '#1149e1')"
   ]
  },
  {
   "cell_type": "code",
   "execution_count": null,
   "metadata": {
    "vscode": {
     "languageId": "r"
    }
   },
   "outputs": [
    {
     "data": {
      "text/html": [
       "<style>\n",
       ".list-inline {list-style: none; margin:0; padding: 0}\n",
       ".list-inline>li {display: inline-block}\n",
       ".list-inline>li:not(:last-child)::after {content: \"\\00b7\"; padding: 0 .5ex}\n",
       "</style>\n",
       "<ol class=list-inline><li>12098</li><li>12110</li></ol>\n"
      ],
      "text/latex": [
       "\\begin{enumerate*}\n",
       "\\item 12098\n",
       "\\item 12110\n",
       "\\end{enumerate*}\n"
      ],
      "text/markdown": [
       "1. 12098\n",
       "2. 12110\n",
       "\n",
       "\n"
      ],
      "text/plain": [
       "[1] 12098 12110"
      ]
     },
     "metadata": {},
     "output_type": "display_data"
    },
    {
     "data": {
      "image/png": "[encoded data removed]",
      "text/plain": [
       "Plot with title \"Previous cancellations\""
      ]
     },
     "metadata": {
      "image/png": {
       "height": 420,
       "width": 420
      }
     },
     "output_type": "display_data"
    }
   ],
   "source": [
    "car::qqPlot(data_small$no_of_previous_cancellations, col = \"#484881\", main = \"Previous cancellations\", ylab = 'Number')"
   ]
  },
  {
   "cell_type": "code",
   "execution_count": null,
   "metadata": {
    "vscode": {
     "languageId": "r"
    }
   },
   "outputs": [
    {
     "data": {
      "text/plain": [
       "   Min. 1st Qu.  Median    Mean 3rd Qu.    Max. \n",
       " 0.0000  0.0000  0.0000  0.1534  0.0000 58.0000 "
      ]
     },
     "metadata": {},
     "output_type": "display_data"
    },
    {
     "data": {
      "image/png": "[encoded data removed]",
      "text/plain": [
       "Plot with title \"Prior non-canceled bookings\""
      ]
     },
     "metadata": {
      "image/png": {
       "height": 420,
       "width": 420
      }
     },
     "output_type": "display_data"
    }
   ],
   "source": [
    "summary(data_small$no_of_previous_bookings_not_canceled)\n",
    "\n",
    "par(mfrow = c(2,1))\n",
    "hist(data_small$no_of_previous_bookings_not_canceled, main = \"Prior non-canceled bookings\", xlab = \"Number\", \n",
    "     ylim = c(0, 40000), breaks = \"Freedman-Diaconis\", col = '#1149e1')\n",
    "boxplot(data_small$no_of_previous_bookings_not_canceled, horizontal = TRUE, col = '#1149e1')"
   ]
  },
  {
   "cell_type": "code",
   "execution_count": null,
   "metadata": {
    "vscode": {
     "languageId": "r"
    }
   },
   "outputs": [
    {
     "data": {
      "text/html": [
       "<style>\n",
       ".list-inline {list-style: none; margin:0; padding: 0}\n",
       ".list-inline>li {display: inline-block}\n",
       ".list-inline>li:not(:last-child)::after {content: \"\\00b7\"; padding: 0 .5ex}\n",
       "</style>\n",
       "<ol class=list-inline><li>29573</li><li>21881</li></ol>\n"
      ],
      "text/latex": [
       "\\begin{enumerate*}\n",
       "\\item 29573\n",
       "\\item 21881\n",
       "\\end{enumerate*}\n"
      ],
      "text/markdown": [
       "1. 29573\n",
       "2. 21881\n",
       "\n",
       "\n"
      ],
      "text/plain": [
       "[1] 29573 21881"
      ]
     },
     "metadata": {},
     "output_type": "display_data"
    },
    {
     "data": {
      "image/png": "[encoded data removed]",
      "text/plain": [
       "Plot with title \"Prior not cancelled bookings\""
      ]
     },
     "metadata": {
      "image/png": {
       "height": 420,
       "width": 420
      }
     },
     "output_type": "display_data"
    }
   ],
   "source": [
    "car::qqPlot(data_small$no_of_previous_bookings_not_canceled, col = \"#484881\", main = \"Prior not cancelled bookings\", ylab = 'Number')"
   ]
  },
  {
   "cell_type": "code",
   "execution_count": 18,
   "metadata": {
    "vscode": {
     "languageId": "r"
    }
   },
   "outputs": [
    {
     "data": {
      "text/plain": [
       "   Min. 1st Qu.  Median    Mean 3rd Qu.    Max. \n",
       "   0.00   80.30   99.45  103.42  120.00  540.00 "
      ]
     },
     "metadata": {},
     "output_type": "display_data"
    },
    {
     "data": {
      "image/png": "[encoded data removed]",
      "text/plain": [
       "Plot with title \"Average price per day of the reservation\""
      ]
     },
     "metadata": {
      "image/png": {
       "height": 420,
       "width": 420
      }
     },
     "output_type": "display_data"
    }
   ],
   "source": [
    "summary(data_small$avg_price_per_room)\n",
    "\n",
    "par(mfrow = c(2,1))\n",
    "hist(data_small$avg_price_per_room, main = \"Average price per day of the reservation\", xlab = \"Price\", \n",
    "     ylim = c(0, 2000), breaks = \"Freedman-Diaconis\", col = '#1149e1')\n",
    "boxplot(data_small$avg_price_per_room, horizontal = TRUE, col = '#1149e1')"
   ]
  },
  {
   "cell_type": "code",
   "execution_count": 19,
   "metadata": {
    "vscode": {
     "languageId": "r"
    }
   },
   "outputs": [
    {
     "data": {
      "text/html": [
       "<style>\n",
       ".list-inline {list-style: none; margin:0; padding: 0}\n",
       ".list-inline>li {display: inline-block}\n",
       ".list-inline>li:not(:last-child)::after {content: \"\\00b7\"; padding: 0 .5ex}\n",
       "</style>\n",
       "<ol class=list-inline><li>33115</li><li>9462</li></ol>\n"
      ],
      "text/latex": [
       "\\begin{enumerate*}\n",
       "\\item 33115\n",
       "\\item 9462\n",
       "\\end{enumerate*}\n"
      ],
      "text/markdown": [
       "1. 33115\n",
       "2. 9462\n",
       "\n",
       "\n"
      ],
      "text/plain": [
       "[1] 33115  9462"
      ]
     },
     "metadata": {},
     "output_type": "display_data"
    },
    {
     "data": {
      "image/png": "[encoded data removed]",
      "text/plain": [
       "Plot with title \"Average price per day of the reservation\""
      ]
     },
     "metadata": {
      "image/png": {
       "height": 420,
       "width": 420
      }
     },
     "output_type": "display_data"
    }
   ],
   "source": [
    "car::qqPlot(data_small$avg_price_per_room, col = \"#484881\", main = \"Average price per day of the reservation\", ylab = 'Price')"
   ]
  },
  {
   "cell_type": "code",
   "execution_count": 20,
   "metadata": {
    "vscode": {
     "languageId": "r"
    }
   },
   "outputs": [
    {
     "name": "stdout",
     "output_type": "stream",
     "text": [
      "── Data Summary ────────────────────────\n",
      "                           Values      \n",
      "Name                       data_numeric\n",
      "Number of rows             36275       \n",
      "Number of columns          6           \n",
      "_______________________                \n",
      "Column type frequency:                 \n",
      "  numeric                  6           \n",
      "________________________               \n",
      "Group variables            None        \n",
      "\n",
      "── Variable type: numeric ──────────────────────────────────────────────────────\n",
      "  skim_variable                        n_missing complete_rate     mean     sd\n",
      "\u001b[90m1\u001b[39m no_of_weekend_nights                         0             1   0.811   0.871\n",
      "\u001b[90m2\u001b[39m no_of_week_nights                            0             1   2.20    1.41 \n",
      "\u001b[90m3\u001b[39m lead_time                                    0             1  85.2    85.9  \n",
      "\u001b[90m4\u001b[39m no_of_previous_cancellations                 0             1   0.023\u001b[4m3\u001b[24m  0.368\n",
      "\u001b[90m5\u001b[39m no_of_previous_bookings_not_canceled         0             1   0.153   1.75 \n",
      "\u001b[90m6\u001b[39m avg_price_per_room                           0             1 103.     35.1  \n",
      "  p0  p25  p50 p75 p100 hist \n",
      "\u001b[90m1\u001b[39m  0  0    1     2    7 ▇▃▁▁▁\n",
      "\u001b[90m2\u001b[39m  0  1    2     3   17 ▇▁▁▁▁\n",
      "\u001b[90m3\u001b[39m  0 17   57   126  443 ▇▃▁▁▁\n",
      "\u001b[90m4\u001b[39m  0  0    0     0   13 ▇▁▁▁▁\n",
      "\u001b[90m5\u001b[39m  0  0    0     0   58 ▇▁▁▁▁\n",
      "\u001b[90m6\u001b[39m  0 80.3 99.4 120  540 ▇▅▁▁▁\n"
     ]
    },
    {
     "name": "stderr",
     "output_type": "stream",
     "text": [
      "Warning message in is.null(text_repr) || nchar(text_repr) == 0L:\n",
      "\"'length(x) = 12 > 1' in coercion to 'logical(1)'\"\n"
     ]
    },
    {
     "data": {
      "text/html": [
       "<table class=\"dataframe\">\n",
       "<caption>A skim_df: 6 × 12</caption>\n",
       "<thead>\n",
       "\t<tr><th></th><th scope=col>skim_type</th><th scope=col>skim_variable</th><th scope=col>n_missing</th><th scope=col>complete_rate</th><th scope=col>numeric.mean</th><th scope=col>numeric.sd</th><th scope=col>numeric.p0</th><th scope=col>numeric.p25</th><th scope=col>numeric.p50</th><th scope=col>numeric.p75</th><th scope=col>numeric.p100</th><th scope=col>numeric.hist</th></tr>\n",
       "\t<tr><th></th><th scope=col>&lt;chr&gt;</th><th scope=col>&lt;chr&gt;</th><th scope=col>&lt;int&gt;</th><th scope=col>&lt;dbl&gt;</th><th scope=col>&lt;dbl&gt;</th><th scope=col>&lt;dbl&gt;</th><th scope=col>&lt;dbl&gt;</th><th scope=col>&lt;dbl&gt;</th><th scope=col>&lt;dbl&gt;</th><th scope=col>&lt;dbl&gt;</th><th scope=col>&lt;dbl&gt;</th><th scope=col>&lt;chr&gt;</th></tr>\n",
       "</thead>\n",
       "<tbody>\n",
       "\t<tr><th scope=row>1</th><td>numeric</td><td>no_of_weekend_nights                </td><td>0</td><td>1</td><td>  0.81072364</td><td> 0.8706436</td><td>0</td><td> 0.0</td><td> 1.00</td><td>  2</td><td>  7</td><td>▇▃▁▁▁</td></tr>\n",
       "\t<tr><th scope=row>2</th><td>numeric</td><td>no_of_week_nights                   </td><td>0</td><td>1</td><td>  2.20430048</td><td> 1.4109049</td><td>0</td><td> 1.0</td><td> 2.00</td><td>  3</td><td> 17</td><td>▇▁▁▁▁</td></tr>\n",
       "\t<tr><th scope=row>3</th><td>numeric</td><td>lead_time                           </td><td>0</td><td>1</td><td> 85.23255686</td><td>85.9308167</td><td>0</td><td>17.0</td><td>57.00</td><td>126</td><td>443</td><td>▇▃▁▁▁</td></tr>\n",
       "\t<tr><th scope=row>4</th><td>numeric</td><td>no_of_previous_cancellations        </td><td>0</td><td>1</td><td>  0.02334941</td><td> 0.3683314</td><td>0</td><td> 0.0</td><td> 0.00</td><td>  0</td><td> 13</td><td>▇▁▁▁▁</td></tr>\n",
       "\t<tr><th scope=row>5</th><td>numeric</td><td>no_of_previous_bookings_not_canceled</td><td>0</td><td>1</td><td>  0.15341144</td><td> 1.7541707</td><td>0</td><td> 0.0</td><td> 0.00</td><td>  0</td><td> 58</td><td>▇▁▁▁▁</td></tr>\n",
       "\t<tr><th scope=row>6</th><td>numeric</td><td>avg_price_per_room                  </td><td>0</td><td>1</td><td>103.42353908</td><td>35.0894240</td><td>0</td><td>80.3</td><td>99.45</td><td>120</td><td>540</td><td>▇▅▁▁▁</td></tr>\n",
       "</tbody>\n",
       "</table>\n"
      ],
      "text/latex": [
       "A skim\\_df: 6 × 12\n",
       "\\begin{tabular}{r|llllllllllll}\n",
       "  & skim\\_type & skim\\_variable & n\\_missing & complete\\_rate & numeric.mean & numeric.sd & numeric.p0 & numeric.p25 & numeric.p50 & numeric.p75 & numeric.p100 & numeric.hist\\\\\n",
       "  & <chr> & <chr> & <int> & <dbl> & <dbl> & <dbl> & <dbl> & <dbl> & <dbl> & <dbl> & <dbl> & <chr>\\\\\n",
       "\\hline\n",
       "\t1 & numeric & no\\_of\\_weekend\\_nights                 & 0 & 1 &   0.81072364 &  0.8706436 & 0 &  0.0 &  1.00 &   2 &   7 & ▇▃▁▁▁\\\\\n",
       "\t2 & numeric & no\\_of\\_week\\_nights                    & 0 & 1 &   2.20430048 &  1.4109049 & 0 &  1.0 &  2.00 &   3 &  17 & ▇▁▁▁▁\\\\\n",
       "\t3 & numeric & lead\\_time                            & 0 & 1 &  85.23255686 & 85.9308167 & 0 & 17.0 & 57.00 & 126 & 443 & ▇▃▁▁▁\\\\\n",
       "\t4 & numeric & no\\_of\\_previous\\_cancellations         & 0 & 1 &   0.02334941 &  0.3683314 & 0 &  0.0 &  0.00 &   0 &  13 & ▇▁▁▁▁\\\\\n",
       "\t5 & numeric & no\\_of\\_previous\\_bookings\\_not\\_canceled & 0 & 1 &   0.15341144 &  1.7541707 & 0 &  0.0 &  0.00 &   0 &  58 & ▇▁▁▁▁\\\\\n",
       "\t6 & numeric & avg\\_price\\_per\\_room                   & 0 & 1 & 103.42353908 & 35.0894240 & 0 & 80.3 & 99.45 & 120 & 540 & ▇▅▁▁▁\\\\\n",
       "\\end{tabular}\n"
      ],
      "text/markdown": [
       "\n",
       "A skim_df: 6 × 12\n",
       "\n",
       "| <!--/--> | skim_type &lt;chr&gt; | skim_variable &lt;chr&gt; | n_missing &lt;int&gt; | complete_rate &lt;dbl&gt; | numeric.mean &lt;dbl&gt; | numeric.sd &lt;dbl&gt; | numeric.p0 &lt;dbl&gt; | numeric.p25 &lt;dbl&gt; | numeric.p50 &lt;dbl&gt; | numeric.p75 &lt;dbl&gt; | numeric.p100 &lt;dbl&gt; | numeric.hist &lt;chr&gt; |\n",
       "|---|---|---|---|---|---|---|---|---|---|---|---|---|\n",
       "| 1 | numeric | no_of_weekend_nights                 | 0 | 1 |   0.81072364 |  0.8706436 | 0 |  0.0 |  1.00 |   2 |   7 | ▇▃▁▁▁ |\n",
       "| 2 | numeric | no_of_week_nights                    | 0 | 1 |   2.20430048 |  1.4109049 | 0 |  1.0 |  2.00 |   3 |  17 | ▇▁▁▁▁ |\n",
       "| 3 | numeric | lead_time                            | 0 | 1 |  85.23255686 | 85.9308167 | 0 | 17.0 | 57.00 | 126 | 443 | ▇▃▁▁▁ |\n",
       "| 4 | numeric | no_of_previous_cancellations         | 0 | 1 |   0.02334941 |  0.3683314 | 0 |  0.0 |  0.00 |   0 |  13 | ▇▁▁▁▁ |\n",
       "| 5 | numeric | no_of_previous_bookings_not_canceled | 0 | 1 |   0.15341144 |  1.7541707 | 0 |  0.0 |  0.00 |   0 |  58 | ▇▁▁▁▁ |\n",
       "| 6 | numeric | avg_price_per_room                   | 0 | 1 | 103.42353908 | 35.0894240 | 0 | 80.3 | 99.45 | 120 | 540 | ▇▅▁▁▁ |\n",
       "\n"
      ],
      "text/plain": []
     },
     "metadata": {},
     "output_type": "display_data"
    }
   ],
   "source": [
    "# creating df w/o categorical variable\n",
    "data_numeric <- data[c('no_of_weekend_nights', 'no_of_week_nights', 'lead_time','no_of_previous_cancellations', \n",
    "                        'no_of_previous_bookings_not_canceled','avg_price_per_room')]   \n",
    "skim(data_numeric)"
   ]
  },
  {
   "cell_type": "code",
   "execution_count": 21,
   "metadata": {
    "vscode": {
     "languageId": "r"
    }
   },
   "outputs": [
    {
     "name": "stdout",
     "output_type": "stream",
     "text": [
      "                              variable p_value\n",
      "1                 no_of_weekend_nights       0\n",
      "2                    no_of_week_nights       0\n",
      "3                            lead_time       0\n",
      "4         no_of_previous_cancellations       0\n",
      "5 no_of_previous_bookings_not_canceled       0\n",
      "6                   avg_price_per_room       0\n"
     ]
    }
   ],
   "source": [
    "# Anderson-Darling normality test\n",
    "library(nortest)\n",
    "\n",
    "\n",
    "ad_test_results <- data.frame(variable = character(), p_value = numeric(), stringsAsFactors = FALSE)\n",
    "\n",
    "options(scipen = 999)\n",
    "\n",
    "for (col in colnames(data_numeric)) {\n",
    "  test <- ad.test(data_numeric[[col]])\n",
    "  p_value_rounded <- round(test$p.value, 3)\n",
    "  ad_test_results <- rbind(ad_test_results, data.frame(variable = col, p_value = p_value_rounded, stringsAsFactors = FALSE))\n",
    "}\n",
    "\n",
    "\n",
    "print(ad_test_results)"
   ]
  },
  {
   "cell_type": "code",
   "execution_count": 22,
   "metadata": {
    "vscode": {
     "languageId": "r"
    }
   },
   "outputs": [
    {
     "data": {
      "image/png": "[encoded data removed]",
      "text/plain": [
       "plot without title"
      ]
     },
     "metadata": {
      "image/png": {
       "height": 420,
       "width": 420
      }
     },
     "output_type": "display_data"
    }
   ],
   "source": [
    "# histograms according to groups\n",
    "library(ggplot2) \n",
    "library(plyr)\n",
    "library(ggtext)\n",
    "library(gridExtra)\n",
    "\n",
    "plot <- ggplot(data_small, aes(x=avg_price_per_room, fill = type_of_meal_plan)) + \n",
    "    geom_density(alpha = .2) + xlab('Price') + ylab('Density') + \n",
    "    labs(title = 'Average price per day of the reservation', subtitle = 'Prices of the room', fill = 'Type of meal plan') +\n",
    "    theme(plot.title = element_markdown(size = 20))\n",
    "\n",
    "plot"
   ]
  },
  {
   "cell_type": "code",
   "execution_count": 24,
   "metadata": {
    "vscode": {
     "languageId": "r"
    }
   },
   "outputs": [
    {
     "data": {
      "text/plain": [
       "\n",
       "MP_high  MP_low \n",
       "  27835    8440 "
      ]
     },
     "metadata": {},
     "output_type": "display_data"
    }
   ],
   "source": [
    "# factoring and grouping categorical in 2 levels\n",
    "data_small$type_of_meal <- factor(data_small$type_of_meal)\n",
    "data_small$type_of_meal_fct2 <- data_small$type_of_meal\n",
    "    data_small$type_of_meal_fct2 <- car::recode(data_small$type_of_meal_fct2, \"'Meal Plan 1' = 'MP_high'; 'Not Selected' = 'MP_low'\")\n",
    "    data_small$type_of_meal_fct2[data_small$type_of_meal_fct2 == \"Meal Plan 2\"] <- \"MP_low\"\n",
    "    data_small$type_of_meal_fct2[data_small$type_of_meal_fct2 == \"Meal Plan 3\"] <- \"MP_low\"\n",
    "    data_small$type_of_meal_fct2 <- factor(data_small$type_of_meal_fct2, levels = c(\"MP_high\", \"MP_low\"))\n",
    "\n",
    "table(data_small$type_of_meal_fct2)"
   ]
  },
  {
   "cell_type": "code",
   "execution_count": 31,
   "metadata": {
    "vscode": {
     "languageId": "r"
    }
   },
   "outputs": [
    {
     "data": {
      "image/png": "[encoded data removed]",
      "text/plain": [
       "plot without title"
      ]
     },
     "metadata": {
      "image/png": {
       "height": 420,
       "width": 420
      }
     },
     "output_type": "display_data"
    }
   ],
   "source": [
    "plot2 <- ggplot(data_small, aes(x=avg_price_per_room, fill = type_of_meal_fct2)) + geom_density(alpha = .2) +\n",
    "    geom_density(alpha = .2) + xlab('Days') + ylab('Price') + \n",
    "    labs(title = 'Average price per day of the reservation', subtitle = 'Prices of the room', fill = 'Type of meal plan') +\n",
    "    theme(plot.title = element_markdown(size = 20))\n",
    "plot2"
   ]
  },
  {
   "attachments": {},
   "cell_type": "markdown",
   "metadata": {},
   "source": [
    "## Q6 Task 3"
   ]
  },
  {
   "cell_type": "code",
   "execution_count": 50,
   "metadata": {
    "vscode": {
     "languageId": "r"
    }
   },
   "outputs": [
    {
     "name": "stdout",
     "output_type": "stream",
     "text": [
      "── Data Summary ────────────────────────\n",
      "                           Values     \n",
      "Name                       data_small2\n",
      "Number of rows             36275      \n",
      "Number of columns          4          \n",
      "_______________________               \n",
      "Column type frequency:                \n",
      "  character                2          \n",
      "  numeric                  2          \n",
      "________________________              \n",
      "Group variables            None       \n",
      "\n",
      "── Variable type: character ────────────────────────────────────────────────────\n",
      "  skim_variable      n_missing complete_rate min max empty n_unique whitespace\n",
      "\u001b[90m1\u001b[39m type_of_meal_plan          0             1  11  12     0        4          0\n",
      "\u001b[90m2\u001b[39m room_type_reserved         0             1  11  11     0        7          0\n",
      "\n",
      "── Variable type: numeric ──────────────────────────────────────────────────────\n",
      "  skim_variable      n_missing complete_rate  mean   sd p0  p25  p50 p75 p100\n",
      "\u001b[90m1\u001b[39m lead_time                  0             1  85.2 85.9  0 17   57   126  443\n",
      "\u001b[90m2\u001b[39m avg_price_per_room         0             1 103.  35.1  0 80.3 99.4 120  540\n",
      "  hist \n",
      "\u001b[90m1\u001b[39m ▇▃▁▁▁\n",
      "\u001b[90m2\u001b[39m ▇▅▁▁▁\n"
     ]
    },
    {
     "name": "stderr",
     "output_type": "stream",
     "text": [
      "Warning message in is.null(text_repr) || nchar(text_repr) == 0L:\n",
      "\"'length(x) = 17 > 1' in coercion to 'logical(1)'\"\n"
     ]
    },
    {
     "data": {
      "text/html": [
       "<table class=\"dataframe\">\n",
       "<caption>A skim_df: 4 × 17</caption>\n",
       "<thead>\n",
       "\t<tr><th></th><th scope=col>skim_type</th><th scope=col>skim_variable</th><th scope=col>n_missing</th><th scope=col>complete_rate</th><th scope=col>character.min</th><th scope=col>character.max</th><th scope=col>character.empty</th><th scope=col>character.n_unique</th><th scope=col>character.whitespace</th><th scope=col>numeric.mean</th><th scope=col>numeric.sd</th><th scope=col>numeric.p0</th><th scope=col>numeric.p25</th><th scope=col>numeric.p50</th><th scope=col>numeric.p75</th><th scope=col>numeric.p100</th><th scope=col>numeric.hist</th></tr>\n",
       "\t<tr><th></th><th scope=col>&lt;chr&gt;</th><th scope=col>&lt;chr&gt;</th><th scope=col>&lt;int&gt;</th><th scope=col>&lt;dbl&gt;</th><th scope=col>&lt;int&gt;</th><th scope=col>&lt;int&gt;</th><th scope=col>&lt;int&gt;</th><th scope=col>&lt;int&gt;</th><th scope=col>&lt;int&gt;</th><th scope=col>&lt;dbl&gt;</th><th scope=col>&lt;dbl&gt;</th><th scope=col>&lt;dbl&gt;</th><th scope=col>&lt;dbl&gt;</th><th scope=col>&lt;dbl&gt;</th><th scope=col>&lt;dbl&gt;</th><th scope=col>&lt;dbl&gt;</th><th scope=col>&lt;chr&gt;</th></tr>\n",
       "</thead>\n",
       "<tbody>\n",
       "\t<tr><th scope=row>1</th><td>character</td><td>type_of_meal_plan </td><td>0</td><td>1</td><td>11</td><td>12</td><td> 0</td><td> 4</td><td> 0</td><td>       NA</td><td>      NA</td><td>NA</td><td>  NA</td><td>   NA</td><td> NA</td><td> NA</td><td>NA   </td></tr>\n",
       "\t<tr><th scope=row>2</th><td>character</td><td>room_type_reserved</td><td>0</td><td>1</td><td>11</td><td>11</td><td> 0</td><td> 7</td><td> 0</td><td>       NA</td><td>      NA</td><td>NA</td><td>  NA</td><td>   NA</td><td> NA</td><td> NA</td><td>NA   </td></tr>\n",
       "\t<tr><th scope=row>3</th><td>numeric  </td><td>lead_time         </td><td>0</td><td>1</td><td>NA</td><td>NA</td><td>NA</td><td>NA</td><td>NA</td><td> 85.23256</td><td>85.93082</td><td> 0</td><td>17.0</td><td>57.00</td><td>126</td><td>443</td><td>▇▃▁▁▁</td></tr>\n",
       "\t<tr><th scope=row>4</th><td>numeric  </td><td>avg_price_per_room</td><td>0</td><td>1</td><td>NA</td><td>NA</td><td>NA</td><td>NA</td><td>NA</td><td>103.42354</td><td>35.08942</td><td> 0</td><td>80.3</td><td>99.45</td><td>120</td><td>540</td><td>▇▅▁▁▁</td></tr>\n",
       "</tbody>\n",
       "</table>\n"
      ],
      "text/latex": [
       "A skim\\_df: 4 × 17\n",
       "\\begin{tabular}{r|lllllllllllllllll}\n",
       "  & skim\\_type & skim\\_variable & n\\_missing & complete\\_rate & character.min & character.max & character.empty & character.n\\_unique & character.whitespace & numeric.mean & numeric.sd & numeric.p0 & numeric.p25 & numeric.p50 & numeric.p75 & numeric.p100 & numeric.hist\\\\\n",
       "  & <chr> & <chr> & <int> & <dbl> & <int> & <int> & <int> & <int> & <int> & <dbl> & <dbl> & <dbl> & <dbl> & <dbl> & <dbl> & <dbl> & <chr>\\\\\n",
       "\\hline\n",
       "\t1 & character & type\\_of\\_meal\\_plan  & 0 & 1 & 11 & 12 &  0 &  4 &  0 &        NA &       NA & NA &   NA &    NA &  NA &  NA & NA   \\\\\n",
       "\t2 & character & room\\_type\\_reserved & 0 & 1 & 11 & 11 &  0 &  7 &  0 &        NA &       NA & NA &   NA &    NA &  NA &  NA & NA   \\\\\n",
       "\t3 & numeric   & lead\\_time          & 0 & 1 & NA & NA & NA & NA & NA &  85.23256 & 85.93082 &  0 & 17.0 & 57.00 & 126 & 443 & ▇▃▁▁▁\\\\\n",
       "\t4 & numeric   & avg\\_price\\_per\\_room & 0 & 1 & NA & NA & NA & NA & NA & 103.42354 & 35.08942 &  0 & 80.3 & 99.45 & 120 & 540 & ▇▅▁▁▁\\\\\n",
       "\\end{tabular}\n"
      ],
      "text/markdown": [
       "\n",
       "A skim_df: 4 × 17\n",
       "\n",
       "| <!--/--> | skim_type &lt;chr&gt; | skim_variable &lt;chr&gt; | n_missing &lt;int&gt; | complete_rate &lt;dbl&gt; | character.min &lt;int&gt; | character.max &lt;int&gt; | character.empty &lt;int&gt; | character.n_unique &lt;int&gt; | character.whitespace &lt;int&gt; | numeric.mean &lt;dbl&gt; | numeric.sd &lt;dbl&gt; | numeric.p0 &lt;dbl&gt; | numeric.p25 &lt;dbl&gt; | numeric.p50 &lt;dbl&gt; | numeric.p75 &lt;dbl&gt; | numeric.p100 &lt;dbl&gt; | numeric.hist &lt;chr&gt; |\n",
       "|---|---|---|---|---|---|---|---|---|---|---|---|---|---|---|---|---|---|\n",
       "| 1 | character | type_of_meal_plan  | 0 | 1 | 11 | 12 |  0 |  4 |  0 |        NA |       NA | NA |   NA |    NA |  NA |  NA | NA    |\n",
       "| 2 | character | room_type_reserved | 0 | 1 | 11 | 11 |  0 |  7 |  0 |        NA |       NA | NA |   NA |    NA |  NA |  NA | NA    |\n",
       "| 3 | numeric   | lead_time          | 0 | 1 | NA | NA | NA | NA | NA |  85.23256 | 85.93082 |  0 | 17.0 | 57.00 | 126 | 443 | ▇▃▁▁▁ |\n",
       "| 4 | numeric   | avg_price_per_room | 0 | 1 | NA | NA | NA | NA | NA | 103.42354 | 35.08942 |  0 | 80.3 | 99.45 | 120 | 540 | ▇▅▁▁▁ |\n",
       "\n"
      ],
      "text/plain": []
     },
     "metadata": {},
     "output_type": "display_data"
    }
   ],
   "source": [
    "data_small2 <- data[c('type_of_meal_plan', 'room_type_reserved', 'lead_time','avg_price_per_room')]  \n",
    "skim(data_small2)"
   ]
  },
  {
   "cell_type": "code",
   "execution_count": 52,
   "metadata": {
    "vscode": {
     "languageId": "r"
    }
   },
   "outputs": [
    {
     "data": {
      "text/html": [
       "<style>\n",
       ".list-inline {list-style: none; margin:0; padding: 0}\n",
       ".list-inline>li {display: inline-block}\n",
       ".list-inline>li:not(:last-child)::after {content: \"\\00b7\"; padding: 0 .5ex}\n",
       "</style>\n",
       "<ol class=list-inline><li>Room_Type 1</li><li>Room_Type 4</li><li>Room_Type 2</li><li>Room_Type 6</li><li>Room_Type 5</li><li>Room_Type 7</li><li>Room_Type 3</li></ol>\n",
       "\n",
       "<details>\n",
       "\t<summary style=display:list-item;cursor:pointer>\n",
       "\t\t<strong>Levels</strong>:\n",
       "\t</summary>\n",
       "\t<style>\n",
       "\t.list-inline {list-style: none; margin:0; padding: 0}\n",
       "\t.list-inline>li {display: inline-block}\n",
       "\t.list-inline>li:not(:last-child)::after {content: \"\\00b7\"; padding: 0 .5ex}\n",
       "\t</style>\n",
       "\t<ol class=list-inline><li>'Room_Type 1'</li><li>'Room_Type 2'</li><li>'Room_Type 3'</li><li>'Room_Type 4'</li><li>'Room_Type 5'</li><li>'Room_Type 6'</li><li>'Room_Type 7'</li></ol>\n",
       "</details>"
      ],
      "text/latex": [
       "\\begin{enumerate*}\n",
       "\\item Room\\_Type 1\n",
       "\\item Room\\_Type 4\n",
       "\\item Room\\_Type 2\n",
       "\\item Room\\_Type 6\n",
       "\\item Room\\_Type 5\n",
       "\\item Room\\_Type 7\n",
       "\\item Room\\_Type 3\n",
       "\\end{enumerate*}\n",
       "\n",
       "\\emph{Levels}: \\begin{enumerate*}\n",
       "\\item 'Room\\_Type 1'\n",
       "\\item 'Room\\_Type 2'\n",
       "\\item 'Room\\_Type 3'\n",
       "\\item 'Room\\_Type 4'\n",
       "\\item 'Room\\_Type 5'\n",
       "\\item 'Room\\_Type 6'\n",
       "\\item 'Room\\_Type 7'\n",
       "\\end{enumerate*}\n"
      ],
      "text/markdown": [
       "1. Room_Type 1\n",
       "2. Room_Type 4\n",
       "3. Room_Type 2\n",
       "4. Room_Type 6\n",
       "5. Room_Type 5\n",
       "6. Room_Type 7\n",
       "7. Room_Type 3\n",
       "\n",
       "\n",
       "\n",
       "**Levels**: 1. 'Room_Type 1'\n",
       "2. 'Room_Type 2'\n",
       "3. 'Room_Type 3'\n",
       "4. 'Room_Type 4'\n",
       "5. 'Room_Type 5'\n",
       "6. 'Room_Type 6'\n",
       "7. 'Room_Type 7'\n",
       "\n",
       "\n"
      ],
      "text/plain": [
       "[1] Room_Type 1 Room_Type 4 Room_Type 2 Room_Type 6 Room_Type 5 Room_Type 7\n",
       "[7] Room_Type 3\n",
       "7 Levels: Room_Type 1 Room_Type 2 Room_Type 3 Room_Type 4 ... Room_Type 7"
      ]
     },
     "metadata": {},
     "output_type": "display_data"
    },
    {
     "data": {
      "text/html": [
       "<style>\n",
       ".list-inline {list-style: none; margin:0; padding: 0}\n",
       ".list-inline>li {display: inline-block}\n",
       ".list-inline>li:not(:last-child)::after {content: \"\\00b7\"; padding: 0 .5ex}\n",
       "</style>\n",
       "<ol class=list-inline><li>Meal Plan 1</li><li>Not Selected</li><li>Meal Plan 2</li><li>Meal Plan 3</li></ol>\n",
       "\n",
       "<details>\n",
       "\t<summary style=display:list-item;cursor:pointer>\n",
       "\t\t<strong>Levels</strong>:\n",
       "\t</summary>\n",
       "\t<style>\n",
       "\t.list-inline {list-style: none; margin:0; padding: 0}\n",
       "\t.list-inline>li {display: inline-block}\n",
       "\t.list-inline>li:not(:last-child)::after {content: \"\\00b7\"; padding: 0 .5ex}\n",
       "\t</style>\n",
       "\t<ol class=list-inline><li>'Meal Plan 1'</li><li>'Meal Plan 2'</li><li>'Meal Plan 3'</li><li>'Not Selected'</li></ol>\n",
       "</details>"
      ],
      "text/latex": [
       "\\begin{enumerate*}\n",
       "\\item Meal Plan 1\n",
       "\\item Not Selected\n",
       "\\item Meal Plan 2\n",
       "\\item Meal Plan 3\n",
       "\\end{enumerate*}\n",
       "\n",
       "\\emph{Levels}: \\begin{enumerate*}\n",
       "\\item 'Meal Plan 1'\n",
       "\\item 'Meal Plan 2'\n",
       "\\item 'Meal Plan 3'\n",
       "\\item 'Not Selected'\n",
       "\\end{enumerate*}\n"
      ],
      "text/markdown": [
       "1. Meal Plan 1\n",
       "2. Not Selected\n",
       "3. Meal Plan 2\n",
       "4. Meal Plan 3\n",
       "\n",
       "\n",
       "\n",
       "**Levels**: 1. 'Meal Plan 1'\n",
       "2. 'Meal Plan 2'\n",
       "3. 'Meal Plan 3'\n",
       "4. 'Not Selected'\n",
       "\n",
       "\n"
      ],
      "text/plain": [
       "[1] Meal Plan 1  Not Selected Meal Plan 2  Meal Plan 3 \n",
       "Levels: Meal Plan 1 Meal Plan 2 Meal Plan 3 Not Selected"
      ]
     },
     "metadata": {},
     "output_type": "display_data"
    },
    {
     "data": {
      "text/plain": [
       "\n",
       "Room_Type 1 Room_Type 2 Room_Type 3 Room_Type 4 Room_Type 5 Room_Type 6 \n",
       "      28130         692           7        6057         265         966 \n",
       "Room_Type 7 \n",
       "        158 "
      ]
     },
     "metadata": {},
     "output_type": "display_data"
    },
    {
     "data": {
      "text/plain": [
       "\n",
       " Meal Plan 1  Meal Plan 2  Meal Plan 3 Not Selected \n",
       "       27835         3305            5         5130 "
      ]
     },
     "metadata": {},
     "output_type": "display_data"
    }
   ],
   "source": [
    "unique(data_small2$room_type_reserved)  #unordered\n",
    "unique(data_small2$type_of_meal)        #unordered\n",
    "\n",
    "data_small2$room_type_reserved <- factor(data_small2$room_type_reserved)\n",
    "data_small2$type_of_meal <- factor(data_small2$type_of_meal)\n",
    "\n",
    "table(data_small2$room_type_reserved)\n",
    "table(data_small2$type_of_meal)"
   ]
  },
  {
   "cell_type": "code",
   "execution_count": null,
   "metadata": {
    "vscode": {
     "languageId": "r"
    }
   },
   "outputs": [
    {
     "data": {
      "text/html": [
       "<strong>png:</strong> 2"
      ],
      "text/latex": [
       "\\textbf{png:} 2"
      ],
      "text/markdown": [
       "**png:** 2"
      ],
      "text/plain": [
       "png \n",
       "  2 "
      ]
     },
     "metadata": {},
     "output_type": "display_data"
    }
   ],
   "source": [
    "library(ggtext)\n",
    "library(gridExtra)\n",
    "\n",
    "plot1 <- ggplot(data_small2, aes(x=lead_time, fill = room_type_reserved)) + geom_density(alpha = .2) +\n",
    "    geom_density(alpha = .2) + xlab('Days') + ylab('Density') +\n",
    "    labs(title = '1.2 Lead Time', subtitle = 'Days between the time of booking and arrival', fill = 'Type of room') +\n",
    "    theme(plot.title = element_markdown(size = 20))\n",
    "plot3 <- ggplot(data_small2, aes(x=avg_price_per_room, fill = room_type_reserved)) +\n",
    "    geom_density(alpha = .2) + xlab('Price') + ylab('Density') +\n",
    "    labs(title = '1.2 Average price per day of the reservation', subtitle = 'Prices of the room', fill = 'Type of room') +\n",
    "    theme(plot.title = element_markdown(size = 20))\n",
    "\n",
    "plot2 <- ggplot(data_small2, aes(x=lead_time, fill = type_of_meal)) + geom_density(alpha = .2) +\n",
    "    geom_density(alpha = .2) + xlab('Days') + ylab('Density') +\n",
    "    labs(title = '2.1 Lead Time', subtitle = 'Days between the time of booking and arrival', fill = 'Type of meal plan') +\n",
    "    theme(plot.title = element_markdown(size = 20))\n",
    "plot4 <- ggplot(data_small2, aes(x=avg_price_per_room, fill = type_of_meal)) + geom_density(alpha = .2) +\n",
    "    geom_density(alpha = .2) + xlab('Price') + ylab('Density') +\n",
    "    labs(title = '2.2 Average price per day of the reservation', subtitle = 'Prices of the room', fill = 'Type of meal plan') +\n",
    "    theme(plot.title = element_markdown(size = 20))\n",
    "\n",
    "\n",
    "png(\"Image Export/Task 3.png\", width = 2000, height = 2000, unit = \"px\")\n",
    "grid.arrange(plot1, plot3, plot2, plot4, ncol = 2)\n",
    "dev.off()\n"
   ]
  },
  {
   "cell_type": "code",
   "execution_count": 57,
   "metadata": {
    "vscode": {
     "languageId": "r"
    }
   },
   "outputs": [
    {
     "data": {
      "text/plain": [
       "\n",
       "\tKruskal-Wallis rank sum test\n",
       "\n",
       "data:  avg_price_per_room by room_type_reserved\n",
       "Kruskal-Wallis chi-squared = 6765, df = 6, p-value <\n",
       "0.00000000000000022\n"
      ]
     },
     "metadata": {},
     "output_type": "display_data"
    },
    {
     "data": {
      "text/plain": [
       "\n",
       "\tKruskal-Wallis rank sum test\n",
       "\n",
       "data:  avg_price_per_room by type_of_meal\n",
       "Kruskal-Wallis chi-squared = 882.65, df = 3, p-value <\n",
       "0.00000000000000022\n"
      ]
     },
     "metadata": {},
     "output_type": "display_data"
    }
   ],
   "source": [
    "# Kruskal Wallis test for average price per room\n",
    "\n",
    "kruskal.test(avg_price_per_room ~ room_type_reserved, data = data_small2)     # reject null hypothesis\n",
    "kruskal.test(avg_price_per_room ~ type_of_meal, data = data_small2)"
   ]
  },
  {
   "cell_type": "code",
   "execution_count": 53,
   "metadata": {
    "vscode": {
     "languageId": "r"
    }
   },
   "outputs": [
    {
     "data": {
      "text/plain": [
       "\n",
       "\tKruskal-Wallis rank sum test\n",
       "\n",
       "data:  lead_time by room_type_reserved\n",
       "Kruskal-Wallis chi-squared = 240.89, df = 6, p-value <\n",
       "0.00000000000000022\n"
      ]
     },
     "metadata": {},
     "output_type": "display_data"
    },
    {
     "data": {
      "text/plain": [
       "\n",
       "\tKruskal-Wallis rank sum test\n",
       "\n",
       "data:  lead_time by type_of_meal\n",
       "Kruskal-Wallis chi-squared = 1613.8, df = 3, p-value <\n",
       "0.00000000000000022\n"
      ]
     },
     "metadata": {},
     "output_type": "display_data"
    }
   ],
   "source": [
    "# Kruskal Wallis test for lead time\n",
    "\n",
    "kruskal.test(lead_time ~ room_type_reserved, data = data_small2)     # reject null hypothesis\n",
    "kruskal.test(lead_time ~ type_of_meal, data = data_small2)"
   ]
  }
 ],
 "metadata": {
  "kernelspec": {
   "display_name": "R",
   "language": "R",
   "name": "ir"
  },
  "language_info": {
   "codemirror_mode": "r",
   "file_extension": ".r",
   "mimetype": "text/x-r-source",
   "name": "R",
   "pygments_lexer": "r",
   "version": "4.2.2"
  },
  "orig_nbformat": 4
 },
 "nbformat": 4,
 "nbformat_minor": 2
}
