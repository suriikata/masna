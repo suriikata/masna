{
 "cells": [
  {
   "attachments": {},
   "cell_type": "markdown",
   "metadata": {},
   "source": [
    "### EDA Project 1 & 3"
   ]
  },
  {
   "cell_type": "code",
   "execution_count": 2,
   "metadata": {
    "vscode": {
     "languageId": "r"
    }
   },
   "outputs": [
    {
     "data": {
      "text/html": [
       "<table class=\"dataframe\">\n",
       "<caption>A data.frame: 6 × 2</caption>\n",
       "<thead>\n",
       "\t<tr><th></th><th scope=col>fertilizer</th><th scope=col>yield</th></tr>\n",
       "\t<tr><th></th><th scope=col>&lt;int&gt;</th><th scope=col>&lt;dbl&gt;</th></tr>\n",
       "</thead>\n",
       "<tbody>\n",
       "\t<tr><th scope=row>1</th><td>1</td><td>177.2287</td></tr>\n",
       "\t<tr><th scope=row>2</th><td>1</td><td>177.5500</td></tr>\n",
       "\t<tr><th scope=row>3</th><td>1</td><td>176.4085</td></tr>\n",
       "\t<tr><th scope=row>4</th><td>1</td><td>177.7036</td></tr>\n",
       "\t<tr><th scope=row>5</th><td>1</td><td>177.1255</td></tr>\n",
       "\t<tr><th scope=row>6</th><td>1</td><td>176.7783</td></tr>\n",
       "</tbody>\n",
       "</table>\n"
      ],
      "text/latex": [
       "A data.frame: 6 × 2\n",
       "\\begin{tabular}{r|ll}\n",
       "  & fertilizer & yield\\\\\n",
       "  & <int> & <dbl>\\\\\n",
       "\\hline\n",
       "\t1 & 1 & 177.2287\\\\\n",
       "\t2 & 1 & 177.5500\\\\\n",
       "\t3 & 1 & 176.4085\\\\\n",
       "\t4 & 1 & 177.7036\\\\\n",
       "\t5 & 1 & 177.1255\\\\\n",
       "\t6 & 1 & 176.7783\\\\\n",
       "\\end{tabular}\n"
      ],
      "text/markdown": [
       "\n",
       "A data.frame: 6 × 2\n",
       "\n",
       "| <!--/--> | fertilizer &lt;int&gt; | yield &lt;dbl&gt; |\n",
       "|---|---|---|\n",
       "| 1 | 1 | 177.2287 |\n",
       "| 2 | 1 | 177.5500 |\n",
       "| 3 | 1 | 176.4085 |\n",
       "| 4 | 1 | 177.7036 |\n",
       "| 5 | 1 | 177.1255 |\n",
       "| 6 | 1 | 176.7783 |\n",
       "\n"
      ],
      "text/plain": [
       "  fertilizer yield   \n",
       "1 1          177.2287\n",
       "2 1          177.5500\n",
       "3 1          176.4085\n",
       "4 1          177.7036\n",
       "5 1          177.1255\n",
       "6 1          176.7783"
      ]
     },
     "metadata": {},
     "output_type": "display_data"
    }
   ],
   "source": [
    "library(readr)\n",
    "\n",
    "data <- read.csv(\"C:\\\\Users\\\\irisc\\\\Documents\\\\MASNA\\\\Bayesian Analysis\\\\Final Projects\\\\Project 1\\\\data\\\\01_crop.csv\")\n",
    "head(data)"
   ]
  },
  {
   "cell_type": "code",
   "execution_count": 3,
   "metadata": {
    "vscode": {
     "languageId": "r"
    }
   },
   "outputs": [
    {
     "name": "stdout",
     "output_type": "stream",
     "text": [
      "── Data Summary ────────────────────────\n",
      "                           Values\n",
      "Name                       data  \n",
      "Number of rows             71    \n",
      "Number of columns          2     \n",
      "_______________________          \n",
      "Column type frequency:           \n",
      "  numeric                  2     \n",
      "________________________         \n",
      "Group variables            None  \n",
      "\n",
      "── Variable type: numeric ──────────────────────────────────────────────────────\n",
      "  skim_variable n_missing complete_rate   mean    sd   p0  p25  p50  p75 p100\n",
      "\u001b[90m1\u001b[39m fertilizer            0             1   1.65 0.657   1    1    2    2    3 \n",
      "\u001b[90m2\u001b[39m yield                 0             1 177.   0.651 175. 176. 177. 177. 178.\n",
      "  hist \n",
      "\u001b[90m1\u001b[39m ▇▁▇▁▂\n",
      "\u001b[90m2\u001b[39m ▂▅▇▆▂\n"
     ]
    },
    {
     "name": "stderr",
     "output_type": "stream",
     "text": [
      "Warning message in is.null(text_repr) || nchar(text_repr) == 0L:\n",
      "\"'length(x) = 12 > 1' in coercion to 'logical(1)'\"\n"
     ]
    },
    {
     "data": {
      "text/html": [
       "<table class=\"dataframe\">\n",
       "<caption>A skim_df: 2 × 12</caption>\n",
       "<thead>\n",
       "\t<tr><th></th><th scope=col>skim_type</th><th scope=col>skim_variable</th><th scope=col>n_missing</th><th scope=col>complete_rate</th><th scope=col>numeric.mean</th><th scope=col>numeric.sd</th><th scope=col>numeric.p0</th><th scope=col>numeric.p25</th><th scope=col>numeric.p50</th><th scope=col>numeric.p75</th><th scope=col>numeric.p100</th><th scope=col>numeric.hist</th></tr>\n",
       "\t<tr><th></th><th scope=col>&lt;chr&gt;</th><th scope=col>&lt;chr&gt;</th><th scope=col>&lt;int&gt;</th><th scope=col>&lt;dbl&gt;</th><th scope=col>&lt;dbl&gt;</th><th scope=col>&lt;dbl&gt;</th><th scope=col>&lt;dbl&gt;</th><th scope=col>&lt;dbl&gt;</th><th scope=col>&lt;dbl&gt;</th><th scope=col>&lt;dbl&gt;</th><th scope=col>&lt;dbl&gt;</th><th scope=col>&lt;chr&gt;</th></tr>\n",
       "</thead>\n",
       "<tbody>\n",
       "\t<tr><th scope=row>1</th><td>numeric</td><td>fertilizer</td><td>0</td><td>1</td><td>  1.647887</td><td>0.6568016</td><td>  1.0000</td><td>  1.000</td><td>  2.0000</td><td>  2.0000</td><td>  3.0000</td><td>▇▁▇▁▂</td></tr>\n",
       "\t<tr><th scope=row>2</th><td>numeric</td><td>yield     </td><td>0</td><td>1</td><td>176.913999</td><td>0.6510011</td><td>175.3608</td><td>176.432</td><td>176.9758</td><td>177.3484</td><td>178.3574</td><td>▂▅▇▆▂</td></tr>\n",
       "</tbody>\n",
       "</table>\n"
      ],
      "text/latex": [
       "A skim\\_df: 2 × 12\n",
       "\\begin{tabular}{r|llllllllllll}\n",
       "  & skim\\_type & skim\\_variable & n\\_missing & complete\\_rate & numeric.mean & numeric.sd & numeric.p0 & numeric.p25 & numeric.p50 & numeric.p75 & numeric.p100 & numeric.hist\\\\\n",
       "  & <chr> & <chr> & <int> & <dbl> & <dbl> & <dbl> & <dbl> & <dbl> & <dbl> & <dbl> & <dbl> & <chr>\\\\\n",
       "\\hline\n",
       "\t1 & numeric & fertilizer & 0 & 1 &   1.647887 & 0.6568016 &   1.0000 &   1.000 &   2.0000 &   2.0000 &   3.0000 & ▇▁▇▁▂\\\\\n",
       "\t2 & numeric & yield      & 0 & 1 & 176.913999 & 0.6510011 & 175.3608 & 176.432 & 176.9758 & 177.3484 & 178.3574 & ▂▅▇▆▂\\\\\n",
       "\\end{tabular}\n"
      ],
      "text/markdown": [
       "\n",
       "A skim_df: 2 × 12\n",
       "\n",
       "| <!--/--> | skim_type &lt;chr&gt; | skim_variable &lt;chr&gt; | n_missing &lt;int&gt; | complete_rate &lt;dbl&gt; | numeric.mean &lt;dbl&gt; | numeric.sd &lt;dbl&gt; | numeric.p0 &lt;dbl&gt; | numeric.p25 &lt;dbl&gt; | numeric.p50 &lt;dbl&gt; | numeric.p75 &lt;dbl&gt; | numeric.p100 &lt;dbl&gt; | numeric.hist &lt;chr&gt; |\n",
       "|---|---|---|---|---|---|---|---|---|---|---|---|---|\n",
       "| 1 | numeric | fertilizer | 0 | 1 |   1.647887 | 0.6568016 |   1.0000 |   1.000 |   2.0000 |   2.0000 |   3.0000 | ▇▁▇▁▂ |\n",
       "| 2 | numeric | yield      | 0 | 1 | 176.913999 | 0.6510011 | 175.3608 | 176.432 | 176.9758 | 177.3484 | 178.3574 | ▂▅▇▆▂ |\n",
       "\n"
      ],
      "text/plain": []
     },
     "metadata": {},
     "output_type": "display_data"
    }
   ],
   "source": [
    "skimr::skim(data)"
   ]
  },
  {
   "cell_type": "code",
   "execution_count": 4,
   "metadata": {
    "vscode": {
     "languageId": "r"
    }
   },
   "outputs": [
    {
     "data": {
      "text/plain": [
       "\n",
       " 1  2  3 \n",
       "32 32  7 "
      ]
     },
     "metadata": {},
     "output_type": "display_data"
    }
   ],
   "source": [
    "table(data$fertilizer)"
   ]
  },
  {
   "cell_type": "code",
   "execution_count": 5,
   "metadata": {
    "vscode": {
     "languageId": "r"
    }
   },
   "outputs": [
    {
     "data": {
      "image/png": "[encoded data removed]",
      "text/plain": [
       "Plot with title \"Fertilizer 1\""
      ]
     },
     "metadata": {
      "image/png": {
       "height": 420,
       "width": 420
      }
     },
     "output_type": "display_data"
    }
   ],
   "source": [
    "f1_data <- data[data$fertilizer == 1, ]\n",
    "\n",
    "hist(f1_data$yield, freq = FALSE, xlab = 'Yield', breaks = 'Freedman-Diaconis', col = '#510b51',  \n",
    "     ylim = c(0, 0.7), main = \"Fertilizer 1\")\n",
    "lines(density(f1_data$yield), col = 'yellow', lwd = 3)\n"
   ]
  },
  {
   "cell_type": "code",
   "execution_count": 6,
   "metadata": {
    "vscode": {
     "languageId": "r"
    }
   },
   "outputs": [
    {
     "data": {
      "text/html": [
       "<table class=\"dataframe\">\n",
       "<caption>A data.frame: 6 × 2</caption>\n",
       "<thead>\n",
       "\t<tr><th></th><th scope=col>fertilizer</th><th scope=col>yield</th></tr>\n",
       "\t<tr><th></th><th scope=col>&lt;int&gt;</th><th scope=col>&lt;dbl&gt;</th></tr>\n",
       "</thead>\n",
       "<tbody>\n",
       "\t<tr><th scope=row>33</th><td>2</td><td>176.4793</td></tr>\n",
       "\t<tr><th scope=row>34</th><td>2</td><td>176.0443</td></tr>\n",
       "\t<tr><th scope=row>35</th><td>2</td><td>177.4125</td></tr>\n",
       "\t<tr><th scope=row>36</th><td>2</td><td>177.3608</td></tr>\n",
       "\t<tr><th scope=row>37</th><td>2</td><td>177.3855</td></tr>\n",
       "\t<tr><th scope=row>38</th><td>2</td><td>176.9758</td></tr>\n",
       "</tbody>\n",
       "</table>\n"
      ],
      "text/latex": [
       "A data.frame: 6 × 2\n",
       "\\begin{tabular}{r|ll}\n",
       "  & fertilizer & yield\\\\\n",
       "  & <int> & <dbl>\\\\\n",
       "\\hline\n",
       "\t33 & 2 & 176.4793\\\\\n",
       "\t34 & 2 & 176.0443\\\\\n",
       "\t35 & 2 & 177.4125\\\\\n",
       "\t36 & 2 & 177.3608\\\\\n",
       "\t37 & 2 & 177.3855\\\\\n",
       "\t38 & 2 & 176.9758\\\\\n",
       "\\end{tabular}\n"
      ],
      "text/markdown": [
       "\n",
       "A data.frame: 6 × 2\n",
       "\n",
       "| <!--/--> | fertilizer &lt;int&gt; | yield &lt;dbl&gt; |\n",
       "|---|---|---|\n",
       "| 33 | 2 | 176.4793 |\n",
       "| 34 | 2 | 176.0443 |\n",
       "| 35 | 2 | 177.4125 |\n",
       "| 36 | 2 | 177.3608 |\n",
       "| 37 | 2 | 177.3855 |\n",
       "| 38 | 2 | 176.9758 |\n",
       "\n"
      ],
      "text/plain": [
       "   fertilizer yield   \n",
       "33 2          176.4793\n",
       "34 2          176.0443\n",
       "35 2          177.4125\n",
       "36 2          177.3608\n",
       "37 2          177.3855\n",
       "38 2          176.9758"
      ]
     },
     "metadata": {},
     "output_type": "display_data"
    },
    {
     "data": {
      "image/png": "[encoded data removed]",
      "text/plain": [
       "Plot with title \"Fertilizer 2\""
      ]
     },
     "metadata": {
      "image/png": {
       "height": 420,
       "width": 420
      }
     },
     "output_type": "display_data"
    }
   ],
   "source": [
    "f2_data <- data[data$fertilizer == 2, ]\n",
    "head(f2_data)\n",
    "\n",
    "hist(f2_data$yield, freq = FALSE, xlab = 'Yield', breaks = 'Freedman-Diaconis', col = 'steelblue1',  \n",
    "    ylim = c(0, 0.8), main = \"Fertilizer 2\")\n",
    "lines(density(f2_data$yield), col = 'darkmagenta', lwd = 3)\n"
   ]
  },
  {
   "cell_type": "code",
   "execution_count": 7,
   "metadata": {
    "vscode": {
     "languageId": "r"
    }
   },
   "outputs": [
    {
     "data": {
      "image/png": "[encoded data removed]",
      "text/plain": [
       "Plot with title \"Fertilizer 3\""
      ]
     },
     "metadata": {
      "image/png": {
       "height": 420,
       "width": 420
      }
     },
     "output_type": "display_data"
    }
   ],
   "source": [
    "f3_data <- data[data$fertilizer == 3, ]\n",
    "\n",
    "hist(f3_data$yield, freq = FALSE, xlab = 'Yield', breaks = 'Freedman-Diaconis', col = 'yellow',  \n",
    "    ylim = c(0, 1.2), main = \"Fertilizer 3\")\n",
    "lines(density(f3_data$yield), col = 'steelblue1', lwd = 3)"
   ]
  },
  {
   "cell_type": "code",
   "execution_count": 8,
   "metadata": {
    "vscode": {
     "languageId": "r"
    }
   },
   "outputs": [
    {
     "data": {
      "text/html": [
       "0.603210014671371"
      ],
      "text/latex": [
       "0.603210014671371"
      ],
      "text/markdown": [
       "0.603210014671371"
      ],
      "text/plain": [
       "[1] 0.60321"
      ]
     },
     "metadata": {},
     "output_type": "display_data"
    },
    {
     "data": {
      "text/html": [
       "1.90466696537475"
      ],
      "text/latex": [
       "1.90466696537475"
      ],
      "text/markdown": [
       "1.90466696537475"
      ],
      "text/plain": [
       "[1] 1.904667"
      ]
     },
     "metadata": {},
     "output_type": "display_data"
    }
   ],
   "source": [
    "library(moments)\n",
    "skewness(f3_data$yield)\n",
    "kurtosis(f3_data$yield)"
   ]
  },
  {
   "attachments": {},
   "cell_type": "markdown",
   "metadata": {},
   "source": [
    "The resulting plots reveal that the data for the first and second fertilizer follows Gaussian distributions, whereas this is not the case for the third fertilizer. Instead, its skewness is positively skewed while its kurtosis value is within the normal range. This is likely due to the small sample size available for this fertilizer."
   ]
  },
  {
   "cell_type": "code",
   "execution_count": 43,
   "metadata": {
    "vscode": {
     "languageId": "r"
    }
   },
   "outputs": [
    {
     "data": {
      "image/png": "[encoded data removed]",
      "text/plain": [
       "plot without title"
      ]
     },
     "metadata": {
      "image/png": {
       "height": 420,
       "width": 420
      }
     },
     "output_type": "display_data"
    }
   ],
   "source": [
    "library(ggplot2)\n",
    "library(viridis)\n",
    "\n",
    "my_palette <- viridis_pal(option = \"plasma\")(5)\n",
    "\n",
    "ggplot(data, aes(x = factor(fertilizer), y = yield, fill = factor(fertilizer))) +\n",
    "  geom_boxplot() +\n",
    "  scale_fill_manual(values = my_palette) +\n",
    "  theme_minimal() +\n",
    "  theme(legend.position = \"none\") +\n",
    "  labs(title = \"Boxplot of Yield by Fertilizer\",\n",
    "       x = \"Fertilizer\",\n",
    "       y = \"Yield\")\n"
   ]
  }
 ],
 "metadata": {
  "kernelspec": {
   "display_name": "R",
   "language": "R",
   "name": "ir"
  },
  "language_info": {
   "codemirror_mode": "r",
   "file_extension": ".r",
   "mimetype": "text/x-r-source",
   "name": "R",
   "pygments_lexer": "r",
   "version": "4.2.2"
  },
  "orig_nbformat": 4
 },
 "nbformat": 4,
 "nbformat_minor": 2
}
